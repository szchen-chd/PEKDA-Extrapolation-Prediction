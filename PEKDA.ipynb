{
 "cells": [
  {
   "cell_type": "code",
   "execution_count": 1,
   "id": "danish-verification",
   "metadata": {},
   "outputs": [],
   "source": [
    "import time\n",
    "import pandas as pd\n",
    "import numpy as np\n",
    "from pandas import Series\n",
    "from sklearn.neural_network import MLPRegressor\n",
    "from matplotlib import pyplot as plt\n",
    "from sklearn.model_selection import train_test_split\n",
    "from sklearn.preprocessing import StandardScaler\n",
    "from sklearn.preprocessing import MinMaxScaler\n",
    "from sklearn.metrics import r2_score\n",
    "from sklearn.metrics import mean_squared_error\n",
    "from sklearn.metrics import mean_absolute_error \n",
    "import optuna \n",
    "from optuna import Trial, visualization\n",
    "from optuna.samplers import TPESampler\n",
    "import joblib\n",
    "from sklearn.model_selection import cross_val_score\n",
    "import xgboost as xgb\n",
    "import warnings\n",
    "warnings.filterwarnings('ignore')"
   ]
  },
  {
   "cell_type": "markdown",
   "id": "399b53dc",
   "metadata": {},
   "source": [
    " # Start"
   ]
  },
  {
   "cell_type": "code",
   "execution_count": 2,
   "id": "b7216377",
   "metadata": {},
   "outputs": [],
   "source": [
    "# read SCS data\n",
    "df = pd.read_csv('SCS_data.csv')\n",
    "Xs = df.iloc[:,1:20]\n",
    "ys = df.iloc[:,[0]]\n",
    "Xs_train, Xs_test, ys_train, ys_test = train_test_split(Xs, ys, test_size=0.2, random_state=5)\n",
    "Xn_train = Xs_train.iloc[:,0:9]\n",
    "Xn_test = Xs_test.iloc[:,0:9]\n",
    "Xo_train = Xs_train.iloc[:,9:]\n",
    "Xo_test = Xs_test.iloc[:,9:]"
   ]
  },
  {
   "cell_type": "code",
   "execution_count": 3,
   "id": "dc29ae5d",
   "metadata": {},
   "outputs": [],
   "source": [
    "# read EFS data\n",
    "df2 = pd.read_csv('EFS_data.csv')\n",
    "Xe = df2.iloc[:,1:10]\n",
    "ye = df2.iloc[:,[0]]\n",
    "Xe_train, Xe_test, ye_train, ye_test = train_test_split(Xe, ye, test_size=0.2, random_state=5)"
   ]
  },
  {
   "cell_type": "code",
   "execution_count": 4,
   "id": "fe94d6c8",
   "metadata": {},
   "outputs": [],
   "source": [
    "# read Entire data\n",
    "df3 = pd.read_csv('All_data.csv')\n",
    "Xoe = df3.iloc[:,1:11]\n",
    "yoe = df3.iloc[:,[0]]\n",
    "Xoe_train, Xoe_test, yoe_train, yoe_test = train_test_split(Xoe, yoe, test_size=0.2, random_state=5)"
   ]
  },
  {
   "cell_type": "markdown",
   "id": "98357b51",
   "metadata": {},
   "source": [
    "# M1 XGB"
   ]
  },
  {
   "cell_type": "code",
   "execution_count": 5,
   "id": "3851335b",
   "metadata": {},
   "outputs": [],
   "source": [
    "def objective(trial: Trial,X,y) -> float:    \n",
    "    param = {\n",
    "        'tree_method':'gpu_hist',  # this parameter means using the GPU when training our model to speedup the training process\n",
    "        'lambda': trial.suggest_float('lambda', 1e-3, 10.0),\n",
    "        'alpha': trial.suggest_float('alpha', 1e-3, 10.0),\n",
    "        'colsample_bytree': trial.suggest_categorical('colsample_bytree', [0.3,0.4,0.5,0.6,0.7,0.8,0.9,1.0]),\n",
    "        'subsample': trial.suggest_categorical('subsample', [0.4,0.5,0.6,0.7,0.8,1.0]),\n",
    "        'learning_rate': trial.suggest_float('learning_rate', 0.001,0.5),\n",
    "        'n_estimators': trial.suggest_int('n_estimators', 10, 1000),\n",
    "        'max_depth': trial.suggest_int('max_depth', 1,20),\n",
    "        'min_child_weight': trial.suggest_int('min_child_weight', 1, 300),\n",
    "    }\n",
    "    model = xgb.XGBRegressor(**param)    \n",
    "    model.fit(X,y,verbose=False)\n",
    "    return np.mean(-cross_val_score(model,X,y,cv=10,scoring='neg_mean_squared_error',n_jobs=-1))"
   ]
  },
  {
   "cell_type": "code",
   "execution_count": 6,
   "id": "70631786",
   "metadata": {
    "scrolled": true
   },
   "outputs": [
    {
     "name": "stderr",
     "output_type": "stream",
     "text": [
      "\u001b[32m[I 2024-04-08 12:07:10,155]\u001b[0m A new study created in memory with name: no-name-1e67150a-83fc-483e-82f3-786b4fe922c9\u001b[0m\n",
      "\u001b[32m[I 2024-04-08 12:07:30,341]\u001b[0m Trial 0 finished with value: 29893.127048728766 and parameters: {'lambda': 3.8044179845389583, 'alpha': 8.872932774843433, 'colsample_bytree': 0.3, 'subsample': 0.6, 'learning_rate': 0.4773441405160786, 'n_estimators': 895, 'max_depth': 13, 'min_child_weight': 201}. Best is trial 0 with value: 29893.127048728766.\u001b[0m\n",
      "\u001b[32m[I 2024-04-08 12:08:27,576]\u001b[0m Trial 1 finished with value: 29893.127048728766 and parameters: {'lambda': 5.8280136173984065, 'alpha': 6.067274262950857, 'colsample_bytree': 0.3, 'subsample': 0.8, 'learning_rate': 0.23697792827989164, 'n_estimators': 850, 'max_depth': 20, 'min_child_weight': 290}. Best is trial 0 with value: 29893.127048728766.\u001b[0m\n",
      "\u001b[32m[I 2024-04-08 12:08:32,540]\u001b[0m Trial 2 finished with value: 9994.977337639746 and parameters: {'lambda': 4.761769414660269, 'alpha': 6.8610832855752095, 'colsample_bytree': 0.7, 'subsample': 1.0, 'learning_rate': 0.2409405854022824, 'n_estimators': 360, 'max_depth': 16, 'min_child_weight': 36}. Best is trial 2 with value: 9994.977337639746.\u001b[0m\n",
      "\u001b[32m[I 2024-04-08 12:08:37,966]\u001b[0m Trial 3 finished with value: 17821.234657962654 and parameters: {'lambda': 5.671644321780192, 'alpha': 8.013512080168725, 'colsample_bytree': 0.9, 'subsample': 0.6, 'learning_rate': 0.2663682764275857, 'n_estimators': 427, 'max_depth': 16, 'min_child_weight': 48}. Best is trial 2 with value: 9994.977337639746.\u001b[0m\n",
      "\u001b[32m[I 2024-04-08 12:08:38,290]\u001b[0m Trial 4 finished with value: 29893.127048728766 and parameters: {'lambda': 0.1611045917229142, 'alpha': 0.8197087957608508, 'colsample_bytree': 0.5, 'subsample': 1.0, 'learning_rate': 0.34964953808049126, 'n_estimators': 13, 'max_depth': 3, 'min_child_weight': 177}. Best is trial 2 with value: 9994.977337639746.\u001b[0m\n",
      "\u001b[32m[I 2024-04-08 12:08:42,618]\u001b[0m Trial 5 finished with value: 13875.229145478788 and parameters: {'lambda': 9.724147518616501, 'alpha': 4.690147397780003, 'colsample_bytree': 1.0, 'subsample': 0.5, 'learning_rate': 0.48665079670127603, 'n_estimators': 63, 'max_depth': 20, 'min_child_weight': 35}. Best is trial 2 with value: 9994.977337639746.\u001b[0m\n",
      "\u001b[32m[I 2024-04-08 12:08:47,559]\u001b[0m Trial 6 finished with value: 29893.127048728766 and parameters: {'lambda': 1.5140163687348145, 'alpha': 6.097778749294524, 'colsample_bytree': 0.3, 'subsample': 0.5, 'learning_rate': 0.1431748290001409, 'n_estimators': 422, 'max_depth': 8, 'min_child_weight': 136}. Best is trial 2 with value: 9994.977337639746.\u001b[0m\n",
      "\u001b[32m[I 2024-04-08 12:08:52,707]\u001b[0m Trial 7 finished with value: 29893.127048728766 and parameters: {'lambda': 9.313761828761033, 'alpha': 8.822082164272118, 'colsample_bytree': 1.0, 'subsample': 0.5, 'learning_rate': 0.3176603492285878, 'n_estimators': 455, 'max_depth': 5, 'min_child_weight': 191}. Best is trial 2 with value: 9994.977337639746.\u001b[0m\n",
      "\u001b[32m[I 2024-04-08 12:09:02,810]\u001b[0m Trial 8 finished with value: 29893.127048728766 and parameters: {'lambda': 6.028973433462581, 'alpha': 2.424476428597819, 'colsample_bytree': 0.7, 'subsample': 0.7, 'learning_rate': 0.3429511510093068, 'n_estimators': 859, 'max_depth': 9, 'min_child_weight': 207}. Best is trial 2 with value: 9994.977337639746.\u001b[0m\n",
      "\u001b[32m[I 2024-04-08 12:09:03,718]\u001b[0m Trial 9 finished with value: 29893.127048728766 and parameters: {'lambda': 6.480351367997057, 'alpha': 8.414426082756496, 'colsample_bytree': 0.4, 'subsample': 1.0, 'learning_rate': 0.48698914966741996, 'n_estimators': 66, 'max_depth': 10, 'min_child_weight': 139}. Best is trial 2 with value: 9994.977337639746.\u001b[0m\n",
      "\u001b[32m[I 2024-04-08 12:09:11,573]\u001b[0m Trial 10 finished with value: 29842.55346728708 and parameters: {'lambda': 3.347958696880888, 'alpha': 3.8171279350023752, 'colsample_bytree': 0.7, 'subsample': 0.4, 'learning_rate': 0.0020725749550566663, 'n_estimators': 640, 'max_depth': 15, 'min_child_weight': 72}. Best is trial 2 with value: 9994.977337639746.\u001b[0m\n",
      "\u001b[32m[I 2024-04-08 12:09:28,294]\u001b[0m Trial 11 finished with value: 518.212189443115 and parameters: {'lambda': 9.693835476438998, 'alpha': 4.619112315507532, 'colsample_bytree': 1.0, 'subsample': 0.5, 'learning_rate': 0.14860096502368808, 'n_estimators': 238, 'max_depth': 20, 'min_child_weight': 5}. Best is trial 11 with value: 518.212189443115.\u001b[0m\n",
      "\u001b[32m[I 2024-04-08 12:09:39,985]\u001b[0m Trial 12 finished with value: 422.20895189742913 and parameters: {'lambda': 8.010605821922084, 'alpha': 6.522647815451372, 'colsample_bytree': 0.8, 'subsample': 1.0, 'learning_rate': 0.1255208906825832, 'n_estimators': 281, 'max_depth': 17, 'min_child_weight': 3}. Best is trial 12 with value: 422.20895189742913.\u001b[0m\n",
      "\u001b[32m[I 2024-04-08 12:09:44,437]\u001b[0m Trial 13 finished with value: 17768.575080588816 and parameters: {'lambda': 7.8453117489926285, 'alpha': 3.4328870130394415, 'colsample_bytree': 0.8, 'subsample': 0.8, 'learning_rate': 0.10568756351674383, 'n_estimators': 231, 'max_depth': 18, 'min_child_weight': 85}. Best is trial 12 with value: 422.20895189742913.\u001b[0m\n",
      "\u001b[32m[I 2024-04-08 12:09:48,579]\u001b[0m Trial 14 finished with value: 1119.286969621916 and parameters: {'lambda': 7.924677833447169, 'alpha': 6.869358115025811, 'colsample_bytree': 0.8, 'subsample': 0.4, 'learning_rate': 0.1268651876250984, 'n_estimators': 243, 'max_depth': 13, 'min_child_weight': 9}. Best is trial 12 with value: 422.20895189742913.\u001b[0m\n",
      "\u001b[32m[I 2024-04-08 12:10:09,563]\u001b[0m Trial 15 finished with value: 462.1625763305304 and parameters: {'lambda': 8.086072777348043, 'alpha': 4.838672242470654, 'colsample_bytree': 0.6, 'subsample': 0.7, 'learning_rate': 0.052422600181265655, 'n_estimators': 642, 'max_depth': 18, 'min_child_weight': 6}. Best is trial 12 with value: 422.20895189742913.\u001b[0m\n",
      "\u001b[32m[I 2024-04-08 12:10:16,683]\u001b[0m Trial 16 finished with value: 27920.610612102864 and parameters: {'lambda': 7.689049697202573, 'alpha': 1.2509127895483574, 'colsample_bytree': 0.6, 'subsample': 0.7, 'learning_rate': 0.012948282462217867, 'n_estimators': 639, 'max_depth': 13, 'min_child_weight': 101}. Best is trial 12 with value: 422.20895189742913.\u001b[0m\n",
      "\u001b[32m[I 2024-04-08 12:10:25,523]\u001b[0m Trial 17 finished with value: 29893.127048728766 and parameters: {'lambda': 8.603873087391914, 'alpha': 5.845186775745165, 'colsample_bytree': 0.6, 'subsample': 0.7, 'learning_rate': 0.057965198478378846, 'n_estimators': 629, 'max_depth': 17, 'min_child_weight': 286}. Best is trial 12 with value: 422.20895189742913.\u001b[0m\n",
      "\u001b[32m[I 2024-04-08 12:10:33,384]\u001b[0m Trial 18 finished with value: 17762.438000349837 and parameters: {'lambda': 7.282129881627732, 'alpha': 9.960633153377593, 'colsample_bytree': 0.8, 'subsample': 1.0, 'learning_rate': 0.19334904753334556, 'n_estimators': 736, 'max_depth': 14, 'min_child_weight': 99}. Best is trial 12 with value: 422.20895189742913.\u001b[0m\n",
      "\u001b[32m[I 2024-04-08 12:10:43,823]\u001b[0m Trial 19 finished with value: 29893.127048728766 and parameters: {'lambda': 6.8741801910887865, 'alpha': 2.5721027778772743, 'colsample_bytree': 0.6, 'subsample': 0.7, 'learning_rate': 0.07028652064289763, 'n_estimators': 556, 'max_depth': 18, 'min_child_weight': 253}. Best is trial 12 with value: 422.20895189742913.\u001b[0m\n",
      "\u001b[32m[I 2024-04-08 12:10:54,876]\u001b[0m Trial 20 finished with value: 17785.192707360333 and parameters: {'lambda': 8.762890782036118, 'alpha': 5.424990920201977, 'colsample_bytree': 0.9, 'subsample': 0.7, 'learning_rate': 0.06426206233474921, 'n_estimators': 974, 'max_depth': 11, 'min_child_weight': 61}. Best is trial 12 with value: 422.20895189742913.\u001b[0m\n",
      "\u001b[32m[I 2024-04-08 12:11:10,837]\u001b[0m Trial 21 finished with value: 475.5219051881712 and parameters: {'lambda': 9.56248471613884, 'alpha': 4.595241875589526, 'colsample_bytree': 1.0, 'subsample': 0.5, 'learning_rate': 0.16070978583528756, 'n_estimators': 235, 'max_depth': 20, 'min_child_weight': 3}. Best is trial 12 with value: 422.20895189742913.\u001b[0m\n",
      "\u001b[32m[I 2024-04-08 12:11:21,644]\u001b[0m Trial 22 finished with value: 515.9857694177231 and parameters: {'lambda': 8.690148562728957, 'alpha': 4.08345027233222, 'colsample_bytree': 0.5, 'subsample': 1.0, 'learning_rate': 0.18032110979166516, 'n_estimators': 313, 'max_depth': 18, 'min_child_weight': 6}. Best is trial 12 with value: 422.20895189742913.\u001b[0m\n"
     ]
    },
    {
     "name": "stderr",
     "output_type": "stream",
     "text": [
      "\u001b[32m[I 2024-04-08 12:11:28,247]\u001b[0m Trial 23 finished with value: 9977.031092906507 and parameters: {'lambda': 9.908956167027828, 'alpha': 7.053496547402437, 'colsample_bytree': 0.8, 'subsample': 0.5, 'learning_rate': 0.08803059787333498, 'n_estimators': 203, 'max_depth': 19, 'min_child_weight': 31}. Best is trial 12 with value: 422.20895189742913.\u001b[0m\n",
      "\u001b[32m[I 2024-04-08 12:11:30,264]\u001b[0m Trial 24 finished with value: 9941.08370157923 and parameters: {'lambda': 8.43216160665114, 'alpha': 3.205183722889366, 'colsample_bytree': 0.4, 'subsample': 0.4, 'learning_rate': 0.17863933165589385, 'n_estimators': 152, 'max_depth': 16, 'min_child_weight': 25}. Best is trial 12 with value: 422.20895189742913.\u001b[0m\n",
      "\u001b[32m[I 2024-04-08 12:11:47,866]\u001b[0m Trial 25 finished with value: 431.87630237719367 and parameters: {'lambda': 4.378745461012727, 'alpha': 4.996735464027578, 'colsample_bytree': 0.6, 'subsample': 0.8, 'learning_rate': 0.03656362755126848, 'n_estimators': 326, 'max_depth': 18, 'min_child_weight': 1}. Best is trial 12 with value: 422.20895189742913.\u001b[0m\n",
      "\u001b[32m[I 2024-04-08 12:11:54,118]\u001b[0m Trial 26 finished with value: 29893.127048728766 and parameters: {'lambda': 4.635760530128217, 'alpha': 7.380450769108724, 'colsample_bytree': 0.6, 'subsample': 0.8, 'learning_rate': 0.0389791361316372, 'n_estimators': 537, 'max_depth': 15, 'min_child_weight': 116}. Best is trial 12 with value: 422.20895189742913.\u001b[0m\n",
      "\u001b[32m[I 2024-04-08 12:11:57,839]\u001b[0m Trial 27 finished with value: 17778.389838376526 and parameters: {'lambda': 3.190920522290849, 'alpha': 5.191359620349678, 'colsample_bytree': 0.6, 'subsample': 0.8, 'learning_rate': 0.10960174218426319, 'n_estimators': 331, 'max_depth': 1, 'min_child_weight': 60}. Best is trial 12 with value: 422.20895189742913.\u001b[0m\n",
      "\u001b[32m[I 2024-04-08 12:12:06,410]\u001b[0m Trial 28 finished with value: 6091.34407908452 and parameters: {'lambda': 1.9585954169545294, 'alpha': 6.215344365633416, 'colsample_bytree': 0.6, 'subsample': 0.8, 'learning_rate': 0.028528930636230174, 'n_estimators': 728, 'max_depth': 7, 'min_child_weight': 25}. Best is trial 12 with value: 422.20895189742913.\u001b[0m\n",
      "\u001b[32m[I 2024-04-08 12:12:15,922]\u001b[0m Trial 29 finished with value: 17731.69506510362 and parameters: {'lambda': 4.049022612703968, 'alpha': 2.0661318327386407, 'colsample_bytree': 0.6, 'subsample': 0.6, 'learning_rate': 0.4275717655823137, 'n_estimators': 756, 'max_depth': 12, 'min_child_weight': 80}. Best is trial 12 with value: 422.20895189742913.\u001b[0m\n",
      "\u001b[32m[I 2024-04-08 12:12:22,881]\u001b[0m Trial 30 finished with value: 17736.95091501524 and parameters: {'lambda': 5.212598314615426, 'alpha': 7.793087709980472, 'colsample_bytree': 0.8, 'subsample': 0.6, 'learning_rate': 0.0841316480276138, 'n_estimators': 492, 'max_depth': 17, 'min_child_weight': 51}. Best is trial 12 with value: 422.20895189742913.\u001b[0m\n",
      "\u001b[32m[I 2024-04-08 12:12:31,840]\u001b[0m Trial 31 finished with value: 484.3325179739677 and parameters: {'lambda': 6.778830474696761, 'alpha': 4.496974693722392, 'colsample_bytree': 1.0, 'subsample': 0.5, 'learning_rate': 0.15924422069882627, 'n_estimators': 151, 'max_depth': 19, 'min_child_weight': 1}. Best is trial 12 with value: 422.20895189742913.\u001b[0m\n",
      "\u001b[32m[I 2024-04-08 12:12:55,155]\u001b[0m Trial 32 finished with value: 4731.885773268741 and parameters: {'lambda': 9.206977156540036, 'alpha': 5.299241429189295, 'colsample_bytree': 0.3, 'subsample': 0.8, 'learning_rate': 0.199627686250875, 'n_estimators': 364, 'max_depth': 20, 'min_child_weight': 25}. Best is trial 12 with value: 422.20895189742913.\u001b[0m\n",
      "\u001b[32m[I 2024-04-08 12:13:13,535]\u001b[0m Trial 33 finished with value: 423.62862274781185 and parameters: {'lambda': 7.34268344874525, 'alpha': 6.4312560912301, 'colsample_bytree': 1.0, 'subsample': 1.0, 'learning_rate': 0.04296574236256699, 'n_estimators': 289, 'max_depth': 17, 'min_child_weight': 1}. Best is trial 12 with value: 422.20895189742913.\u001b[0m\n",
      "\u001b[32m[I 2024-04-08 12:13:17,377]\u001b[0m Trial 34 finished with value: 12507.435767624085 and parameters: {'lambda': 6.139086940904672, 'alpha': 6.45165117075191, 'colsample_bytree': 0.9, 'subsample': 1.0, 'learning_rate': 0.04795816112107302, 'n_estimators': 293, 'max_depth': 15, 'min_child_weight': 44}. Best is trial 12 with value: 422.20895189742913.\u001b[0m\n",
      "\u001b[32m[I 2024-04-08 12:13:20,831]\u001b[0m Trial 35 finished with value: 2850.210684723116 and parameters: {'lambda': 5.042655110127461, 'alpha': 5.7366967075833255, 'colsample_bytree': 0.5, 'subsample': 1.0, 'learning_rate': 0.03297241165925828, 'n_estimators': 156, 'max_depth': 17, 'min_child_weight': 20}. Best is trial 12 with value: 422.20895189742913.\u001b[0m\n",
      "\u001b[32m[I 2024-04-08 12:13:25,506]\u001b[0m Trial 36 finished with value: 11866.749025942616 and parameters: {'lambda': 7.267312113793941, 'alpha': 7.438414908275271, 'colsample_bytree': 0.6, 'subsample': 1.0, 'learning_rate': 0.11218350906876354, 'n_estimators': 388, 'max_depth': 14, 'min_child_weight': 44}. Best is trial 12 with value: 422.20895189742913.\u001b[0m\n",
      "\u001b[32m[I 2024-04-08 12:13:35,756]\u001b[0m Trial 37 finished with value: 17762.379416623797 and parameters: {'lambda': 3.9760285983260713, 'alpha': 0.16240330807754777, 'colsample_bytree': 1.0, 'subsample': 1.0, 'learning_rate': 0.23080127292477115, 'n_estimators': 295, 'max_depth': 19, 'min_child_weight': 64}. Best is trial 12 with value: 422.20895189742913.\u001b[0m\n",
      "\u001b[32m[I 2024-04-08 12:13:45,849]\u001b[0m Trial 38 finished with value: 13929.670961976371 and parameters: {'lambda': 5.6494266952823455, 'alpha': 6.289676839062393, 'colsample_bytree': 0.4, 'subsample': 1.0, 'learning_rate': 0.0013377821401646187, 'n_estimators': 471, 'max_depth': 17, 'min_child_weight': 16}. Best is trial 12 with value: 422.20895189742913.\u001b[0m\n",
      "\u001b[32m[I 2024-04-08 12:13:51,525]\u001b[0m Trial 39 finished with value: 29893.127048728766 and parameters: {'lambda': 2.437074303978755, 'alpha': 5.0824405478202115, 'colsample_bytree': 0.3, 'subsample': 0.7, 'learning_rate': 0.26922494031577754, 'n_estimators': 399, 'max_depth': 16, 'min_child_weight': 229}. Best is trial 12 with value: 422.20895189742913.\u001b[0m\n",
      "\u001b[32m[I 2024-04-08 12:13:52,722]\u001b[0m Trial 40 finished with value: 29893.127048728766 and parameters: {'lambda': 8.121206879041122, 'alpha': 6.653638722397571, 'colsample_bytree': 0.7, 'subsample': 0.8, 'learning_rate': 0.08825183081216242, 'n_estimators': 73, 'max_depth': 14, 'min_child_weight': 161}. Best is trial 12 with value: 422.20895189742913.\u001b[0m\n",
      "\u001b[32m[I 2024-04-08 12:14:06,400]\u001b[0m Trial 41 finished with value: 17634.186707878376 and parameters: {'lambda': 9.39031000476518, 'alpha': 3.8549158652968885, 'colsample_bytree': 1.0, 'subsample': 0.5, 'learning_rate': 0.13522702941645257, 'n_estimators': 194, 'max_depth': 20, 'min_child_weight': 39}. Best is trial 12 with value: 422.20895189742913.\u001b[0m\n",
      "\u001b[32m[I 2024-04-08 12:14:22,163]\u001b[0m Trial 42 finished with value: 436.1137357835278 and parameters: {'lambda': 7.324500142603585, 'alpha': 4.319641649981545, 'colsample_bytree': 1.0, 'subsample': 0.6, 'learning_rate': 0.07409121644498595, 'n_estimators': 272, 'max_depth': 18, 'min_child_weight': 1}. Best is trial 12 with value: 422.20895189742913.\u001b[0m\n",
      "\u001b[32m[I 2024-04-08 12:14:30,390]\u001b[0m Trial 43 finished with value: 2327.1624412642805 and parameters: {'lambda': 7.352796107423946, 'alpha': 5.713668420652088, 'colsample_bytree': 1.0, 'subsample': 0.6, 'learning_rate': 0.026564755086536815, 'n_estimators': 344, 'max_depth': 18, 'min_child_weight': 16}. Best is trial 12 with value: 422.20895189742913.\u001b[0m\n",
      "\u001b[32m[I 2024-04-08 12:14:54,639]\u001b[0m Trial 44 finished with value: 417.4045465079856 and parameters: {'lambda': 6.44650310499873, 'alpha': 4.142472849559086, 'colsample_bytree': 1.0, 'subsample': 0.6, 'learning_rate': 0.062337015276971705, 'n_estimators': 583, 'max_depth': 16, 'min_child_weight': 2}. Best is trial 44 with value: 417.4045465079856.\u001b[0m\n",
      "\u001b[32m[I 2024-04-08 12:14:59,992]\u001b[0m Trial 45 finished with value: 9812.68659064704 and parameters: {'lambda': 6.393808378364476, 'alpha': 3.0389389046740813, 'colsample_bytree': 1.0, 'subsample': 0.6, 'learning_rate': 0.08733086980556203, 'n_estimators': 437, 'max_depth': 16, 'min_child_weight': 36}. Best is trial 44 with value: 417.4045465079856.\u001b[0m\n"
     ]
    },
    {
     "name": "stderr",
     "output_type": "stream",
     "text": [
      "\u001b[32m[I 2024-04-08 12:15:06,970]\u001b[0m Trial 46 finished with value: 17782.65589864769 and parameters: {'lambda': 5.459489716787038, 'alpha': 4.1205215499921914, 'colsample_bytree': 1.0, 'subsample': 0.6, 'learning_rate': 0.11147312374173002, 'n_estimators': 576, 'max_depth': 15, 'min_child_weight': 53}. Best is trial 44 with value: 417.4045465079856.\u001b[0m\n",
      "\u001b[32m[I 2024-04-08 12:15:17,367]\u001b[0m Trial 47 finished with value: 1888.3147226948397 and parameters: {'lambda': 4.428975244312398, 'alpha': 4.2473939763383886, 'colsample_bytree': 1.0, 'subsample': 0.6, 'learning_rate': 0.07147057913359242, 'n_estimators': 280, 'max_depth': 19, 'min_child_weight': 15}. Best is trial 44 with value: 417.4045465079856.\u001b[0m\n",
      "\u001b[32m[I 2024-04-08 12:15:19,118]\u001b[0m Trial 48 finished with value: 8769.417197176796 and parameters: {'lambda': 7.004165956375705, 'alpha': 3.6363654415072304, 'colsample_bytree': 1.0, 'subsample': 0.6, 'learning_rate': 0.409805406153331, 'n_estimators': 106, 'max_depth': 17, 'min_child_weight': 33}. Best is trial 44 with value: 417.4045465079856.\u001b[0m\n",
      "\u001b[32m[I 2024-04-08 12:15:30,224]\u001b[0m Trial 49 finished with value: 464.5337458078019 and parameters: {'lambda': 6.074400984536482, 'alpha': 8.667953662996787, 'colsample_bytree': 0.8, 'subsample': 0.6, 'learning_rate': 0.13064169513170457, 'n_estimators': 410, 'max_depth': 5, 'min_child_weight': 1}. Best is trial 44 with value: 417.4045465079856.\u001b[0m\n",
      "\u001b[32m[I 2024-04-08 12:15:33,617]\u001b[0m Trial 50 finished with value: 29893.127048728766 and parameters: {'lambda': 7.657181567657447, 'alpha': 2.7421292027563418, 'colsample_bytree': 1.0, 'subsample': 0.4, 'learning_rate': 0.019434277830941798, 'n_estimators': 266, 'max_depth': 12, 'min_child_weight': 75}. Best is trial 44 with value: 417.4045465079856.\u001b[0m\n",
      "\u001b[32m[I 2024-04-08 12:15:48,290]\u001b[0m Trial 51 finished with value: 1607.0129723155756 and parameters: {'lambda': 0.5819681453907286, 'alpha': 4.8869435016886795, 'colsample_bytree': 0.6, 'subsample': 0.7, 'learning_rate': 0.0504563664239045, 'n_estimators': 610, 'max_depth': 18, 'min_child_weight': 13}. Best is trial 44 with value: 417.4045465079856.\u001b[0m\n",
      "\u001b[32m[I 2024-04-08 12:16:00,284]\u001b[0m Trial 52 finished with value: 2416.966408122972 and parameters: {'lambda': 8.276077846535697, 'alpha': 4.914807822035587, 'colsample_bytree': 0.7, 'subsample': 1.0, 'learning_rate': 0.04062273731312888, 'n_estimators': 684, 'max_depth': 16, 'min_child_weight': 19}. Best is trial 44 with value: 417.4045465079856.\u001b[0m\n",
      "\u001b[32m[I 2024-04-08 12:16:41,384]\u001b[0m Trial 53 finished with value: 465.2671940439618 and parameters: {'lambda': 6.590520809402395, 'alpha': 5.638777268093821, 'colsample_bytree': 0.5, 'subsample': 0.6, 'learning_rate': 0.06441029515622175, 'n_estimators': 789, 'max_depth': 19, 'min_child_weight': 1}. Best is trial 44 with value: 417.4045465079856.\u001b[0m\n",
      "\u001b[32m[I 2024-04-08 12:16:56,312]\u001b[0m Trial 54 finished with value: 7366.675616249917 and parameters: {'lambda': 8.926102537024772, 'alpha': 4.329373106220964, 'colsample_bytree': 0.9, 'subsample': 0.7, 'learning_rate': 0.006242509575567681, 'n_estimators': 687, 'max_depth': 18, 'min_child_weight': 28}. Best is trial 44 with value: 417.4045465079856.\u001b[0m\n",
      "\u001b[32m[I 2024-04-08 12:17:09,706]\u001b[0m Trial 55 finished with value: 802.7892105199835 and parameters: {'lambda': 7.644830936332651, 'alpha': 3.535435780528628, 'colsample_bytree': 0.8, 'subsample': 1.0, 'learning_rate': 0.10233593567708404, 'n_estimators': 497, 'max_depth': 17, 'min_child_weight': 11}. Best is trial 44 with value: 417.4045465079856.\u001b[0m\n",
      "\u001b[32m[I 2024-04-08 12:17:16,743]\u001b[0m Trial 56 finished with value: 9573.981720175896 and parameters: {'lambda': 8.088651819578612, 'alpha': 7.065097591329076, 'colsample_bytree': 0.6, 'subsample': 0.8, 'learning_rate': 0.07585498681687282, 'n_estimators': 539, 'max_depth': 16, 'min_child_weight': 39}. Best is trial 44 with value: 417.4045465079856.\u001b[0m\n",
      "\u001b[32m[I 2024-04-08 12:17:24,411]\u001b[0m Trial 57 finished with value: 17795.77024783908 and parameters: {'lambda': 3.263023732270626, 'alpha': 6.065166605521007, 'colsample_bytree': 0.4, 'subsample': 0.7, 'learning_rate': 0.05694375944002731, 'n_estimators': 373, 'max_depth': 18, 'min_child_weight': 91}. Best is trial 44 with value: 417.4045465079856.\u001b[0m\n",
      "\u001b[32m[I 2024-04-08 12:17:31,005]\u001b[0m Trial 58 finished with value: 17762.405165313306 and parameters: {'lambda': 7.243198097845379, 'alpha': 4.711909151693135, 'colsample_bytree': 1.0, 'subsample': 1.0, 'learning_rate': 0.09712642874660904, 'n_estimators': 188, 'max_depth': 19, 'min_child_weight': 112}. Best is trial 44 with value: 417.4045465079856.\u001b[0m\n",
      "\u001b[32m[I 2024-04-08 12:17:39,342]\u001b[0m Trial 59 finished with value: 1497.4897125236714 and parameters: {'lambda': 6.231947870748006, 'alpha': 5.459794240532207, 'colsample_bytree': 0.3, 'subsample': 0.4, 'learning_rate': 0.12312280895287209, 'n_estimators': 597, 'max_depth': 14, 'min_child_weight': 11}. Best is trial 44 with value: 417.4045465079856.\u001b[0m\n",
      "\u001b[32m[I 2024-04-08 12:17:39,731]\u001b[0m Trial 60 finished with value: 9362.470780016705 and parameters: {'lambda': 9.043191121994981, 'alpha': 2.1024504443971472, 'colsample_bytree': 0.8, 'subsample': 0.6, 'learning_rate': 0.29013753643522966, 'n_estimators': 11, 'max_depth': 15, 'min_child_weight': 28}. Best is trial 44 with value: 417.4045465079856.\u001b[0m\n",
      "\u001b[32m[I 2024-04-08 12:17:48,562]\u001b[0m Trial 61 finished with value: 481.12798239602546 and parameters: {'lambda': 6.829489694937475, 'alpha': 9.39919088027277, 'colsample_bytree': 0.8, 'subsample': 0.6, 'learning_rate': 0.14801112159459753, 'n_estimators': 321, 'max_depth': 5, 'min_child_weight': 2}. Best is trial 44 with value: 417.4045465079856.\u001b[0m\n",
      "\u001b[32m[I 2024-04-08 12:18:02,430]\u001b[0m Trial 62 finished with value: 452.64196003064626 and parameters: {'lambda': 5.727027711876659, 'alpha': 7.957801717101312, 'colsample_bytree': 0.8, 'subsample': 0.6, 'learning_rate': 0.12614688798561874, 'n_estimators': 413, 'max_depth': 9, 'min_child_weight': 2}. Best is trial 44 with value: 417.4045465079856.\u001b[0m\n",
      "\u001b[32m[I 2024-04-08 12:18:08,651]\u001b[0m Trial 63 finished with value: 5051.583936365851 and parameters: {'lambda': 5.695140909551111, 'alpha': 7.781057803228105, 'colsample_bytree': 0.8, 'subsample': 0.6, 'learning_rate': 0.019600861530529458, 'n_estimators': 457, 'max_depth': 10, 'min_child_weight': 21}. Best is trial 44 with value: 417.4045465079856.\u001b[0m\n",
      "\u001b[32m[I 2024-04-08 12:18:14,388]\u001b[0m Trial 64 finished with value: 832.5137689841864 and parameters: {'lambda': 4.68676707014041, 'alpha': 8.252174716957697, 'colsample_bytree': 0.6, 'subsample': 0.8, 'learning_rate': 0.047282563870284344, 'n_estimators': 256, 'max_depth': 8, 'min_child_weight': 10}. Best is trial 44 with value: 417.4045465079856.\u001b[0m\n",
      "\u001b[32m[I 2024-04-08 12:18:18,434]\u001b[0m Trial 65 finished with value: 17644.137150570536 and parameters: {'lambda': 5.270703991643617, 'alpha': 3.883821647108919, 'colsample_bytree': 0.8, 'subsample': 0.6, 'learning_rate': 0.22594839979159323, 'n_estimators': 347, 'max_depth': 7, 'min_child_weight': 54}. Best is trial 44 with value: 417.4045465079856.\u001b[0m\n",
      "\u001b[32m[I 2024-04-08 12:18:25,409]\u001b[0m Trial 66 finished with value: 29893.127048728766 and parameters: {'lambda': 7.54128186858895, 'alpha': 5.982694126839811, 'colsample_bytree': 1.0, 'subsample': 1.0, 'learning_rate': 0.073953166077773, 'n_estimators': 677, 'max_depth': 9, 'min_child_weight': 192}. Best is trial 44 with value: 417.4045465079856.\u001b[0m\n",
      "\u001b[32m[I 2024-04-08 12:18:31,606]\u001b[0m Trial 67 finished with value: 29893.127048728766 and parameters: {'lambda': 7.91900106032793, 'alpha': 9.1597607847958, 'colsample_bytree': 0.6, 'subsample': 0.7, 'learning_rate': 0.037206198098352655, 'n_estimators': 530, 'max_depth': 11, 'min_child_weight': 281}. Best is trial 44 with value: 417.4045465079856.\u001b[0m\n",
      "\u001b[32m[I 2024-04-08 12:18:35,202]\u001b[0m Trial 68 finished with value: 6553.230742272388 and parameters: {'lambda': 7.072485555288052, 'alpha': 6.6142305137363255, 'colsample_bytree': 0.9, 'subsample': 0.6, 'learning_rate': 0.16130754839298989, 'n_estimators': 226, 'max_depth': 17, 'min_child_weight': 26}. Best is trial 44 with value: 417.4045465079856.\u001b[0m\n",
      "\u001b[32m[I 2024-04-08 12:18:41,095]\u001b[0m Trial 69 finished with value: 17760.013643771264 and parameters: {'lambda': 8.447717988614826, 'alpha': 5.2056245122365485, 'colsample_bytree': 0.8, 'subsample': 0.8, 'learning_rate': 0.058497433495681136, 'n_estimators': 428, 'max_depth': 9, 'min_child_weight': 68}. Best is trial 44 with value: 417.4045465079856.\u001b[0m\n"
     ]
    },
    {
     "name": "stderr",
     "output_type": "stream",
     "text": [
      "\u001b[32m[I 2024-04-08 12:19:00,734]\u001b[0m Trial 70 finished with value: 12296.017570855412 and parameters: {'lambda': 6.528042505748838, 'alpha': 7.384450154962746, 'colsample_bytree': 0.5, 'subsample': 1.0, 'learning_rate': 0.09063559047443824, 'n_estimators': 291, 'max_depth': 20, 'min_child_weight': 44}. Best is trial 44 with value: 417.4045465079856.\u001b[0m\n",
      "\u001b[32m[I 2024-04-08 12:19:12,944]\u001b[0m Trial 71 finished with value: 440.41868808221955 and parameters: {'lambda': 4.965314224804769, 'alpha': 8.893959338008608, 'colsample_bytree': 0.8, 'subsample': 0.6, 'learning_rate': 0.12099586442881333, 'n_estimators': 380, 'max_depth': 6, 'min_child_weight': 1}. Best is trial 44 with value: 417.4045465079856.\u001b[0m\n",
      "\u001b[32m[I 2024-04-08 12:19:18,186]\u001b[0m Trial 72 finished with value: 636.7796723959248 and parameters: {'lambda': 4.406801517856343, 'alpha': 9.86149167892495, 'colsample_bytree': 0.8, 'subsample': 0.6, 'learning_rate': 0.11429791632817886, 'n_estimators': 323, 'max_depth': 3, 'min_child_weight': 7}. Best is trial 44 with value: 417.4045465079856.\u001b[0m\n",
      "\u001b[32m[I 2024-04-08 12:19:22,819]\u001b[0m Trial 73 finished with value: 2587.96030357231 and parameters: {'lambda': 5.876369391534069, 'alpha': 8.087187083832427, 'colsample_bytree': 0.8, 'subsample': 0.6, 'learning_rate': 0.17465806215479696, 'n_estimators': 375, 'max_depth': 7, 'min_child_weight': 20}. Best is trial 44 with value: 417.4045465079856.\u001b[0m\n",
      "\u001b[32m[I 2024-04-08 12:19:36,473]\u001b[0m Trial 74 finished with value: 414.98357210973546 and parameters: {'lambda': 4.860539796626346, 'alpha': 8.43037072920652, 'colsample_bytree': 0.7, 'subsample': 0.6, 'learning_rate': 0.13803107601743198, 'n_estimators': 468, 'max_depth': 6, 'min_child_weight': 1}. Best is trial 74 with value: 414.98357210973546.\u001b[0m\n",
      "\u001b[32m[I 2024-04-08 12:19:41,076]\u001b[0m Trial 75 finished with value: 8937.158970164708 and parameters: {'lambda': 4.855307795325491, 'alpha': 8.453824965699036, 'colsample_bytree': 0.7, 'subsample': 0.6, 'learning_rate': 0.14292151451991347, 'n_estimators': 402, 'max_depth': 6, 'min_child_weight': 34}. Best is trial 74 with value: 414.98357210973546.\u001b[0m\n",
      "\u001b[32m[I 2024-04-08 12:19:48,742]\u001b[0m Trial 76 finished with value: 709.3314821886462 and parameters: {'lambda': 4.159661554993731, 'alpha': 8.948683062262228, 'colsample_bytree': 0.7, 'subsample': 0.6, 'learning_rate': 0.10373695864630264, 'n_estimators': 489, 'max_depth': 3, 'min_child_weight': 8}. Best is trial 74 with value: 414.98357210973546.\u001b[0m\n",
      "\u001b[32m[I 2024-04-08 12:19:54,690]\u001b[0m Trial 77 finished with value: 1613.5445926197697 and parameters: {'lambda': 3.757637350813062, 'alpha': 7.701507075345916, 'colsample_bytree': 0.7, 'subsample': 0.6, 'learning_rate': 0.131537032917042, 'n_estimators': 431, 'max_depth': 4, 'min_child_weight': 16}. Best is trial 74 with value: 414.98357210973546.\u001b[0m\n",
      "\u001b[32m[I 2024-04-08 12:19:57,133]\u001b[0m Trial 78 finished with value: 29893.127048728766 and parameters: {'lambda': 3.6900514222920227, 'alpha': 7.0140318435117495, 'colsample_bytree': 1.0, 'subsample': 0.6, 'learning_rate': 0.2119941526880768, 'n_estimators': 219, 'max_depth': 8, 'min_child_weight': 161}. Best is trial 74 with value: 414.98357210973546.\u001b[0m\n",
      "\u001b[32m[I 2024-04-08 12:20:04,802]\u001b[0m Trial 79 finished with value: 757.2979041709491 and parameters: {'lambda': 5.078544432515914, 'alpha': 9.513105186197262, 'colsample_bytree': 0.8, 'subsample': 0.6, 'learning_rate': 0.16689927328416032, 'n_estimators': 354, 'max_depth': 6, 'min_child_weight': 8}. Best is trial 74 with value: 414.98357210973546.\u001b[0m\n",
      "\u001b[32m[I 2024-04-08 12:20:19,401]\u001b[0m Trial 80 finished with value: 452.16339870157583 and parameters: {'lambda': 5.434834636969349, 'alpha': 8.753916005990408, 'colsample_bytree': 0.7, 'subsample': 0.4, 'learning_rate': 0.12109248330884827, 'n_estimators': 520, 'max_depth': 6, 'min_child_weight': 1}. Best is trial 74 with value: 414.98357210973546.\u001b[0m\n",
      "\u001b[32m[I 2024-04-08 12:20:33,962]\u001b[0m Trial 81 finished with value: 451.280690481581 and parameters: {'lambda': 5.49119649086096, 'alpha': 8.61609814599412, 'colsample_bytree': 0.7, 'subsample': 0.4, 'learning_rate': 0.12121513160121385, 'n_estimators': 520, 'max_depth': 6, 'min_child_weight': 1}. Best is trial 74 with value: 414.98357210973546.\u001b[0m\n",
      "\u001b[32m[I 2024-04-08 12:20:39,938]\u001b[0m Trial 82 finished with value: 7603.695080543129 and parameters: {'lambda': 5.265512642525024, 'alpha': 8.613557748466167, 'colsample_bytree': 0.7, 'subsample': 0.4, 'learning_rate': 0.08004896131168304, 'n_estimators': 521, 'max_depth': 6, 'min_child_weight': 22}. Best is trial 74 with value: 414.98357210973546.\u001b[0m\n",
      "\u001b[32m[I 2024-04-08 12:20:46,230]\u001b[0m Trial 83 finished with value: 1659.462254005554 and parameters: {'lambda': 4.365253828163965, 'alpha': 9.07170859308835, 'colsample_bytree': 0.7, 'subsample': 0.4, 'learning_rate': 0.14637557163713494, 'n_estimators': 476, 'max_depth': 5, 'min_child_weight': 13}. Best is trial 74 with value: 414.98357210973546.\u001b[0m\n",
      "\u001b[32m[I 2024-04-08 12:20:57,927]\u001b[0m Trial 84 finished with value: 485.09976740908803 and parameters: {'lambda': 5.519296488933073, 'alpha': 9.606575291120802, 'colsample_bytree': 0.7, 'subsample': 0.4, 'learning_rate': 0.18790933702087442, 'n_estimators': 574, 'max_depth': 4, 'min_child_weight': 1}. Best is trial 74 with value: 414.98357210973546.\u001b[0m\n",
      "\u001b[32m[I 2024-04-08 12:21:03,341]\u001b[0m Trial 85 finished with value: 17559.5358413685 and parameters: {'lambda': 4.833527555593583, 'alpha': 8.307717983371317, 'colsample_bytree': 0.7, 'subsample': 0.4, 'learning_rate': 0.11693667768667686, 'n_estimators': 456, 'max_depth': 6, 'min_child_weight': 32}. Best is trial 74 with value: 414.98357210973546.\u001b[0m\n",
      "\u001b[32m[I 2024-04-08 12:21:07,296]\u001b[0m Trial 86 finished with value: 6954.571736256454 and parameters: {'lambda': 5.997714727898949, 'alpha': 9.25475306865309, 'colsample_bytree': 0.7, 'subsample': 0.4, 'learning_rate': 0.06564762200125411, 'n_estimators': 307, 'max_depth': 7, 'min_child_weight': 20}. Best is trial 74 with value: 414.98357210973546.\u001b[0m\n",
      "\u001b[32m[I 2024-04-08 12:21:11,843]\u001b[0m Trial 87 finished with value: 1378.5102846788816 and parameters: {'lambda': 5.3716515567947, 'alpha': 4.5044982098195625, 'colsample_bytree': 0.7, 'subsample': 0.4, 'learning_rate': 0.09733265310479322, 'n_estimators': 264, 'max_depth': 5, 'min_child_weight': 10}. Best is trial 74 with value: 414.98357210973546.\u001b[0m\n",
      "\u001b[32m[I 2024-04-08 12:21:17,369]\u001b[0m Trial 88 finished with value: 29893.127048728766 and parameters: {'lambda': 6.3037737014863175, 'alpha': 8.611736071225762, 'colsample_bytree': 1.0, 'subsample': 0.5, 'learning_rate': 0.026511029977079048, 'n_estimators': 519, 'max_depth': 4, 'min_child_weight': 139}. Best is trial 74 with value: 414.98357210973546.\u001b[0m\n",
      "\u001b[32m[I 2024-04-08 12:21:23,727]\u001b[0m Trial 89 finished with value: 17923.07720157147 and parameters: {'lambda': 6.698399523479609, 'alpha': 8.963416606304751, 'colsample_bytree': 0.3, 'subsample': 0.4, 'learning_rate': 0.3452193195056868, 'n_estimators': 568, 'max_depth': 7, 'min_child_weight': 40}. Best is trial 74 with value: 414.98357210973546.\u001b[0m\n",
      "\u001b[32m[I 2024-04-08 12:21:25,881]\u001b[0m Trial 90 finished with value: 29893.127048728766 and parameters: {'lambda': 3.550144693135846, 'alpha': 9.738815526280069, 'colsample_bytree': 0.4, 'subsample': 1.0, 'learning_rate': 0.13815501163076074, 'n_estimators': 167, 'max_depth': 16, 'min_child_weight': 223}. Best is trial 74 with value: 414.98357210973546.\u001b[0m\n",
      "\u001b[32m[I 2024-04-08 12:21:30,403]\u001b[0m Trial 91 finished with value: 567.0639194241217 and parameters: {'lambda': 5.7168533408282025, 'alpha': 8.783976927938697, 'colsample_bytree': 0.7, 'subsample': 0.8, 'learning_rate': 0.12194996697768479, 'n_estimators': 396, 'max_depth': 1, 'min_child_weight': 1}. Best is trial 74 with value: 414.98357210973546.\u001b[0m\n",
      "\u001b[32m[I 2024-04-08 12:21:43,505]\u001b[0m Trial 92 finished with value: 626.7739209443095 and parameters: {'lambda': 2.9620111019829944, 'alpha': 7.929287355235335, 'colsample_bytree': 1.0, 'subsample': 0.6, 'learning_rate': 0.09496767023304226, 'n_estimators': 555, 'max_depth': 8, 'min_child_weight': 7}. Best is trial 74 with value: 414.98357210973546.\u001b[0m\n",
      "\u001b[32m[I 2024-04-08 12:21:48,436]\u001b[0m Trial 93 finished with value: 6753.946834577357 and parameters: {'lambda': 5.0390128793752185, 'alpha': 8.14050125042015, 'colsample_bytree': 0.8, 'subsample': 0.6, 'learning_rate': 0.12706165884382875, 'n_estimators': 421, 'max_depth': 6, 'min_child_weight': 26}. Best is trial 74 with value: 414.98357210973546.\u001b[0m\n"
     ]
    },
    {
     "name": "stderr",
     "output_type": "stream",
     "text": [
      "\u001b[32m[I 2024-04-08 12:21:55,723]\u001b[0m Trial 94 finished with value: 1688.0976078740282 and parameters: {'lambda': 4.527307535372344, 'alpha': 7.5937670065680445, 'colsample_bytree': 1.0, 'subsample': 1.0, 'learning_rate': 0.1584846700544919, 'n_estimators': 596, 'max_depth': 2, 'min_child_weight': 16}. Best is trial 74 with value: 414.98357210973546.\u001b[0m\n",
      "\u001b[32m[I 2024-04-08 12:22:07,134]\u001b[0m Trial 95 finished with value: 612.1901462956978 and parameters: {'lambda': 5.973388879169991, 'alpha': 8.546978155772129, 'colsample_bytree': 0.7, 'subsample': 0.4, 'learning_rate': 0.08080238979608292, 'n_estimators': 507, 'max_depth': 17, 'min_child_weight': 6}. Best is trial 74 with value: 414.98357210973546.\u001b[0m\n",
      "\u001b[32m[I 2024-04-08 12:22:12,490]\u001b[0m Trial 96 finished with value: 1614.5471254421166 and parameters: {'lambda': 5.53654087934192, 'alpha': 7.9562379812416575, 'colsample_bytree': 0.8, 'subsample': 0.6, 'learning_rate': 0.10607443319850243, 'n_estimators': 335, 'max_depth': 10, 'min_child_weight': 15}. Best is trial 74 with value: 414.98357210973546.\u001b[0m\n",
      "\u001b[32m[I 2024-04-08 12:22:20,162]\u001b[0m Trial 97 finished with value: 7745.8614190409335 and parameters: {'lambda': 4.816628689390399, 'alpha': 7.286542274629923, 'colsample_bytree': 0.9, 'subsample': 0.8, 'learning_rate': 0.04669744691909655, 'n_estimators': 380, 'max_depth': 18, 'min_child_weight': 30}. Best is trial 74 with value: 414.98357210973546.\u001b[0m\n",
      "\u001b[32m[I 2024-04-08 12:22:25,430]\u001b[0m Trial 98 finished with value: 2949.4559746552613 and parameters: {'lambda': 4.122402774037427, 'alpha': 9.310305128274281, 'colsample_bytree': 0.5, 'subsample': 1.0, 'learning_rate': 0.3856199861795921, 'n_estimators': 469, 'max_depth': 7, 'min_child_weight': 23}. Best is trial 74 with value: 414.98357210973546.\u001b[0m\n",
      "\u001b[32m[I 2024-04-08 12:22:36,792]\u001b[0m Trial 99 finished with value: 469.6289527235297 and parameters: {'lambda': 7.0271387297567545, 'alpha': 3.30955532891149, 'colsample_bytree': 1.0, 'subsample': 0.6, 'learning_rate': 0.15181260209960964, 'n_estimators': 278, 'max_depth': 12, 'min_child_weight': 2}. Best is trial 74 with value: 414.98357210973546.\u001b[0m\n"
     ]
    }
   ],
   "source": [
    "study1 = optuna.create_study(direction='minimize',sampler=TPESampler())\n",
    "study1.optimize(lambda trial: objective(trial,Xo_train,ys_train),n_trials= 100)"
   ]
  },
  {
   "cell_type": "code",
   "execution_count": 7,
   "id": "8e73aa45",
   "metadata": {
    "scrolled": true
   },
   "outputs": [
    {
     "data": {
      "image/png": "[encoded data removed]",
      "text/plain": [
       "<Figure size 432x288 with 1 Axes>"
      ]
     },
     "metadata": {
      "needs_background": "light"
     },
     "output_type": "display_data"
    }
   ],
   "source": [
    "import matplotlib.pyplot as plt\n",
    "\n",
    "model1 = xgb.XGBRegressor(**study1.best_trial.params)\n",
    "model1.fit(Xo_train,ys_train,verbose=False)\n",
    "\n",
    "Z1 = model1.predict(Xo_train)\n",
    "Z2 = model1.predict(Xo_test)\n",
    "\n",
    "plt.figure()\n",
    "plt.scatter(ys_train, Z1, marker='s')\n",
    "plt.scatter(ys_test, Z2, marker='o')\n",
    "\n",
    "plt.grid()\n",
    "plt.legend(['Training set', 'Testing set'], loc = 'upper left')\n",
    "plt.tick_params (axis = 'both', which = 'major')\n",
    "plt.axis('tight')\n",
    "plt.xlabel('Actual')\n",
    "plt.ylabel('Pred')\n",
    "\n",
    "plt.tight_layout()\n",
    "plt.show()"
   ]
  },
  {
   "cell_type": "markdown",
   "id": "6dd51399",
   "metadata": {},
   "source": [
    "## M2 MLP "
   ]
  },
  {
   "cell_type": "code",
   "execution_count": 8,
   "id": "940ee4a8",
   "metadata": {},
   "outputs": [],
   "source": [
    "def objective(trial: Trial,X,y) -> float:   \n",
    "    #joblib.dump(study, 'study.pkl')      #保存模型\n",
    "    param = {\"learning_rate_init\" : trial.suggest_float('learning_rate_init',0.001,0.6),\n",
    "             'hidden_layer_sizes':trial.suggest_int('hidden_layer_sizes',10,1000),\n",
    "             'activation':trial.suggest_categorical('activation',['identity', 'logistic', 'tanh', 'relu']),\n",
    "             \"solver\": 'adam', \n",
    "             #'nthread' : -1\n",
    "            }\n",
    "    model = MLPRegressor(**param)\n",
    "    model.fit(X,y)\n",
    "    return np.mean(-cross_val_score(model,X,y,cv=10,scoring='neg_mean_squared_error',n_jobs=-1)) "
   ]
  },
  {
   "cell_type": "code",
   "execution_count": 9,
   "id": "rubber-purchase",
   "metadata": {
    "scrolled": true
   },
   "outputs": [
    {
     "name": "stderr",
     "output_type": "stream",
     "text": [
      "\u001b[32m[I 2024-04-08 12:22:37,538]\u001b[0m A new study created in memory with name: no-name-8054629b-e7bd-4494-b205-6189de367351\u001b[0m\n",
      "\u001b[32m[I 2024-04-08 12:22:38,118]\u001b[0m Trial 0 finished with value: 9600994.069622118 and parameters: {'learning_rate_init': 0.06999451321770664, 'hidden_layer_sizes': 39, 'activation': 'logistic'}. Best is trial 0 with value: 9600994.069622118.\u001b[0m\n",
      "\u001b[32m[I 2024-04-08 12:22:38,243]\u001b[0m Trial 1 finished with value: 54320276.38982753 and parameters: {'learning_rate_init': 0.09983950721353756, 'hidden_layer_sizes': 369, 'activation': 'identity'}. Best is trial 0 with value: 9600994.069622118.\u001b[0m\n",
      "\u001b[32m[I 2024-04-08 12:22:39,249]\u001b[0m Trial 2 finished with value: 4825208.158869692 and parameters: {'learning_rate_init': 0.36010818837539466, 'hidden_layer_sizes': 350, 'activation': 'logistic'}. Best is trial 2 with value: 4825208.158869692.\u001b[0m\n",
      "\u001b[32m[I 2024-04-08 12:22:39,851]\u001b[0m Trial 3 finished with value: 7180471.381194226 and parameters: {'learning_rate_init': 0.2008454903018707, 'hidden_layer_sizes': 284, 'activation': 'relu'}. Best is trial 2 with value: 4825208.158869692.\u001b[0m\n",
      "\u001b[32m[I 2024-04-08 12:22:40,708]\u001b[0m Trial 4 finished with value: 1335066.883386342 and parameters: {'learning_rate_init': 0.054499329224672655, 'hidden_layer_sizes': 232, 'activation': 'relu'}. Best is trial 4 with value: 1335066.883386342.\u001b[0m\n",
      "\u001b[32m[I 2024-04-08 12:22:41,601]\u001b[0m Trial 5 finished with value: 5084598.034977204 and parameters: {'learning_rate_init': 0.5857249982156412, 'hidden_layer_sizes': 954, 'activation': 'logistic'}. Best is trial 4 with value: 1335066.883386342.\u001b[0m\n",
      "\u001b[32m[I 2024-04-08 12:22:42,971]\u001b[0m Trial 6 finished with value: 1520450.2233955509 and parameters: {'learning_rate_init': 0.1267394436582886, 'hidden_layer_sizes': 381, 'activation': 'relu'}. Best is trial 4 with value: 1335066.883386342.\u001b[0m\n",
      "\u001b[32m[I 2024-04-08 12:22:43,084]\u001b[0m Trial 7 finished with value: 76207082483.52353 and parameters: {'learning_rate_init': 0.3632665930901467, 'hidden_layer_sizes': 418, 'activation': 'identity'}. Best is trial 4 with value: 1335066.883386342.\u001b[0m\n",
      "\u001b[32m[I 2024-04-08 12:22:44,093]\u001b[0m Trial 8 finished with value: 1540204.5689325654 and parameters: {'learning_rate_init': 0.0420355109239238, 'hidden_layer_sizes': 314, 'activation': 'identity'}. Best is trial 4 with value: 1335066.883386342.\u001b[0m\n",
      "\u001b[32m[I 2024-04-08 12:22:44,965]\u001b[0m Trial 9 finished with value: 4865312.870203784 and parameters: {'learning_rate_init': 0.15546630472868378, 'hidden_layer_sizes': 698, 'activation': 'tanh'}. Best is trial 4 with value: 1335066.883386342.\u001b[0m\n",
      "\u001b[32m[I 2024-04-08 12:22:45,346]\u001b[0m Trial 10 finished with value: 5225106.7959383335 and parameters: {'learning_rate_init': 0.2603437574499221, 'hidden_layer_sizes': 84, 'activation': 'relu'}. Best is trial 4 with value: 1335066.883386342.\u001b[0m\n",
      "\u001b[32m[I 2024-04-08 12:22:47,846]\u001b[0m Trial 11 finished with value: 1075609.7998857573 and parameters: {'learning_rate_init': 0.0014008917390234618, 'hidden_layer_sizes': 598, 'activation': 'relu'}. Best is trial 11 with value: 1075609.7998857573.\u001b[0m\n",
      "\u001b[32m[I 2024-04-08 12:22:50,393]\u001b[0m Trial 12 finished with value: 1014906.0836934537 and parameters: {'learning_rate_init': 0.008786366715099692, 'hidden_layer_sizes': 619, 'activation': 'relu'}. Best is trial 12 with value: 1014906.0836934537.\u001b[0m\n",
      "\u001b[32m[I 2024-04-08 12:22:53,071]\u001b[0m Trial 13 finished with value: 995029.1842144274 and parameters: {'learning_rate_init': 0.004270926813554069, 'hidden_layer_sizes': 634, 'activation': 'relu'}. Best is trial 13 with value: 995029.1842144274.\u001b[0m\n",
      "\u001b[32m[I 2024-04-08 12:22:53,586]\u001b[0m Trial 14 finished with value: 5051237.440788052 and parameters: {'learning_rate_init': 0.5094626670321589, 'hidden_layer_sizes': 793, 'activation': 'tanh'}. Best is trial 13 with value: 995029.1842144274.\u001b[0m\n",
      "\u001b[32m[I 2024-04-08 12:22:54,036]\u001b[0m Trial 15 finished with value: 13859057.69479245 and parameters: {'learning_rate_init': 0.22216129912621482, 'hidden_layer_sizes': 543, 'activation': 'relu'}. Best is trial 13 with value: 995029.1842144274.\u001b[0m\n",
      "\u001b[32m[I 2024-04-08 12:22:54,361]\u001b[0m Trial 16 finished with value: 133128405.84840402 and parameters: {'learning_rate_init': 0.3322469457516576, 'hidden_layer_sizes': 840, 'activation': 'relu'}. Best is trial 13 with value: 995029.1842144274.\u001b[0m\n",
      "\u001b[32m[I 2024-04-08 12:22:57,054]\u001b[0m Trial 17 finished with value: 1018960.7987464899 and parameters: {'learning_rate_init': 0.010981415832126806, 'hidden_layer_sizes': 652, 'activation': 'relu'}. Best is trial 13 with value: 995029.1842144274.\u001b[0m\n",
      "\u001b[32m[I 2024-04-08 12:22:57,982]\u001b[0m Trial 18 finished with value: 4874520.036599343 and parameters: {'learning_rate_init': 0.15904184577808203, 'hidden_layer_sizes': 751, 'activation': 'tanh'}. Best is trial 13 with value: 995029.1842144274.\u001b[0m\n",
      "\u001b[32m[I 2024-04-08 12:22:58,154]\u001b[0m Trial 19 finished with value: 74482697.36181197 and parameters: {'learning_rate_init': 0.4295409952936834, 'hidden_layer_sizes': 475, 'activation': 'relu'}. Best is trial 13 with value: 995029.1842144274.\u001b[0m\n",
      "\u001b[32m[I 2024-04-08 12:22:59,107]\u001b[0m Trial 20 finished with value: 40006184.22479918 and parameters: {'learning_rate_init': 0.2721882970500136, 'hidden_layer_sizes': 911, 'activation': 'relu'}. Best is trial 13 with value: 995029.1842144274.\u001b[0m\n",
      "\u001b[32m[I 2024-04-08 12:23:01,813]\u001b[0m Trial 21 finished with value: 1037149.4250358375 and parameters: {'learning_rate_init': 0.0025599529814103955, 'hidden_layer_sizes': 631, 'activation': 'relu'}. Best is trial 13 with value: 995029.1842144274.\u001b[0m\n",
      "\u001b[32m[I 2024-04-08 12:23:04,204]\u001b[0m Trial 22 finished with value: 1535020.4069304604 and parameters: {'learning_rate_init': 0.08779845848713537, 'hidden_layer_sizes': 687, 'activation': 'relu'}. Best is trial 13 with value: 995029.1842144274.\u001b[0m\n",
      "\u001b[32m[I 2024-04-08 12:23:06,410]\u001b[0m Trial 23 finished with value: 1005161.7210249063 and parameters: {'learning_rate_init': 0.011733155059725497, 'hidden_layer_sizes': 547, 'activation': 'relu'}. Best is trial 13 with value: 995029.1842144274.\u001b[0m\n",
      "\u001b[32m[I 2024-04-08 12:23:07,555]\u001b[0m Trial 24 finished with value: 5054382.697913316 and parameters: {'learning_rate_init': 0.13074706834325595, 'hidden_layer_sizes': 526, 'activation': 'relu'}. Best is trial 13 with value: 995029.1842144274.\u001b[0m\n",
      "\u001b[32m[I 2024-04-08 12:23:09,634]\u001b[0m Trial 25 finished with value: 1532040.4916755802 and parameters: {'learning_rate_init': 0.06426901650171232, 'hidden_layer_sizes': 573, 'activation': 'relu'}. Best is trial 13 with value: 995029.1842144274.\u001b[0m\n",
      "\u001b[32m[I 2024-04-08 12:23:09,751]\u001b[0m Trial 26 finished with value: 4469627579.151236 and parameters: {'learning_rate_init': 0.18776711660640916, 'hidden_layer_sizes': 467, 'activation': 'identity'}. Best is trial 13 with value: 995029.1842144274.\u001b[0m\n",
      "\u001b[32m[I 2024-04-08 12:23:11,076]\u001b[0m Trial 27 finished with value: 4829200.658707519 and parameters: {'learning_rate_init': 0.1063879478481667, 'hidden_layer_sizes': 750, 'activation': 'tanh'}. Best is trial 13 with value: 995029.1842144274.\u001b[0m\n",
      "\u001b[32m[I 2024-04-08 12:23:18,415]\u001b[0m Trial 28 finished with value: 4904504.780985583 and parameters: {'learning_rate_init': 0.03396879369996521, 'hidden_layer_sizes': 865, 'activation': 'logistic'}. Best is trial 13 with value: 995029.1842144274.\u001b[0m\n",
      "\u001b[32m[I 2024-04-08 12:23:22,369]\u001b[0m Trial 29 finished with value: 4826720.900499242 and parameters: {'learning_rate_init': 0.08082350618651786, 'hidden_layer_sizes': 502, 'activation': 'logistic'}. Best is trial 13 with value: 995029.1842144274.\u001b[0m\n",
      "\u001b[32m[I 2024-04-08 12:23:24,495]\u001b[0m Trial 30 finished with value: 1407823.7937148483 and parameters: {'learning_rate_init': 0.04576978302510305, 'hidden_layer_sizes': 586, 'activation': 'relu'}. Best is trial 13 with value: 995029.1842144274.\u001b[0m\n",
      "\u001b[32m[I 2024-04-08 12:23:27,151]\u001b[0m Trial 31 finished with value: 1106086.1229676686 and parameters: {'learning_rate_init': 0.0015573538560305633, 'hidden_layer_sizes': 643, 'activation': 'relu'}. Best is trial 13 with value: 995029.1842144274.\u001b[0m\n",
      "\u001b[32m[I 2024-04-08 12:23:29,863]\u001b[0m Trial 32 finished with value: 1157154.6215372076 and parameters: {'learning_rate_init': 0.025438160699396556, 'hidden_layer_sizes': 675, 'activation': 'relu'}. Best is trial 13 with value: 995029.1842144274.\u001b[0m\n"
     ]
    },
    {
     "name": "stderr",
     "output_type": "stream",
     "text": [
      "\u001b[32m[I 2024-04-08 12:23:32,019]\u001b[0m Trial 33 finished with value: 1567831.4474849352 and parameters: {'learning_rate_init': 0.08356872821775349, 'hidden_layer_sizes': 738, 'activation': 'relu'}. Best is trial 13 with value: 995029.1842144274.\u001b[0m\n",
      "\u001b[32m[I 2024-04-08 12:23:33,551]\u001b[0m Trial 34 finished with value: 2231393.5866660066 and parameters: {'learning_rate_init': 0.11910830770737071, 'hidden_layer_sizes': 433, 'activation': 'relu'}. Best is trial 13 with value: 995029.1842144274.\u001b[0m\n",
      "\u001b[32m[I 2024-04-08 12:23:34,094]\u001b[0m Trial 35 finished with value: 14172378.835572641 and parameters: {'learning_rate_init': 0.05651779177656446, 'hidden_layer_sizes': 628, 'activation': 'identity'}. Best is trial 13 with value: 995029.1842144274.\u001b[0m\n",
      "\u001b[32m[I 2024-04-08 12:23:36,229]\u001b[0m Trial 36 finished with value: 1225355.9767205778 and parameters: {'learning_rate_init': 0.02107798066265487, 'hidden_layer_sizes': 546, 'activation': 'relu'}. Best is trial 13 with value: 995029.1842144274.\u001b[0m\n",
      "\u001b[32m[I 2024-04-08 12:23:38,063]\u001b[0m Trial 37 finished with value: 4821159.906303046 and parameters: {'learning_rate_init': 0.1690968360029579, 'hidden_layer_sizes': 809, 'activation': 'logistic'}. Best is trial 13 with value: 995029.1842144274.\u001b[0m\n",
      "\u001b[32m[I 2024-04-08 12:23:38,890]\u001b[0m Trial 38 finished with value: 1469242.7318874558 and parameters: {'learning_rate_init': 0.07246819085121135, 'hidden_layer_sizes': 209, 'activation': 'relu'}. Best is trial 13 with value: 995029.1842144274.\u001b[0m\n",
      "\u001b[32m[I 2024-04-08 12:23:39,296]\u001b[0m Trial 39 finished with value: 14560366.811829751 and parameters: {'learning_rate_init': 0.22125467483528485, 'hidden_layer_sizes': 992, 'activation': 'relu'}. Best is trial 13 with value: 995029.1842144274.\u001b[0m\n",
      "\u001b[32m[I 2024-04-08 12:23:39,415]\u001b[0m Trial 40 finished with value: 503473229.4603919 and parameters: {'learning_rate_init': 0.1344266824082642, 'hidden_layer_sizes': 365, 'activation': 'identity'}. Best is trial 13 with value: 995029.1842144274.\u001b[0m\n",
      "\u001b[32m[I 2024-04-08 12:23:41,725]\u001b[0m Trial 41 finished with value: 1401353.878686936 and parameters: {'learning_rate_init': 0.001633980093030507, 'hidden_layer_sizes': 638, 'activation': 'relu'}. Best is trial 13 with value: 995029.1842144274.\u001b[0m\n",
      "\u001b[32m[I 2024-04-08 12:23:44,353]\u001b[0m Trial 42 finished with value: 1216892.8950199697 and parameters: {'learning_rate_init': 0.030318561496874053, 'hidden_layer_sizes': 699, 'activation': 'relu'}. Best is trial 13 with value: 995029.1842144274.\u001b[0m\n",
      "\u001b[32m[I 2024-04-08 12:23:46,499]\u001b[0m Trial 43 finished with value: 1439883.545103126 and parameters: {'learning_rate_init': 0.05312128081430506, 'hidden_layer_sizes': 611, 'activation': 'relu'}. Best is trial 13 with value: 995029.1842144274.\u001b[0m\n",
      "\u001b[32m[I 2024-04-08 12:23:49,271]\u001b[0m Trial 44 finished with value: 1100833.9131321588 and parameters: {'learning_rate_init': 0.0014596329176886375, 'hidden_layer_sizes': 659, 'activation': 'relu'}. Best is trial 13 with value: 995029.1842144274.\u001b[0m\n",
      "\u001b[32m[I 2024-04-08 12:23:51,071]\u001b[0m Trial 45 finished with value: 1666598.8739672191 and parameters: {'learning_rate_init': 0.10733813674960117, 'hidden_layer_sizes': 566, 'activation': 'relu'}. Best is trial 13 with value: 995029.1842144274.\u001b[0m\n",
      "\u001b[32m[I 2024-04-08 12:23:51,487]\u001b[0m Trial 46 finished with value: 5024916.951987439 and parameters: {'learning_rate_init': 0.5906464866677174, 'hidden_layer_sizes': 731, 'activation': 'tanh'}. Best is trial 13 with value: 995029.1842144274.\u001b[0m\n",
      "\u001b[32m[I 2024-04-08 12:23:54,604]\u001b[0m Trial 47 finished with value: 6497348.5133905085 and parameters: {'learning_rate_init': 0.02686913207086952, 'hidden_layer_sizes': 425, 'activation': 'logistic'}. Best is trial 13 with value: 995029.1842144274.\u001b[0m\n",
      "\u001b[32m[I 2024-04-08 12:23:54,766]\u001b[0m Trial 48 finished with value: 41218222.064296365 and parameters: {'learning_rate_init': 0.40664545972351773, 'hidden_layer_sizes': 499, 'activation': 'relu'}. Best is trial 13 with value: 995029.1842144274.\u001b[0m\n",
      "\u001b[32m[I 2024-04-08 12:23:56,894]\u001b[0m Trial 49 finished with value: 1414002.1303919146 and parameters: {'learning_rate_init': 0.05950213008627258, 'hidden_layer_sizes': 607, 'activation': 'relu'}. Best is trial 13 with value: 995029.1842144274.\u001b[0m\n",
      "\u001b[32m[I 2024-04-08 12:23:57,455]\u001b[0m Trial 50 finished with value: 39939639.870987415 and parameters: {'learning_rate_init': 0.539204474224641, 'hidden_layer_sizes': 785, 'activation': 'relu'}. Best is trial 13 with value: 995029.1842144274.\u001b[0m\n",
      "\u001b[32m[I 2024-04-08 12:23:59,811]\u001b[0m Trial 51 finished with value: 975294.6986807646 and parameters: {'learning_rate_init': 0.004722110917133508, 'hidden_layer_sizes': 593, 'activation': 'relu'}. Best is trial 51 with value: 975294.6986807646.\u001b[0m\n",
      "\u001b[32m[I 2024-04-08 12:24:02,454]\u001b[0m Trial 52 finished with value: 1218780.3859569188 and parameters: {'learning_rate_init': 0.020135152439367778, 'hidden_layer_sizes': 697, 'activation': 'relu'}. Best is trial 51 with value: 975294.6986807646.\u001b[0m\n",
      "\u001b[32m[I 2024-04-08 12:24:04,309]\u001b[0m Trial 53 finished with value: 1422230.2329490497 and parameters: {'learning_rate_init': 0.046102283851766374, 'hidden_layer_sizes': 538, 'activation': 'relu'}. Best is trial 51 with value: 975294.6986807646.\u001b[0m\n",
      "\u001b[32m[I 2024-04-08 12:24:06,325]\u001b[0m Trial 54 finished with value: 1484443.6753788951 and parameters: {'learning_rate_init': 0.07727833968628665, 'hidden_layer_sizes': 605, 'activation': 'relu'}. Best is trial 51 with value: 975294.6986807646.\u001b[0m\n",
      "\u001b[32m[I 2024-04-08 12:24:07,835]\u001b[0m Trial 55 finished with value: 4827619.008475498 and parameters: {'learning_rate_init': 0.10025723734120688, 'hidden_layer_sizes': 466, 'activation': 'tanh'}. Best is trial 51 with value: 975294.6986807646.\u001b[0m\n",
      "\u001b[32m[I 2024-04-08 12:24:09,967]\u001b[0m Trial 56 finished with value: 1152139.3702478595 and parameters: {'learning_rate_init': 0.015267166418955673, 'hidden_layer_sizes': 569, 'activation': 'relu'}. Best is trial 51 with value: 975294.6986807646.\u001b[0m\n",
      "\u001b[32m[I 2024-04-08 12:24:10,628]\u001b[0m Trial 57 finished with value: 7271931.385655971 and parameters: {'learning_rate_init': 0.03967832044421285, 'hidden_layer_sizes': 652, 'activation': 'identity'}. Best is trial 51 with value: 975294.6986807646.\u001b[0m\n",
      "\u001b[32m[I 2024-04-08 12:24:10,884]\u001b[0m Trial 58 finished with value: 2201320.934938862 and parameters: {'learning_rate_init': 0.14286974378038977, 'hidden_layer_sizes': 29, 'activation': 'relu'}. Best is trial 51 with value: 975294.6986807646.\u001b[0m\n",
      "\u001b[32m[I 2024-04-08 12:24:10,995]\u001b[0m Trial 59 finished with value: 16048223.442434054 and parameters: {'learning_rate_init': 0.31732299830722654, 'hidden_layer_sizes': 314, 'activation': 'relu'}. Best is trial 51 with value: 975294.6986807646.\u001b[0m\n",
      "\u001b[32m[I 2024-04-08 12:24:13,487]\u001b[0m Trial 60 finished with value: 1405221.7056532546 and parameters: {'learning_rate_init': 0.06921794024473127, 'hidden_layer_sizes': 726, 'activation': 'relu'}. Best is trial 51 with value: 975294.6986807646.\u001b[0m\n",
      "\u001b[32m[I 2024-04-08 12:24:14,887]\u001b[0m Trial 61 finished with value: 1316008.6540425427 and parameters: {'learning_rate_init': 0.0016162773297022175, 'hidden_layer_sizes': 507, 'activation': 'relu'}. Best is trial 51 with value: 975294.6986807646.\u001b[0m\n",
      "\u001b[32m[I 2024-04-08 12:24:16,927]\u001b[0m Trial 62 finished with value: 1422502.7413722272 and parameters: {'learning_rate_init': 0.04205456685640645, 'hidden_layer_sizes': 587, 'activation': 'relu'}. Best is trial 51 with value: 975294.6986807646.\u001b[0m\n",
      "\u001b[32m[I 2024-04-08 12:24:19,460]\u001b[0m Trial 63 finished with value: 1258189.8540639514 and parameters: {'learning_rate_init': 0.019785570436511652, 'hidden_layer_sizes': 673, 'activation': 'relu'}. Best is trial 51 with value: 975294.6986807646.\u001b[0m\n",
      "\u001b[32m[I 2024-04-08 12:24:21,118]\u001b[0m Trial 64 finished with value: 1718058.4506501686 and parameters: {'learning_rate_init': 0.08518923074730876, 'hidden_layer_sizes': 553, 'activation': 'relu'}. Best is trial 51 with value: 975294.6986807646.\u001b[0m\n",
      "\u001b[32m[I 2024-04-08 12:24:24,844]\u001b[0m Trial 65 finished with value: 7695250.76283668 and parameters: {'learning_rate_init': 0.013944628602790578, 'hidden_layer_sizes': 521, 'activation': 'logistic'}. Best is trial 51 with value: 975294.6986807646.\u001b[0m\n"
     ]
    },
    {
     "name": "stderr",
     "output_type": "stream",
     "text": [
      "\u001b[32m[I 2024-04-08 12:24:27,367]\u001b[0m Trial 66 finished with value: 4819738.653288313 and parameters: {'learning_rate_init': 0.05666390552752207, 'hidden_layer_sizes': 628, 'activation': 'tanh'}. Best is trial 51 with value: 975294.6986807646.\u001b[0m\n",
      "\u001b[32m[I 2024-04-08 12:24:30,334]\u001b[0m Trial 67 finished with value: 1536260.9319342768 and parameters: {'learning_rate_init': 0.042511756275340026, 'hidden_layer_sizes': 783, 'activation': 'relu'}. Best is trial 51 with value: 975294.6986807646.\u001b[0m\n",
      "\u001b[32m[I 2024-04-08 12:24:31,743]\u001b[0m Trial 68 finished with value: 1612244.0925582978 and parameters: {'learning_rate_init': 0.09071183317952516, 'hidden_layer_sizes': 463, 'activation': 'relu'}. Best is trial 51 with value: 975294.6986807646.\u001b[0m\n",
      "\u001b[32m[I 2024-04-08 12:24:33,426]\u001b[0m Trial 69 finished with value: 1539299.722440639 and parameters: {'learning_rate_init': 0.0013013822232239955, 'hidden_layer_sizes': 597, 'activation': 'identity'}. Best is trial 51 with value: 975294.6986807646.\u001b[0m\n",
      "\u001b[32m[I 2024-04-08 12:24:34,794]\u001b[0m Trial 70 finished with value: 6058776.994559305 and parameters: {'learning_rate_init': 0.11810138649395051, 'hidden_layer_sizes': 703, 'activation': 'relu'}. Best is trial 51 with value: 975294.6986807646.\u001b[0m\n",
      "\u001b[32m[I 2024-04-08 12:24:37,505]\u001b[0m Trial 71 finished with value: 1118663.5889236995 and parameters: {'learning_rate_init': 0.0013781600515646699, 'hidden_layer_sizes': 666, 'activation': 'relu'}. Best is trial 51 with value: 975294.6986807646.\u001b[0m\n",
      "\u001b[32m[I 2024-04-08 12:24:39,906]\u001b[0m Trial 72 finished with value: 1299274.6520899883 and parameters: {'learning_rate_init': 0.03062934525623577, 'hidden_layer_sizes': 646, 'activation': 'relu'}. Best is trial 51 with value: 975294.6986807646.\u001b[0m\n",
      "\u001b[32m[I 2024-04-08 12:24:42,123]\u001b[0m Trial 73 finished with value: 1531081.6252511314 and parameters: {'learning_rate_init': 0.06626106033020808, 'hidden_layer_sizes': 622, 'activation': 'relu'}. Best is trial 51 with value: 975294.6986807646.\u001b[0m\n",
      "\u001b[32m[I 2024-04-08 12:24:42,576]\u001b[0m Trial 74 finished with value: 1141253.8731283147 and parameters: {'learning_rate_init': 0.014448312110531792, 'hidden_layer_sizes': 80, 'activation': 'relu'}. Best is trial 51 with value: 975294.6986807646.\u001b[0m\n",
      "\u001b[32m[I 2024-04-08 12:24:45,358]\u001b[0m Trial 75 finished with value: 1361473.883582739 and parameters: {'learning_rate_init': 0.03546654020342245, 'hidden_layer_sizes': 761, 'activation': 'relu'}. Best is trial 51 with value: 975294.6986807646.\u001b[0m\n",
      "\u001b[32m[I 2024-04-08 12:24:45,668]\u001b[0m Trial 76 finished with value: 107291970.18417084 and parameters: {'learning_rate_init': 0.4600864526242489, 'hidden_layer_sizes': 832, 'activation': 'relu'}. Best is trial 51 with value: 975294.6986807646.\u001b[0m\n",
      "\u001b[32m[I 2024-04-08 12:24:47,841]\u001b[0m Trial 77 finished with value: 1178159.530100796 and parameters: {'learning_rate_init': 0.016800155027324026, 'hidden_layer_sizes': 576, 'activation': 'relu'}. Best is trial 51 with value: 975294.6986807646.\u001b[0m\n",
      "\u001b[32m[I 2024-04-08 12:24:52,540]\u001b[0m Trial 78 finished with value: 4852665.893335888 and parameters: {'learning_rate_init': 0.04950186374239307, 'hidden_layer_sizes': 652, 'activation': 'logistic'}. Best is trial 51 with value: 975294.6986807646.\u001b[0m\n",
      "\u001b[32m[I 2024-04-08 12:24:52,760]\u001b[0m Trial 79 finished with value: 79582876.26923086 and parameters: {'learning_rate_init': 0.3587586710471104, 'hidden_layer_sizes': 716, 'activation': 'relu'}. Best is trial 51 with value: 975294.6986807646.\u001b[0m\n",
      "\u001b[32m[I 2024-04-08 12:24:55,302]\u001b[0m Trial 80 finished with value: 1135020.8813268682 and parameters: {'learning_rate_init': 0.02869284236539093, 'hidden_layer_sizes': 678, 'activation': 'relu'}. Best is trial 51 with value: 975294.6986807646.\u001b[0m\n",
      "\u001b[32m[I 2024-04-08 12:24:57,687]\u001b[0m Trial 81 finished with value: 985834.7293262085 and parameters: {'learning_rate_init': 0.009923667405671811, 'hidden_layer_sizes': 616, 'activation': 'relu'}. Best is trial 51 with value: 975294.6986807646.\u001b[0m\n",
      "\u001b[32m[I 2024-04-08 12:24:59,772]\u001b[0m Trial 82 finished with value: 1077620.5586502515 and parameters: {'learning_rate_init': 0.015697477438618164, 'hidden_layer_sizes': 558, 'activation': 'relu'}. Best is trial 51 with value: 975294.6986807646.\u001b[0m\n",
      "\u001b[32m[I 2024-04-08 12:25:00,468]\u001b[0m Trial 83 finished with value: 4621107.099392378 and parameters: {'learning_rate_init': 0.2720318975540757, 'hidden_layer_sizes': 534, 'activation': 'relu'}. Best is trial 51 with value: 975294.6986807646.\u001b[0m\n",
      "\u001b[32m[I 2024-04-08 12:25:01,872]\u001b[0m Trial 84 finished with value: 1433174.8073791824 and parameters: {'learning_rate_init': 0.06595444367087502, 'hidden_layer_sizes': 396, 'activation': 'relu'}. Best is trial 51 with value: 975294.6986807646.\u001b[0m\n",
      "\u001b[32m[I 2024-04-08 12:25:03,809]\u001b[0m Trial 85 finished with value: 995056.1006877962 and parameters: {'learning_rate_init': 0.015019883925882677, 'hidden_layer_sizes': 481, 'activation': 'relu'}. Best is trial 51 with value: 975294.6986807646.\u001b[0m\n",
      "\u001b[32m[I 2024-04-08 12:25:06,103]\u001b[0m Trial 86 finished with value: 4937325.924156446 and parameters: {'learning_rate_init': 0.034516835243189756, 'hidden_layer_sizes': 480, 'activation': 'tanh'}. Best is trial 51 with value: 975294.6986807646.\u001b[0m\n",
      "\u001b[32m[I 2024-04-08 12:25:08,180]\u001b[0m Trial 87 finished with value: 1511700.0911185932 and parameters: {'learning_rate_init': 0.05344773248421194, 'hidden_layer_sizes': 599, 'activation': 'relu'}. Best is trial 51 with value: 975294.6986807646.\u001b[0m\n",
      "\u001b[32m[I 2024-04-08 12:25:10,031]\u001b[0m Trial 88 finished with value: 1544040.7551279292 and parameters: {'learning_rate_init': 0.015302988856627193, 'hidden_layer_sizes': 618, 'activation': 'identity'}. Best is trial 51 with value: 975294.6986807646.\u001b[0m\n",
      "\u001b[32m[I 2024-04-08 12:25:10,569]\u001b[0m Trial 89 finished with value: 11483908.815782594 and parameters: {'learning_rate_init': 0.2429030242058611, 'hidden_layer_sizes': 495, 'activation': 'relu'}. Best is trial 51 with value: 975294.6986807646.\u001b[0m\n",
      "\u001b[32m[I 2024-04-08 12:25:12,475]\u001b[0m Trial 90 finished with value: 1295566.2646039848 and parameters: {'learning_rate_init': 0.030348919573526124, 'hidden_layer_sizes': 520, 'activation': 'relu'}. Best is trial 51 with value: 975294.6986807646.\u001b[0m\n",
      "\u001b[32m[I 2024-04-08 12:25:14,705]\u001b[0m Trial 91 finished with value: 1057592.3480337963 and parameters: {'learning_rate_init': 0.016801866673375927, 'hidden_layer_sizes': 553, 'activation': 'relu'}. Best is trial 51 with value: 975294.6986807646.\u001b[0m\n",
      "\u001b[32m[I 2024-04-08 12:25:16,482]\u001b[0m Trial 92 finished with value: 1549812.3591037411 and parameters: {'learning_rate_init': 0.04554717766332291, 'hidden_layer_sizes': 436, 'activation': 'relu'}. Best is trial 51 with value: 975294.6986807646.\u001b[0m\n",
      "\u001b[32m[I 2024-04-08 12:25:18,874]\u001b[0m Trial 93 finished with value: 915714.9854019167 and parameters: {'learning_rate_init': 0.010048755216402803, 'hidden_layer_sizes': 582, 'activation': 'relu'}. Best is trial 93 with value: 915714.9854019167.\u001b[0m\n",
      "\u001b[32m[I 2024-04-08 12:25:21,093]\u001b[0m Trial 94 finished with value: 1032172.4529064803 and parameters: {'learning_rate_init': 0.011733358641933754, 'hidden_layer_sizes': 570, 'activation': 'relu'}. Best is trial 93 with value: 915714.9854019167.\u001b[0m\n",
      "\u001b[32m[I 2024-04-08 12:25:22,877]\u001b[0m Trial 95 finished with value: 1515363.402692052 and parameters: {'learning_rate_init': 0.07521924194489715, 'hidden_layer_sizes': 587, 'activation': 'relu'}. Best is trial 93 with value: 915714.9854019167.\u001b[0m\n",
      "\u001b[32m[I 2024-04-08 12:25:25,323]\u001b[0m Trial 96 finished with value: 1064749.253721464 and parameters: {'learning_rate_init': 0.001797968599278563, 'hidden_layer_sizes': 577, 'activation': 'relu'}. Best is trial 93 with value: 915714.9854019167.\u001b[0m\n",
      "\u001b[32m[I 2024-04-08 12:25:26,677]\u001b[0m Trial 97 finished with value: 1549281.2270185412 and parameters: {'learning_rate_init': 0.09597167838895661, 'hidden_layer_sizes': 447, 'activation': 'relu'}. Best is trial 93 with value: 915714.9854019167.\u001b[0m\n",
      "\u001b[32m[I 2024-04-08 12:25:29,679]\u001b[0m Trial 98 finished with value: 5031708.806358859 and parameters: {'learning_rate_init': 0.06064358770481385, 'hidden_layer_sizes': 403, 'activation': 'logistic'}. Best is trial 93 with value: 915714.9854019167.\u001b[0m\n"
     ]
    },
    {
     "name": "stderr",
     "output_type": "stream",
     "text": [
      "\u001b[32m[I 2024-04-08 12:25:31,897]\u001b[0m Trial 99 finished with value: 1257826.2405622883 and parameters: {'learning_rate_init': 0.03022511269286687, 'hidden_layer_sizes': 633, 'activation': 'relu'}. Best is trial 93 with value: 915714.9854019167.\u001b[0m\n"
     ]
    }
   ],
   "source": [
    "study2 = optuna.create_study(direction='minimize',sampler=TPESampler())\n",
    "ye_train1=np.array(ye_train).ravel()\n",
    "study2.optimize(lambda trial: objective(trial,Xoe_train,yoe_train),n_trials= 100)"
   ]
  },
  {
   "cell_type": "code",
   "execution_count": 10,
   "id": "765f42a0",
   "metadata": {},
   "outputs": [
    {
     "data": {
      "image/png": "[encoded data removed]",
      "text/plain": [
       "<Figure size 432x288 with 1 Axes>"
      ]
     },
     "metadata": {
      "needs_background": "light"
     },
     "output_type": "display_data"
    }
   ],
   "source": [
    "model2 = MLPRegressor(**study2.best_trial.params)\n",
    "model2.fit(np.array(Xoe_train),yoe_train)\n",
    "\n",
    "Z1 = model2.predict(Xoe_train)\n",
    "Z2 = model2.predict(Xoe_test)\n",
    "\n",
    "#xx = np.linspace(-1, 4, 10)\n",
    "#yy = xx\n",
    "\n",
    "plt.figure()\n",
    "#plt.plot(xx, yy, c='k', linewidth=2)\n",
    "plt.scatter(yoe_train, Z1, marker='s')\n",
    "plt.scatter(yoe_test, Z2, marker='o')\n",
    "\n",
    "plt.grid()\n",
    "plt.legend(['Training set', 'Testing set'], loc = 'upper left')\n",
    "plt.tick_params (axis = 'both', which = 'major')\n",
    "plt.axis('tight')\n",
    "plt.xlabel('Actual')\n",
    "plt.ylabel('Pred')\n",
    "\n",
    "plt.tight_layout()\n",
    "plt.show()"
   ]
  },
  {
   "cell_type": "markdown",
   "id": "c8a09579",
   "metadata": {},
   "source": [
    "## M3 MLP"
   ]
  },
  {
   "cell_type": "code",
   "execution_count": 11,
   "id": "e883148b",
   "metadata": {},
   "outputs": [],
   "source": [
    "def objective(trial: Trial,X,y) -> float:   \n",
    "    #joblib.dump(study, 'study.pkl')      #保存模型\n",
    "    param = {\"learning_rate_init\" : trial.suggest_float('learning_rate_init',0.001,0.6),\n",
    "             'hidden_layer_sizes':trial.suggest_int('hidden_layer_sizes',10,1000),\n",
    "             'activation':trial.suggest_categorical('activation',['identity', 'logistic', 'tanh', 'relu']),\n",
    "             \"solver\": 'adam', \n",
    "             #'nthread' : -1\n",
    "            }\n",
    "    model = MLPRegressor(**param)\n",
    "    model.fit(X,y)\n",
    "    return np.mean(-cross_val_score(model,X,y,cv=10,scoring='neg_mean_squared_error',n_jobs=-1)) "
   ]
  },
  {
   "cell_type": "code",
   "execution_count": 12,
   "id": "bfffd497",
   "metadata": {
    "scrolled": true
   },
   "outputs": [
    {
     "name": "stderr",
     "output_type": "stream",
     "text": [
      "\u001b[32m[I 2024-04-08 12:25:32,650]\u001b[0m A new study created in memory with name: no-name-78a0cc74-fafd-427d-b18b-14f422280c09\u001b[0m\n",
      "\u001b[32m[I 2024-04-08 12:25:36,245]\u001b[0m Trial 0 finished with value: 12120.780642757256 and parameters: {'learning_rate_init': 0.470485027377837, 'hidden_layer_sizes': 633, 'activation': 'logistic'}. Best is trial 0 with value: 12120.780642757256.\u001b[0m\n",
      "\u001b[32m[I 2024-04-08 12:25:39,417]\u001b[0m Trial 1 finished with value: 12575.00727082757 and parameters: {'learning_rate_init': 0.4818476401270755, 'hidden_layer_sizes': 603, 'activation': 'logistic'}. Best is trial 0 with value: 12120.780642757256.\u001b[0m\n",
      "\u001b[32m[I 2024-04-08 12:25:39,686]\u001b[0m Trial 2 finished with value: 37255317.410334885 and parameters: {'learning_rate_init': 0.4572318637844128, 'hidden_layer_sizes': 976, 'activation': 'relu'}. Best is trial 0 with value: 12120.780642757256.\u001b[0m\n",
      "\u001b[32m[I 2024-04-08 12:25:40,057]\u001b[0m Trial 3 finished with value: 16608.936057863408 and parameters: {'learning_rate_init': 0.2983805690886121, 'hidden_layer_sizes': 136, 'activation': 'tanh'}. Best is trial 0 with value: 12120.780642757256.\u001b[0m\n",
      "\u001b[32m[I 2024-04-08 12:25:43,205]\u001b[0m Trial 4 finished with value: 13525.322955800726 and parameters: {'learning_rate_init': 0.5987686809042416, 'hidden_layer_sizes': 690, 'activation': 'logistic'}. Best is trial 0 with value: 12120.780642757256.\u001b[0m\n",
      "\u001b[32m[I 2024-04-08 12:25:43,325]\u001b[0m Trial 5 finished with value: 14677350794.771381 and parameters: {'learning_rate_init': 0.4129759253904506, 'hidden_layer_sizes': 603, 'activation': 'identity'}. Best is trial 0 with value: 12120.780642757256.\u001b[0m\n",
      "\u001b[32m[I 2024-04-08 12:25:44,630]\u001b[0m Trial 6 finished with value: 15404.03126712023 and parameters: {'learning_rate_init': 0.485705372237388, 'hidden_layer_sizes': 775, 'activation': 'tanh'}. Best is trial 0 with value: 12120.780642757256.\u001b[0m\n",
      "\u001b[32m[I 2024-04-08 12:25:45,762]\u001b[0m Trial 7 finished with value: 12245.008965738554 and parameters: {'learning_rate_init': 0.41060345605396364, 'hidden_layer_sizes': 665, 'activation': 'tanh'}. Best is trial 0 with value: 12120.780642757256.\u001b[0m\n",
      "\u001b[32m[I 2024-04-08 12:25:48,545]\u001b[0m Trial 8 finished with value: 719.8866057169823 and parameters: {'learning_rate_init': 0.023871060034683467, 'hidden_layer_sizes': 990, 'activation': 'relu'}. Best is trial 8 with value: 719.8866057169823.\u001b[0m\n",
      "\u001b[32m[I 2024-04-08 12:25:49,243]\u001b[0m Trial 9 finished with value: 383.5585892868298 and parameters: {'learning_rate_init': 0.0022888425173977064, 'hidden_layer_sizes': 195, 'activation': 'relu'}. Best is trial 9 with value: 383.5585892868298.\u001b[0m\n",
      "\u001b[32m[I 2024-04-08 12:25:50,005]\u001b[0m Trial 10 finished with value: 391.524928296695 and parameters: {'learning_rate_init': 0.0013352976958815876, 'hidden_layer_sizes': 211, 'activation': 'relu'}. Best is trial 9 with value: 383.5585892868298.\u001b[0m\n",
      "\u001b[32m[I 2024-04-08 12:25:50,673]\u001b[0m Trial 11 finished with value: 771.3797987243863 and parameters: {'learning_rate_init': 0.017164661551966835, 'hidden_layer_sizes': 209, 'activation': 'relu'}. Best is trial 9 with value: 383.5585892868298.\u001b[0m\n",
      "\u001b[32m[I 2024-04-08 12:25:50,950]\u001b[0m Trial 12 finished with value: 16850.48138839317 and parameters: {'learning_rate_init': 0.14648639435363586, 'hidden_layer_sizes': 329, 'activation': 'relu'}. Best is trial 9 with value: 383.5585892868298.\u001b[0m\n",
      "\u001b[32m[I 2024-04-08 12:25:51,078]\u001b[0m Trial 13 finished with value: 53367.74909235778 and parameters: {'learning_rate_init': 0.1490488041264271, 'hidden_layer_sizes': 359, 'activation': 'relu'}. Best is trial 9 with value: 383.5585892868298.\u001b[0m\n",
      "\u001b[32m[I 2024-04-08 12:25:51,259]\u001b[0m Trial 14 finished with value: 11566.413060086714 and parameters: {'learning_rate_init': 0.1306512279263859, 'hidden_layer_sizes': 24, 'activation': 'identity'}. Best is trial 9 with value: 383.5585892868298.\u001b[0m\n",
      "\u001b[32m[I 2024-04-08 12:25:51,552]\u001b[0m Trial 15 finished with value: 5594806.276044516 and parameters: {'learning_rate_init': 0.24947442165329123, 'hidden_layer_sizes': 405, 'activation': 'relu'}. Best is trial 9 with value: 383.5585892868298.\u001b[0m\n",
      "\u001b[32m[I 2024-04-08 12:25:52,082]\u001b[0m Trial 16 finished with value: 14010.767630530749 and parameters: {'learning_rate_init': 0.08690165922482218, 'hidden_layer_sizes': 213, 'activation': 'relu'}. Best is trial 9 with value: 383.5585892868298.\u001b[0m\n",
      "\u001b[32m[I 2024-04-08 12:25:52,377]\u001b[0m Trial 17 finished with value: 1178.2110587014 and parameters: {'learning_rate_init': 0.004202165717003993, 'hidden_layer_sizes': 59, 'activation': 'relu'}. Best is trial 9 with value: 383.5585892868298.\u001b[0m\n",
      "\u001b[32m[I 2024-04-08 12:25:52,484]\u001b[0m Trial 18 finished with value: 220383175.7275753 and parameters: {'learning_rate_init': 0.21551826342660152, 'hidden_layer_sizes': 475, 'activation': 'identity'}. Best is trial 9 with value: 383.5585892868298.\u001b[0m\n",
      "\u001b[32m[I 2024-04-08 12:25:53,251]\u001b[0m Trial 19 finished with value: 632.1810569434999 and parameters: {'learning_rate_init': 0.0652973946277085, 'hidden_layer_sizes': 257, 'activation': 'relu'}. Best is trial 9 with value: 383.5585892868298.\u001b[0m\n",
      "\u001b[32m[I 2024-04-08 12:25:53,317]\u001b[0m Trial 20 finished with value: 138331.9668626026 and parameters: {'learning_rate_init': 0.21018139189351726, 'hidden_layer_sizes': 113, 'activation': 'relu'}. Best is trial 9 with value: 383.5585892868298.\u001b[0m\n",
      "\u001b[32m[I 2024-04-08 12:25:54,028]\u001b[0m Trial 21 finished with value: 12546.895860113325 and parameters: {'learning_rate_init': 0.07072726670349573, 'hidden_layer_sizes': 277, 'activation': 'relu'}. Best is trial 9 with value: 383.5585892868298.\u001b[0m\n",
      "\u001b[32m[I 2024-04-08 12:25:54,401]\u001b[0m Trial 22 finished with value: 3151.700604292809 and parameters: {'learning_rate_init': 0.07423747894259246, 'hidden_layer_sizes': 223, 'activation': 'relu'}. Best is trial 9 with value: 383.5585892868298.\u001b[0m\n",
      "\u001b[32m[I 2024-04-08 12:25:55,152]\u001b[0m Trial 23 finished with value: 9890.631850725054 and parameters: {'learning_rate_init': 0.061742937972664974, 'hidden_layer_sizes': 483, 'activation': 'relu'}. Best is trial 9 with value: 383.5585892868298.\u001b[0m\n",
      "\u001b[32m[I 2024-04-08 12:25:55,402]\u001b[0m Trial 24 finished with value: 18479.266872026245 and parameters: {'learning_rate_init': 0.11831696812666381, 'hidden_layer_sizes': 139, 'activation': 'relu'}. Best is trial 9 with value: 383.5585892868298.\u001b[0m\n",
      "\u001b[32m[I 2024-04-08 12:25:56,364]\u001b[0m Trial 25 finished with value: 350.86053457591964 and parameters: {'learning_rate_init': 0.00544019058165232, 'hidden_layer_sizes': 279, 'activation': 'relu'}. Best is trial 25 with value: 350.86053457591964.\u001b[0m\n",
      "\u001b[32m[I 2024-04-08 12:25:56,456]\u001b[0m Trial 26 finished with value: 177826266.16122007 and parameters: {'learning_rate_init': 0.1859064364228239, 'hidden_layer_sizes': 399, 'activation': 'identity'}. Best is trial 25 with value: 350.86053457591964.\u001b[0m\n",
      "\u001b[32m[I 2024-04-08 12:25:57,641]\u001b[0m Trial 27 finished with value: 10564.090768565644 and parameters: {'learning_rate_init': 0.005598857608094695, 'hidden_layer_sizes': 301, 'activation': 'tanh'}. Best is trial 25 with value: 350.86053457591964.\u001b[0m\n",
      "\u001b[32m[I 2024-04-08 12:25:58,198]\u001b[0m Trial 28 finished with value: 14960.391470019496 and parameters: {'learning_rate_init': 0.2793109118861599, 'hidden_layer_sizes': 159, 'activation': 'logistic'}. Best is trial 25 with value: 350.86053457591964.\u001b[0m\n",
      "\u001b[32m[I 2024-04-08 12:25:58,431]\u001b[0m Trial 29 finished with value: 17624.488600465436 and parameters: {'learning_rate_init': 0.04469921875854106, 'hidden_layer_sizes': 424, 'activation': 'logistic'}. Best is trial 25 with value: 350.86053457591964.\u001b[0m\n",
      "\u001b[32m[I 2024-04-08 12:25:58,754]\u001b[0m Trial 30 finished with value: 8656.748504035011 and parameters: {'learning_rate_init': 0.10335133999688427, 'hidden_layer_sizes': 90, 'activation': 'relu'}. Best is trial 25 with value: 350.86053457591964.\u001b[0m\n",
      "\u001b[32m[I 2024-04-08 12:25:59,549]\u001b[0m Trial 31 finished with value: 636.5397020084906 and parameters: {'learning_rate_init': 0.04196511745840406, 'hidden_layer_sizes': 256, 'activation': 'relu'}. Best is trial 25 with value: 350.86053457591964.\u001b[0m\n",
      "\u001b[32m[I 2024-04-08 12:26:00,155]\u001b[0m Trial 32 finished with value: 3458.2989035532023 and parameters: {'learning_rate_init': 0.0013347197372811145, 'hidden_layer_sizes': 194, 'activation': 'relu'}. Best is trial 25 with value: 350.86053457591964.\u001b[0m\n"
     ]
    },
    {
     "name": "stderr",
     "output_type": "stream",
     "text": [
      "\u001b[32m[I 2024-04-08 12:26:01,367]\u001b[0m Trial 33 finished with value: 1191.0451908128907 and parameters: {'learning_rate_init': 0.053976365162988996, 'hidden_layer_sizes': 562, 'activation': 'relu'}. Best is trial 25 with value: 350.86053457591964.\u001b[0m\n",
      "\u001b[32m[I 2024-04-08 12:26:01,555]\u001b[0m Trial 34 finished with value: 3424.1030522711894 and parameters: {'learning_rate_init': 0.0974392568227111, 'hidden_layer_sizes': 11, 'activation': 'relu'}. Best is trial 25 with value: 350.86053457591964.\u001b[0m\n",
      "\u001b[32m[I 2024-04-08 12:26:03,582]\u001b[0m Trial 35 finished with value: 13670.049949430406 and parameters: {'learning_rate_init': 0.17255728864710476, 'hidden_layer_sizes': 340, 'activation': 'logistic'}. Best is trial 25 with value: 350.86053457591964.\u001b[0m\n",
      "\u001b[32m[I 2024-04-08 12:26:04,165]\u001b[0m Trial 36 finished with value: 2663.1020262141096 and parameters: {'learning_rate_init': 0.051464752518821655, 'hidden_layer_sizes': 267, 'activation': 'relu'}. Best is trial 25 with value: 350.86053457591964.\u001b[0m\n",
      "\u001b[32m[I 2024-04-08 12:26:05,707]\u001b[0m Trial 37 finished with value: 13307.801213396553 and parameters: {'learning_rate_init': 0.35141851713416467, 'hidden_layer_sizes': 833, 'activation': 'tanh'}. Best is trial 25 with value: 350.86053457591964.\u001b[0m\n",
      "\u001b[32m[I 2024-04-08 12:26:05,786]\u001b[0m Trial 38 finished with value: 5157104.321402352 and parameters: {'learning_rate_init': 0.5153332925664461, 'hidden_layer_sizes': 175, 'activation': 'relu'}. Best is trial 25 with value: 350.86053457591964.\u001b[0m\n",
      "\u001b[32m[I 2024-04-08 12:26:05,901]\u001b[0m Trial 39 finished with value: 109611.67051697531 and parameters: {'learning_rate_init': 0.03528553387908936, 'hidden_layer_sizes': 547, 'activation': 'identity'}. Best is trial 25 with value: 350.86053457591964.\u001b[0m\n",
      "\u001b[32m[I 2024-04-08 12:26:06,072]\u001b[0m Trial 40 finished with value: 18083.29274452829 and parameters: {'learning_rate_init': 0.09793947927191587, 'hidden_layer_sizes': 259, 'activation': 'logistic'}. Best is trial 25 with value: 350.86053457591964.\u001b[0m\n",
      "\u001b[32m[I 2024-04-08 12:26:06,693]\u001b[0m Trial 41 finished with value: 716.260331046102 and parameters: {'learning_rate_init': 0.036017690832209966, 'hidden_layer_sizes': 251, 'activation': 'relu'}. Best is trial 25 with value: 350.86053457591964.\u001b[0m\n",
      "\u001b[32m[I 2024-04-08 12:26:07,075]\u001b[0m Trial 42 finished with value: 781.3811121147517 and parameters: {'learning_rate_init': 0.029545030113236535, 'hidden_layer_sizes': 91, 'activation': 'relu'}. Best is trial 25 with value: 350.86053457591964.\u001b[0m\n",
      "\u001b[32m[I 2024-04-08 12:26:07,797]\u001b[0m Trial 43 finished with value: 6113.233092401739 and parameters: {'learning_rate_init': 0.07517255160090147, 'hidden_layer_sizes': 322, 'activation': 'relu'}. Best is trial 25 with value: 350.86053457591964.\u001b[0m\n",
      "\u001b[32m[I 2024-04-08 12:26:07,909]\u001b[0m Trial 44 finished with value: 2049346.6218212736 and parameters: {'learning_rate_init': 0.3419313815016084, 'hidden_layer_sizes': 379, 'activation': 'relu'}. Best is trial 25 with value: 350.86053457591964.\u001b[0m\n",
      "\u001b[32m[I 2024-04-08 12:26:09,392]\u001b[0m Trial 45 finished with value: 13652.933838035062 and parameters: {'learning_rate_init': 0.13330056038411758, 'hidden_layer_sizes': 450, 'activation': 'tanh'}. Best is trial 25 with value: 350.86053457591964.\u001b[0m\n",
      "\u001b[32m[I 2024-04-08 12:26:10,184]\u001b[0m Trial 46 finished with value: 346.1382751610905 and parameters: {'learning_rate_init': 0.002342461263072082, 'hidden_layer_sizes': 228, 'activation': 'relu'}. Best is trial 46 with value: 346.1382751610905.\u001b[0m\n",
      "\u001b[32m[I 2024-04-08 12:26:10,471]\u001b[0m Trial 47 finished with value: 4790.261528403345 and parameters: {'learning_rate_init': 0.019356062354804696, 'hidden_layer_sizes': 173, 'activation': 'relu'}. Best is trial 46 with value: 346.1382751610905.\u001b[0m\n",
      "\u001b[32m[I 2024-04-08 12:26:10,721]\u001b[0m Trial 48 finished with value: 645.2935104011716 and parameters: {'learning_rate_init': 0.002088848579308942, 'hidden_layer_sizes': 67, 'activation': 'relu'}. Best is trial 46 with value: 346.1382751610905.\u001b[0m\n",
      "\u001b[32m[I 2024-04-08 12:26:11,227]\u001b[0m Trial 49 finished with value: 13218.60857657703 and parameters: {'learning_rate_init': 0.11480303801463262, 'hidden_layer_sizes': 300, 'activation': 'relu'}. Best is trial 46 with value: 346.1382751610905.\u001b[0m\n",
      "\u001b[32m[I 2024-04-08 12:26:11,302]\u001b[0m Trial 50 finished with value: 286862.41381896276 and parameters: {'learning_rate_init': 0.07405281540120909, 'hidden_layer_sizes': 138, 'activation': 'identity'}. Best is trial 46 with value: 346.1382751610905.\u001b[0m\n",
      "\u001b[32m[I 2024-04-08 12:26:12,035]\u001b[0m Trial 51 finished with value: 689.873775495705 and parameters: {'learning_rate_init': 0.03812519880531432, 'hidden_layer_sizes': 231, 'activation': 'relu'}. Best is trial 46 with value: 346.1382751610905.\u001b[0m\n",
      "\u001b[32m[I 2024-04-08 12:26:12,643]\u001b[0m Trial 52 finished with value: 498.16211395580865 and parameters: {'learning_rate_init': 0.02957515763818088, 'hidden_layer_sizes': 198, 'activation': 'relu'}. Best is trial 46 with value: 346.1382751610905.\u001b[0m\n",
      "\u001b[32m[I 2024-04-08 12:26:12,727]\u001b[0m Trial 53 finished with value: 30043.36255248877 and parameters: {'learning_rate_init': 0.5764031554066786, 'hidden_layer_sizes': 196, 'activation': 'relu'}. Best is trial 46 with value: 346.1382751610905.\u001b[0m\n",
      "\u001b[32m[I 2024-04-08 12:26:13,170]\u001b[0m Trial 54 finished with value: 695.3782755202695 and parameters: {'learning_rate_init': 0.022617700154092476, 'hidden_layer_sizes': 126, 'activation': 'relu'}. Best is trial 46 with value: 346.1382751610905.\u001b[0m\n",
      "\u001b[32m[I 2024-04-08 12:26:13,712]\u001b[0m Trial 55 finished with value: 2220.449968351454 and parameters: {'learning_rate_init': 0.06161396156586999, 'hidden_layer_sizes': 359, 'activation': 'relu'}. Best is trial 46 with value: 346.1382751610905.\u001b[0m\n",
      "\u001b[32m[I 2024-04-08 12:26:14,443]\u001b[0m Trial 56 finished with value: 2129.1373081518364 and parameters: {'learning_rate_init': 0.019392580549995677, 'hidden_layer_sizes': 292, 'activation': 'relu'}. Best is trial 46 with value: 346.1382751610905.\u001b[0m\n",
      "\u001b[32m[I 2024-04-08 12:26:15,389]\u001b[0m Trial 57 finished with value: 18931.125794682062 and parameters: {'learning_rate_init': 0.0014044550037614727, 'hidden_layer_sizes': 224, 'activation': 'tanh'}. Best is trial 46 with value: 346.1382751610905.\u001b[0m\n",
      "\u001b[32m[I 2024-04-08 12:26:15,601]\u001b[0m Trial 58 finished with value: 6684.38641633551 and parameters: {'learning_rate_init': 0.16611698426845928, 'hidden_layer_sizes': 41, 'activation': 'relu'}. Best is trial 46 with value: 346.1382751610905.\u001b[0m\n",
      "\u001b[32m[I 2024-04-08 12:26:17,494]\u001b[0m Trial 59 finished with value: 6982.853402842249 and parameters: {'learning_rate_init': 0.05817968073025594, 'hidden_layer_sizes': 762, 'activation': 'relu'}. Best is trial 46 with value: 346.1382751610905.\u001b[0m\n",
      "\u001b[32m[I 2024-04-08 12:26:18,010]\u001b[0m Trial 60 finished with value: 3181.970819496227 and parameters: {'learning_rate_init': 0.08512998034549249, 'hidden_layer_sizes': 153, 'activation': 'relu'}. Best is trial 46 with value: 346.1382751610905.\u001b[0m\n",
      "\u001b[32m[I 2024-04-08 12:26:18,878]\u001b[0m Trial 61 finished with value: 730.4850136690432 and parameters: {'learning_rate_init': 0.04030424243348918, 'hidden_layer_sizes': 243, 'activation': 'relu'}. Best is trial 46 with value: 346.1382751610905.\u001b[0m\n",
      "\u001b[32m[I 2024-04-08 12:26:19,280]\u001b[0m Trial 62 finished with value: 5725.358909713854 and parameters: {'learning_rate_init': 0.02333574950721472, 'hidden_layer_sizes': 195, 'activation': 'relu'}. Best is trial 46 with value: 346.1382751610905.\u001b[0m\n",
      "\u001b[32m[I 2024-04-08 12:26:20,677]\u001b[0m Trial 63 finished with value: 937.3511096133982 and parameters: {'learning_rate_init': 0.051023637884562996, 'hidden_layer_sizes': 327, 'activation': 'relu'}. Best is trial 46 with value: 346.1382751610905.\u001b[0m\n",
      "\u001b[32m[I 2024-04-08 12:26:21,319]\u001b[0m Trial 64 finished with value: 5009.525408081723 and parameters: {'learning_rate_init': 0.07637684323939192, 'hidden_layer_sizes': 102, 'activation': 'relu'}. Best is trial 46 with value: 346.1382751610905.\u001b[0m\n",
      "\u001b[32m[I 2024-04-08 12:26:22,357]\u001b[0m Trial 65 finished with value: 16563.19016958125 and parameters: {'learning_rate_init': 0.12234823527756081, 'hidden_layer_sizes': 295, 'activation': 'logistic'}. Best is trial 46 with value: 346.1382751610905.\u001b[0m\n"
     ]
    },
    {
     "name": "stderr",
     "output_type": "stream",
     "text": [
      "\u001b[32m[I 2024-04-08 12:26:22,889]\u001b[0m Trial 66 finished with value: 5289.250954426194 and parameters: {'learning_rate_init': 0.020577658498890424, 'hidden_layer_sizes': 267, 'activation': 'relu'}. Best is trial 46 with value: 346.1382751610905.\u001b[0m\n",
      "\u001b[32m[I 2024-04-08 12:26:23,370]\u001b[0m Trial 67 finished with value: 14880.747851766355 and parameters: {'learning_rate_init': 0.09638606439995598, 'hidden_layer_sizes': 173, 'activation': 'relu'}. Best is trial 46 with value: 346.1382751610905.\u001b[0m\n",
      "\u001b[32m[I 2024-04-08 12:26:23,473]\u001b[0m Trial 68 finished with value: 12046787.914819116 and parameters: {'learning_rate_init': 0.14942971823075896, 'hidden_layer_sizes': 215, 'activation': 'identity'}. Best is trial 46 with value: 346.1382751610905.\u001b[0m\n",
      "\u001b[32m[I 2024-04-08 12:26:24,718]\u001b[0m Trial 69 finished with value: 791.4210427561923 and parameters: {'learning_rate_init': 0.048910471283212964, 'hidden_layer_sizes': 355, 'activation': 'relu'}. Best is trial 46 with value: 346.1382751610905.\u001b[0m\n",
      "\u001b[32m[I 2024-04-08 12:26:25,775]\u001b[0m Trial 70 finished with value: 12754.989224528512 and parameters: {'learning_rate_init': 0.4318517936921866, 'hidden_layer_sizes': 384, 'activation': 'tanh'}. Best is trial 46 with value: 346.1382751610905.\u001b[0m\n",
      "\u001b[32m[I 2024-04-08 12:26:26,117]\u001b[0m Trial 71 finished with value: 787.7414453742438 and parameters: {'learning_rate_init': 0.00807554052110497, 'hidden_layer_sizes': 65, 'activation': 'relu'}. Best is trial 46 with value: 346.1382751610905.\u001b[0m\n",
      "\u001b[32m[I 2024-04-08 12:26:26,435]\u001b[0m Trial 72 finished with value: 1079.8649903818011 and parameters: {'learning_rate_init': 0.004236393637323926, 'hidden_layer_sizes': 58, 'activation': 'relu'}. Best is trial 46 with value: 346.1382751610905.\u001b[0m\n",
      "\u001b[32m[I 2024-04-08 12:26:29,027]\u001b[0m Trial 73 finished with value: 1324.4512396233727 and parameters: {'learning_rate_init': 0.035170310541357, 'hidden_layer_sizes': 933, 'activation': 'relu'}. Best is trial 46 with value: 346.1382751610905.\u001b[0m\n",
      "\u001b[32m[I 2024-04-08 12:26:29,547]\u001b[0m Trial 74 finished with value: 697.8306801616579 and parameters: {'learning_rate_init': 0.06350125132068977, 'hidden_layer_sizes': 121, 'activation': 'relu'}. Best is trial 46 with value: 346.1382751610905.\u001b[0m\n",
      "\u001b[32m[I 2024-04-08 12:26:30,002]\u001b[0m Trial 75 finished with value: 3924.0148453381526 and parameters: {'learning_rate_init': 0.001563714327088542, 'hidden_layer_sizes': 86, 'activation': 'relu'}. Best is trial 46 with value: 346.1382751610905.\u001b[0m\n",
      "\u001b[32m[I 2024-04-08 12:26:30,810]\u001b[0m Trial 76 finished with value: 1805.6272413846436 and parameters: {'learning_rate_init': 0.019941884107825988, 'hidden_layer_sizes': 239, 'activation': 'relu'}. Best is trial 46 with value: 346.1382751610905.\u001b[0m\n",
      "\u001b[32m[I 2024-04-08 12:26:31,615]\u001b[0m Trial 77 finished with value: 17177.114144204843 and parameters: {'learning_rate_init': 0.040637356434705785, 'hidden_layer_sizes': 190, 'activation': 'logistic'}. Best is trial 46 with value: 346.1382751610905.\u001b[0m\n",
      "\u001b[32m[I 2024-04-08 12:26:32,299]\u001b[0m Trial 78 finished with value: 2817.819287544927 and parameters: {'learning_rate_init': 0.0855723120518292, 'hidden_layer_sizes': 157, 'activation': 'relu'}. Best is trial 46 with value: 346.1382751610905.\u001b[0m\n",
      "\u001b[32m[I 2024-04-08 12:26:32,729]\u001b[0m Trial 79 finished with value: 165017.4735975442 and parameters: {'learning_rate_init': 0.20742715996927566, 'hidden_layer_sizes': 280, 'activation': 'relu'}. Best is trial 46 with value: 346.1382751610905.\u001b[0m\n",
      "\u001b[32m[I 2024-04-08 12:26:32,877]\u001b[0m Trial 80 finished with value: 11163031.451099053 and parameters: {'learning_rate_init': 0.10877760761770237, 'hidden_layer_sizes': 422, 'activation': 'identity'}. Best is trial 46 with value: 346.1382751610905.\u001b[0m\n",
      "\u001b[32m[I 2024-04-08 12:26:33,650]\u001b[0m Trial 81 finished with value: 1461.2401067668866 and parameters: {'learning_rate_init': 0.032376909114844456, 'hidden_layer_sizes': 231, 'activation': 'relu'}. Best is trial 46 with value: 346.1382751610905.\u001b[0m\n",
      "\u001b[32m[I 2024-04-08 12:26:34,688]\u001b[0m Trial 82 finished with value: 694.3338707245113 and parameters: {'learning_rate_init': 0.047950560439868284, 'hidden_layer_sizes': 318, 'activation': 'relu'}. Best is trial 46 with value: 346.1382751610905.\u001b[0m\n",
      "\u001b[32m[I 2024-04-08 12:26:35,308]\u001b[0m Trial 83 finished with value: 480.15063559592335 and parameters: {'learning_rate_init': 0.014171544614083388, 'hidden_layer_sizes': 252, 'activation': 'relu'}. Best is trial 46 with value: 346.1382751610905.\u001b[0m\n",
      "\u001b[32m[I 2024-04-08 12:26:36,348]\u001b[0m Trial 84 finished with value: 403.3987359725807 and parameters: {'learning_rate_init': 0.009426361628170739, 'hidden_layer_sizes': 260, 'activation': 'relu'}. Best is trial 46 with value: 346.1382751610905.\u001b[0m\n",
      "\u001b[32m[I 2024-04-08 12:26:37,297]\u001b[0m Trial 85 finished with value: 3568.475819294423 and parameters: {'learning_rate_init': 0.013922066951816268, 'hidden_layer_sizes': 253, 'activation': 'relu'}. Best is trial 46 with value: 346.1382751610905.\u001b[0m\n",
      "\u001b[32m[I 2024-04-08 12:26:38,000]\u001b[0m Trial 86 finished with value: 2328.634476413585 and parameters: {'learning_rate_init': 0.06445960026147143, 'hidden_layer_sizes': 205, 'activation': 'relu'}. Best is trial 46 with value: 346.1382751610905.\u001b[0m\n",
      "\u001b[32m[I 2024-04-08 12:26:38,929]\u001b[0m Trial 87 finished with value: 1654.8680637205493 and parameters: {'learning_rate_init': 0.02749370478107862, 'hidden_layer_sizes': 349, 'activation': 'relu'}. Best is trial 46 with value: 346.1382751610905.\u001b[0m\n",
      "\u001b[32m[I 2024-04-08 12:26:40,015]\u001b[0m Trial 88 finished with value: 361.23960494538875 and parameters: {'learning_rate_init': 0.012607788958239783, 'hidden_layer_sizes': 270, 'activation': 'relu'}. Best is trial 46 with value: 346.1382751610905.\u001b[0m\n",
      "\u001b[32m[I 2024-04-08 12:26:40,371]\u001b[0m Trial 89 finished with value: 2337022.3978026863 and parameters: {'learning_rate_init': 0.2435242469669086, 'hidden_layer_sizes': 311, 'activation': 'relu'}. Best is trial 46 with value: 346.1382751610905.\u001b[0m\n",
      "\u001b[32m[I 2024-04-08 12:26:41,284]\u001b[0m Trial 90 finished with value: 13258.52841263811 and parameters: {'learning_rate_init': 0.3514525582933936, 'hidden_layer_sizes': 281, 'activation': 'tanh'}. Best is trial 46 with value: 346.1382751610905.\u001b[0m\n",
      "\u001b[32m[I 2024-04-08 12:26:42,257]\u001b[0m Trial 91 finished with value: 1276.8583775191626 and parameters: {'learning_rate_init': 0.014509265885083854, 'hidden_layer_sizes': 273, 'activation': 'relu'}. Best is trial 46 with value: 346.1382751610905.\u001b[0m\n",
      "\u001b[32m[I 2024-04-08 12:26:42,906]\u001b[0m Trial 92 finished with value: 2128.722003955489 and parameters: {'learning_rate_init': 0.031090578046472344, 'hidden_layer_sizes': 209, 'activation': 'relu'}. Best is trial 46 with value: 346.1382751610905.\u001b[0m\n",
      "\u001b[32m[I 2024-04-08 12:26:43,493]\u001b[0m Trial 93 finished with value: 2080.846518773707 and parameters: {'learning_rate_init': 0.0535325406032684, 'hidden_layer_sizes': 174, 'activation': 'relu'}. Best is trial 46 with value: 346.1382751610905.\u001b[0m\n",
      "\u001b[32m[I 2024-04-08 12:26:44,320]\u001b[0m Trial 94 finished with value: 919.3466972773579 and parameters: {'learning_rate_init': 0.014784870654017752, 'hidden_layer_sizes': 249, 'activation': 'relu'}. Best is trial 46 with value: 346.1382751610905.\u001b[0m\n",
      "\u001b[32m[I 2024-04-08 12:26:44,654]\u001b[0m Trial 95 finished with value: 3300.7722930426535 and parameters: {'learning_rate_init': 0.07092026378600064, 'hidden_layer_sizes': 143, 'activation': 'relu'}. Best is trial 46 with value: 346.1382751610905.\u001b[0m\n",
      "\u001b[32m[I 2024-04-08 12:26:45,455]\u001b[0m Trial 96 finished with value: 3882.599091204258 and parameters: {'learning_rate_init': 0.04388674478619973, 'hidden_layer_sizes': 232, 'activation': 'relu'}. Best is trial 46 with value: 346.1382751610905.\u001b[0m\n",
      "\u001b[32m[I 2024-04-08 12:26:46,138]\u001b[0m Trial 97 finished with value: 1615.4603103852016 and parameters: {'learning_rate_init': 0.001223033388793364, 'hidden_layer_sizes': 180, 'activation': 'relu'}. Best is trial 46 with value: 346.1382751610905.\u001b[0m\n",
      "\u001b[32m[I 2024-04-08 12:26:46,353]\u001b[0m Trial 98 finished with value: 17908.417704748223 and parameters: {'learning_rate_init': 0.08417203637001482, 'hidden_layer_sizes': 308, 'activation': 'logistic'}. Best is trial 46 with value: 346.1382751610905.\u001b[0m\n",
      "\u001b[32m[I 2024-04-08 12:26:47,275]\u001b[0m Trial 99 finished with value: 1917.010933760702 and parameters: {'learning_rate_init': 0.024721879654424045, 'hidden_layer_sizes': 335, 'activation': 'relu'}. Best is trial 46 with value: 346.1382751610905.\u001b[0m\n"
     ]
    }
   ],
   "source": [
    "study3 = optuna.create_study(direction='minimize',sampler=TPESampler())\n",
    "ys_train1=np.array(ys_train).ravel()\n",
    "study3.optimize(lambda trial: objective(trial,Xo_train,ys_train),n_trials= 100)"
   ]
  },
  {
   "cell_type": "code",
   "execution_count": 13,
   "id": "e163d133",
   "metadata": {},
   "outputs": [
    {
     "data": {
      "image/png": "[encoded data removed]",
      "text/plain": [
       "<Figure size 432x288 with 1 Axes>"
      ]
     },
     "metadata": {
      "needs_background": "light"
     },
     "output_type": "display_data"
    }
   ],
   "source": [
    "model3 = MLPRegressor(**study3.best_trial.params)\n",
    "model3.fit(Xo_train,ys_train)\n",
    "\n",
    "Z1 = model3.predict(Xo_train)\n",
    "Z2 = model3.predict(Xo_test)\n",
    "\n",
    "#xx = np.linspace(-1, 4, 10)\n",
    "#yy = xx\n",
    "\n",
    "plt.figure()\n",
    "#plt.plot(xx, yy, c='k', linewidth=2)\n",
    "plt.scatter(ys_train, Z1, marker='s')\n",
    "plt.scatter(ys_test, Z2, marker='o')\n",
    "\n",
    "plt.grid()\n",
    "plt.legend(['Training set', 'Testing set'], loc = 'upper left')\n",
    "plt.tick_params (axis = 'both', which = 'major')\n",
    "plt.axis('tight')\n",
    "plt.xlabel('Actual')\n",
    "plt.ylabel('Pred')\n",
    "\n",
    "plt.tight_layout()\n",
    "plt.show()"
   ]
  },
  {
   "cell_type": "markdown",
   "id": "cd962e05",
   "metadata": {},
   "source": [
    "## M4 ANN"
   ]
  },
  {
   "cell_type": "code",
   "execution_count": 14,
   "id": "0c06a929",
   "metadata": {},
   "outputs": [],
   "source": [
    "X4_train = np.concatenate([Xo_train, Xoe_train])\n",
    "y4_train = np.concatenate([ys_train, yoe_train])\n",
    "X4_test = np.concatenate([Xo_test, Xoe_test])\n",
    "y4_test = np.concatenate([ys_test, yoe_test])"
   ]
  },
  {
   "cell_type": "code",
   "execution_count": 15,
   "id": "bc1c626e",
   "metadata": {},
   "outputs": [],
   "source": [
    "def objective(trial: Trial,X,y) -> float:   \n",
    "    #joblib.dump(study, 'study.pkl')      #保存模型\n",
    "    param = {\"learning_rate_init\" : trial.suggest_float('learning_rate_init',0.001,0.6),\n",
    "             'hidden_layer_sizes':trial.suggest_int('hidden_layer_sizes',10,1000),\n",
    "             'activation':trial.suggest_categorical('activation',['identity', 'logistic', 'tanh', 'relu']),\n",
    "             \"solver\": 'adam', \n",
    "             #'nthread' : -1\n",
    "            }\n",
    "    model = MLPRegressor(**param)\n",
    "    model.fit(X,y)\n",
    "    return np.mean(-cross_val_score(model,X,y,cv=10,scoring='neg_mean_squared_error',n_jobs=-1)) "
   ]
  },
  {
   "cell_type": "code",
   "execution_count": 16,
   "id": "e01be724",
   "metadata": {
    "scrolled": true
   },
   "outputs": [
    {
     "name": "stderr",
     "output_type": "stream",
     "text": [
      "\u001b[32m[I 2024-04-08 12:26:47,796]\u001b[0m A new study created in memory with name: no-name-bcdff89f-a399-4116-af17-b4d4dd0b5899\u001b[0m\n",
      "\u001b[32m[I 2024-04-08 12:26:48,668]\u001b[0m Trial 0 finished with value: 4263908066.2948647 and parameters: {'learning_rate_init': 0.3834731433118301, 'hidden_layer_sizes': 387, 'activation': 'identity'}. Best is trial 0 with value: 4263908066.2948647.\u001b[0m\n",
      "\u001b[32m[I 2024-04-08 12:26:49,289]\u001b[0m Trial 1 finished with value: 4782241.650594288 and parameters: {'learning_rate_init': 0.1689590584745556, 'hidden_layer_sizes': 20, 'activation': 'logistic'}. Best is trial 1 with value: 4782241.650594288.\u001b[0m\n",
      "\u001b[32m[I 2024-04-08 12:26:50,293]\u001b[0m Trial 2 finished with value: 978606.4380047269 and parameters: {'learning_rate_init': 0.001240155261498248, 'hidden_layer_sizes': 184, 'activation': 'identity'}. Best is trial 2 with value: 978606.4380047269.\u001b[0m\n",
      "\u001b[32m[I 2024-04-08 12:26:50,612]\u001b[0m Trial 3 finished with value: 423745936394.533 and parameters: {'learning_rate_init': 0.5362687389939272, 'hidden_layer_sizes': 803, 'activation': 'identity'}. Best is trial 2 with value: 978606.4380047269.\u001b[0m\n",
      "\u001b[32m[I 2024-04-08 12:26:53,578]\u001b[0m Trial 4 finished with value: 4155720.3369229687 and parameters: {'learning_rate_init': 0.558395382880669, 'hidden_layer_sizes': 711, 'activation': 'tanh'}. Best is trial 2 with value: 978606.4380047269.\u001b[0m\n",
      "\u001b[32m[I 2024-04-08 12:26:54,532]\u001b[0m Trial 5 finished with value: 4831645.130637591 and parameters: {'learning_rate_init': 0.055605398171111764, 'hidden_layer_sizes': 49, 'activation': 'logistic'}. Best is trial 2 with value: 978606.4380047269.\u001b[0m\n",
      "\u001b[32m[I 2024-04-08 12:26:55,076]\u001b[0m Trial 6 finished with value: 6287617.86210254 and parameters: {'learning_rate_init': 0.3830216862616226, 'hidden_layer_sizes': 742, 'activation': 'relu'}. Best is trial 2 with value: 978606.4380047269.\u001b[0m\n",
      "\u001b[32m[I 2024-04-08 12:26:55,231]\u001b[0m Trial 7 finished with value: 29111288705.745766 and parameters: {'learning_rate_init': 0.5406984278173288, 'hidden_layer_sizes': 299, 'activation': 'identity'}. Best is trial 2 with value: 978606.4380047269.\u001b[0m\n",
      "\u001b[32m[I 2024-04-08 12:26:56,017]\u001b[0m Trial 8 finished with value: 42153587097.018326 and parameters: {'learning_rate_init': 0.351708187891843, 'hidden_layer_sizes': 739, 'activation': 'identity'}. Best is trial 2 with value: 978606.4380047269.\u001b[0m\n",
      "\u001b[32m[I 2024-04-08 12:26:56,405]\u001b[0m Trial 9 finished with value: 30908926826.169666 and parameters: {'learning_rate_init': 0.5739973927363824, 'hidden_layer_sizes': 383, 'activation': 'identity'}. Best is trial 2 with value: 978606.4380047269.\u001b[0m\n",
      "\u001b[32m[I 2024-04-08 12:26:57,817]\u001b[0m Trial 10 finished with value: 629196.3429705488 and parameters: {'learning_rate_init': 0.009057016928460017, 'hidden_layer_sizes': 203, 'activation': 'relu'}. Best is trial 10 with value: 629196.3429705488.\u001b[0m\n",
      "\u001b[32m[I 2024-04-08 12:26:59,227]\u001b[0m Trial 11 finished with value: 576271.0952373615 and parameters: {'learning_rate_init': 0.005312137311644552, 'hidden_layer_sizes': 196, 'activation': 'relu'}. Best is trial 11 with value: 576271.0952373615.\u001b[0m\n",
      "\u001b[32m[I 2024-04-08 12:27:00,557]\u001b[0m Trial 12 finished with value: 3994564.2927059345 and parameters: {'learning_rate_init': 0.16018327293268658, 'hidden_layer_sizes': 568, 'activation': 'relu'}. Best is trial 11 with value: 576271.0952373615.\u001b[0m\n",
      "\u001b[32m[I 2024-04-08 12:27:01,156]\u001b[0m Trial 13 finished with value: 867769.3876351379 and parameters: {'learning_rate_init': 0.12692242711001414, 'hidden_layer_sizes': 188, 'activation': 'relu'}. Best is trial 11 with value: 576271.0952373615.\u001b[0m\n",
      "\u001b[32m[I 2024-04-08 12:27:02,847]\u001b[0m Trial 14 finished with value: 1191520.6332761296 and parameters: {'learning_rate_init': 0.24862139152034002, 'hidden_layer_sizes': 550, 'activation': 'relu'}. Best is trial 11 with value: 576271.0952373615.\u001b[0m\n",
      "\u001b[32m[I 2024-04-08 12:27:04,232]\u001b[0m Trial 15 finished with value: 643726.0420835157 and parameters: {'learning_rate_init': 0.0035322032181001987, 'hidden_layer_sizes': 165, 'activation': 'relu'}. Best is trial 11 with value: 576271.0952373615.\u001b[0m\n",
      "\u001b[32m[I 2024-04-08 12:27:13,126]\u001b[0m Trial 16 finished with value: 3960278.1895445166 and parameters: {'learning_rate_init': 0.06553040380277697, 'hidden_layer_sizes': 914, 'activation': 'tanh'}. Best is trial 11 with value: 576271.0952373615.\u001b[0m\n",
      "\u001b[32m[I 2024-04-08 12:27:14,263]\u001b[0m Trial 17 finished with value: 2644496.6511026183 and parameters: {'learning_rate_init': 0.25941101755773677, 'hidden_layer_sizes': 324, 'activation': 'relu'}. Best is trial 11 with value: 576271.0952373615.\u001b[0m\n",
      "\u001b[32m[I 2024-04-08 12:27:15,733]\u001b[0m Trial 18 finished with value: 842594.86519517 and parameters: {'learning_rate_init': 0.10224731071036504, 'hidden_layer_sizes': 432, 'activation': 'relu'}. Best is trial 11 with value: 576271.0952373615.\u001b[0m\n",
      "\u001b[32m[I 2024-04-08 12:27:16,150]\u001b[0m Trial 19 finished with value: 1715433.457142946 and parameters: {'learning_rate_init': 0.21236156485397614, 'hidden_layer_sizes': 255, 'activation': 'relu'}. Best is trial 11 with value: 576271.0952373615.\u001b[0m\n",
      "\u001b[32m[I 2024-04-08 12:27:16,543]\u001b[0m Trial 20 finished with value: 4272226.721324675 and parameters: {'learning_rate_init': 0.46443672983877493, 'hidden_layer_sizes': 99, 'activation': 'tanh'}. Best is trial 11 with value: 576271.0952373615.\u001b[0m\n",
      "\u001b[32m[I 2024-04-08 12:27:17,781]\u001b[0m Trial 21 finished with value: 607701.1715247405 and parameters: {'learning_rate_init': 0.0018164829470296285, 'hidden_layer_sizes': 154, 'activation': 'relu'}. Best is trial 11 with value: 576271.0952373615.\u001b[0m\n",
      "\u001b[32m[I 2024-04-08 12:27:18,496]\u001b[0m Trial 22 finished with value: 659299.0104730708 and parameters: {'learning_rate_init': 0.04581118996610472, 'hidden_layer_sizes': 109, 'activation': 'relu'}. Best is trial 11 with value: 576271.0952373615.\u001b[0m\n",
      "\u001b[32m[I 2024-04-08 12:27:19,007]\u001b[0m Trial 23 finished with value: 902739.5835605946 and parameters: {'learning_rate_init': 0.0954360065985815, 'hidden_layer_sizes': 235, 'activation': 'relu'}. Best is trial 11 with value: 576271.0952373615.\u001b[0m\n",
      "\u001b[32m[I 2024-04-08 12:27:23,621]\u001b[0m Trial 24 finished with value: 4485111.510497498 and parameters: {'learning_rate_init': 0.009612785688519677, 'hidden_layer_sizes': 471, 'activation': 'logistic'}. Best is trial 11 with value: 576271.0952373615.\u001b[0m\n",
      "\u001b[32m[I 2024-04-08 12:27:23,964]\u001b[0m Trial 25 finished with value: 878581.3484826467 and parameters: {'learning_rate_init': 0.14716825388165786, 'hidden_layer_sizes': 114, 'activation': 'relu'}. Best is trial 11 with value: 576271.0952373615.\u001b[0m\n",
      "\u001b[32m[I 2024-04-08 12:27:24,846]\u001b[0m Trial 26 finished with value: 905831.5654777404 and parameters: {'learning_rate_init': 0.061922084766746106, 'hidden_layer_sizes': 317, 'activation': 'relu'}. Best is trial 11 with value: 576271.0952373615.\u001b[0m\n",
      "\u001b[32m[I 2024-04-08 12:27:26,261]\u001b[0m Trial 27 finished with value: 2827635.6862621326 and parameters: {'learning_rate_init': 0.19646646416120378, 'hidden_layer_sizes': 617, 'activation': 'relu'}. Best is trial 11 with value: 576271.0952373615.\u001b[0m\n",
      "\u001b[32m[I 2024-04-08 12:27:26,487]\u001b[0m Trial 28 finished with value: 792371.1241623381 and parameters: {'learning_rate_init': 0.09959511746450075, 'hidden_layer_sizes': 14, 'activation': 'relu'}. Best is trial 11 with value: 576271.0952373615.\u001b[0m\n",
      "\u001b[32m[I 2024-04-08 12:27:28,111]\u001b[0m Trial 29 finished with value: 4094476.4118433716 and parameters: {'learning_rate_init': 0.3287699687014696, 'hidden_layer_sizes': 376, 'activation': 'tanh'}. Best is trial 11 with value: 576271.0952373615.\u001b[0m\n",
      "\u001b[32m[I 2024-04-08 12:27:29,073]\u001b[0m Trial 30 finished with value: 4422298.094080651 and parameters: {'learning_rate_init': 0.4617958988643389, 'hidden_layer_sizes': 274, 'activation': 'logistic'}. Best is trial 11 with value: 576271.0952373615.\u001b[0m\n",
      "\u001b[32m[I 2024-04-08 12:27:30,147]\u001b[0m Trial 31 finished with value: 721996.1982237205 and parameters: {'learning_rate_init': 0.02632912044010654, 'hidden_layer_sizes': 199, 'activation': 'relu'}. Best is trial 11 with value: 576271.0952373615.\u001b[0m\n",
      "\u001b[32m[I 2024-04-08 12:27:31,368]\u001b[0m Trial 32 finished with value: 663051.9240340027 and parameters: {'learning_rate_init': 0.014304469515560856, 'hidden_layer_sizes': 157, 'activation': 'relu'}. Best is trial 11 with value: 576271.0952373615.\u001b[0m\n"
     ]
    },
    {
     "name": "stderr",
     "output_type": "stream",
     "text": [
      "\u001b[32m[I 2024-04-08 12:27:31,934]\u001b[0m Trial 33 finished with value: 860929.2638093339 and parameters: {'learning_rate_init': 0.07693846329112398, 'hidden_layer_sizes': 78, 'activation': 'relu'}. Best is trial 11 with value: 576271.0952373615.\u001b[0m\n",
      "\u001b[32m[I 2024-04-08 12:27:33,258]\u001b[0m Trial 34 finished with value: 609283.0562979521 and parameters: {'learning_rate_init': 0.006171536834554828, 'hidden_layer_sizes': 179, 'activation': 'relu'}. Best is trial 11 with value: 576271.0952373615.\u001b[0m\n",
      "\u001b[32m[I 2024-04-08 12:27:33,842]\u001b[0m Trial 35 finished with value: 1009130.8017929991 and parameters: {'learning_rate_init': 0.13272033687234575, 'hidden_layer_sizes': 240, 'activation': 'relu'}. Best is trial 11 with value: 576271.0952373615.\u001b[0m\n",
      "\u001b[32m[I 2024-04-08 12:27:38,081]\u001b[0m Trial 36 finished with value: 4316894.703010233 and parameters: {'learning_rate_init': 0.04933161449744708, 'hidden_layer_sizes': 361, 'activation': 'logistic'}. Best is trial 11 with value: 576271.0952373615.\u001b[0m\n",
      "\u001b[32m[I 2024-04-08 12:27:38,762]\u001b[0m Trial 37 finished with value: 742817.2192217039 and parameters: {'learning_rate_init': 0.03454766250956029, 'hidden_layer_sizes': 156, 'activation': 'relu'}. Best is trial 11 with value: 576271.0952373615.\u001b[0m\n",
      "\u001b[32m[I 2024-04-08 12:27:39,333]\u001b[0m Trial 38 finished with value: 4242115.054467024 and parameters: {'learning_rate_init': 0.11241289642993624, 'hidden_layer_sizes': 48, 'activation': 'tanh'}. Best is trial 11 with value: 576271.0952373615.\u001b[0m\n",
      "\u001b[32m[I 2024-04-08 12:27:39,869]\u001b[0m Trial 39 finished with value: 1013835.4848433146 and parameters: {'learning_rate_init': 0.08059337329376091, 'hidden_layer_sizes': 208, 'activation': 'identity'}. Best is trial 11 with value: 576271.0952373615.\u001b[0m\n",
      "\u001b[32m[I 2024-04-08 12:27:40,884]\u001b[0m Trial 40 finished with value: 3145673.176476912 and parameters: {'learning_rate_init': 0.18907544023033934, 'hidden_layer_sizes': 432, 'activation': 'relu'}. Best is trial 11 with value: 576271.0952373615.\u001b[0m\n",
      "\u001b[32m[I 2024-04-08 12:27:41,957]\u001b[0m Trial 41 finished with value: 588880.7179511902 and parameters: {'learning_rate_init': 0.0036861158640803774, 'hidden_layer_sizes': 140, 'activation': 'relu'}. Best is trial 11 with value: 576271.0952373615.\u001b[0m\n",
      "\u001b[32m[I 2024-04-08 12:27:43,012]\u001b[0m Trial 42 finished with value: 660030.4526763359 and parameters: {'learning_rate_init': 0.004409460424066172, 'hidden_layer_sizes': 132, 'activation': 'relu'}. Best is trial 11 with value: 576271.0952373615.\u001b[0m\n",
      "\u001b[32m[I 2024-04-08 12:27:43,352]\u001b[0m Trial 43 finished with value: 691769.1834893331 and parameters: {'learning_rate_init': 0.04150867603290315, 'hidden_layer_sizes': 42, 'activation': 'relu'}. Best is trial 11 with value: 576271.0952373615.\u001b[0m\n",
      "\u001b[32m[I 2024-04-08 12:27:43,937]\u001b[0m Trial 44 finished with value: 991511.7643683184 and parameters: {'learning_rate_init': 0.04054055627463556, 'hidden_layer_sizes': 297, 'activation': 'identity'}. Best is trial 11 with value: 576271.0952373615.\u001b[0m\n",
      "\u001b[32m[I 2024-04-08 12:27:45,435]\u001b[0m Trial 45 finished with value: 583439.6617029771 and parameters: {'learning_rate_init': 0.00333591326722127, 'hidden_layer_sizes': 213, 'activation': 'relu'}. Best is trial 11 with value: 576271.0952373615.\u001b[0m\n",
      "\u001b[32m[I 2024-04-08 12:27:45,896]\u001b[0m Trial 46 finished with value: 864689.7693285911 and parameters: {'learning_rate_init': 0.0800156436487467, 'hidden_layer_sizes': 81, 'activation': 'relu'}. Best is trial 11 with value: 576271.0952373615.\u001b[0m\n",
      "\u001b[32m[I 2024-04-08 12:27:48,570]\u001b[0m Trial 47 finished with value: 4359183.266191443 and parameters: {'learning_rate_init': 0.027338245803725975, 'hidden_layer_sizes': 220, 'activation': 'logistic'}. Best is trial 11 with value: 576271.0952373615.\u001b[0m\n",
      "\u001b[32m[I 2024-04-08 12:27:49,678]\u001b[0m Trial 48 finished with value: 675642.0663750905 and parameters: {'learning_rate_init': 0.0011916423934504117, 'hidden_layer_sizes': 145, 'activation': 'relu'}. Best is trial 11 with value: 576271.0952373615.\u001b[0m\n",
      "\u001b[32m[I 2024-04-08 12:27:50,549]\u001b[0m Trial 49 finished with value: 860335.2626598865 and parameters: {'learning_rate_init': 0.06437821433142066, 'hidden_layer_sizes': 335, 'activation': 'relu'}. Best is trial 11 with value: 576271.0952373615.\u001b[0m\n",
      "\u001b[32m[I 2024-04-08 12:27:51,055]\u001b[0m Trial 50 finished with value: 13553023.661519984 and parameters: {'learning_rate_init': 0.126751239177406, 'hidden_layer_sizes': 263, 'activation': 'identity'}. Best is trial 11 with value: 576271.0952373615.\u001b[0m\n",
      "\u001b[32m[I 2024-04-08 12:27:52,126]\u001b[0m Trial 51 finished with value: 681642.4567530792 and parameters: {'learning_rate_init': 0.027306919979872144, 'hidden_layer_sizes': 192, 'activation': 'relu'}. Best is trial 11 with value: 576271.0952373615.\u001b[0m\n",
      "\u001b[32m[I 2024-04-08 12:27:54,972]\u001b[0m Trial 52 finished with value: 859593.2955474157 and parameters: {'learning_rate_init': 0.05662826298259333, 'hidden_layer_sizes': 969, 'activation': 'relu'}. Best is trial 11 with value: 576271.0952373615.\u001b[0m\n",
      "\u001b[32m[I 2024-04-08 12:27:56,062]\u001b[0m Trial 53 finished with value: 682019.1405662971 and parameters: {'learning_rate_init': 0.024508878069534883, 'hidden_layer_sizes': 281, 'activation': 'relu'}. Best is trial 11 with value: 576271.0952373615.\u001b[0m\n",
      "\u001b[32m[I 2024-04-08 12:27:56,564]\u001b[0m Trial 54 finished with value: 868655.1650383614 and parameters: {'learning_rate_init': 0.080381774839764, 'hidden_layer_sizes': 194, 'activation': 'relu'}. Best is trial 11 with value: 576271.0952373615.\u001b[0m\n",
      "\u001b[32m[I 2024-04-08 12:27:56,803]\u001b[0m Trial 55 finished with value: 4945684.098832397 and parameters: {'learning_rate_init': 0.4167671173694409, 'hidden_layer_sizes': 132, 'activation': 'relu'}. Best is trial 11 with value: 576271.0952373615.\u001b[0m\n",
      "\u001b[32m[I 2024-04-08 12:27:57,500]\u001b[0m Trial 56 finished with value: 5222034.495403223 and parameters: {'learning_rate_init': 0.015278193650160596, 'hidden_layer_sizes': 69, 'activation': 'tanh'}. Best is trial 11 with value: 576271.0952373615.\u001b[0m\n",
      "\u001b[32m[I 2024-04-08 12:27:59,102]\u001b[0m Trial 57 finished with value: 550148.1785798365 and parameters: {'learning_rate_init': 0.0047943387064832595, 'hidden_layer_sizes': 236, 'activation': 'relu'}. Best is trial 57 with value: 550148.1785798365.\u001b[0m\n",
      "\u001b[32m[I 2024-04-08 12:27:59,788]\u001b[0m Trial 58 finished with value: 815831.4226758849 and parameters: {'learning_rate_init': 0.05591080042202469, 'hidden_layer_sizes': 238, 'activation': 'relu'}. Best is trial 57 with value: 550148.1785798365.\u001b[0m\n",
      "\u001b[32m[I 2024-04-08 12:28:00,641]\u001b[0m Trial 59 finished with value: 3419900.454201651 and parameters: {'learning_rate_init': 0.29455435844924815, 'hidden_layer_sizes': 411, 'activation': 'relu'}. Best is trial 57 with value: 550148.1785798365.\u001b[0m\n",
      "\u001b[32m[I 2024-04-08 12:28:01,084]\u001b[0m Trial 60 finished with value: 840320.688289 and parameters: {'learning_rate_init': 0.11031459142662031, 'hidden_layer_sizes': 102, 'activation': 'relu'}. Best is trial 57 with value: 550148.1785798365.\u001b[0m\n",
      "\u001b[32m[I 2024-04-08 12:28:02,281]\u001b[0m Trial 61 finished with value: 618036.2989572095 and parameters: {'learning_rate_init': 0.0014208678534352913, 'hidden_layer_sizes': 156, 'activation': 'relu'}. Best is trial 57 with value: 550148.1785798365.\u001b[0m\n",
      "\u001b[32m[I 2024-04-08 12:28:03,562]\u001b[0m Trial 62 finished with value: 593390.9741326356 and parameters: {'learning_rate_init': 0.0024851995771975888, 'hidden_layer_sizes': 167, 'activation': 'relu'}. Best is trial 57 with value: 550148.1785798365.\u001b[0m\n",
      "\u001b[32m[I 2024-04-08 12:28:04,058]\u001b[0m Trial 63 finished with value: 5689814.482001146 and parameters: {'learning_rate_init': 0.5986630442306224, 'hidden_layer_sizes': 667, 'activation': 'relu'}. Best is trial 57 with value: 550148.1785798365.\u001b[0m\n",
      "\u001b[32m[I 2024-04-08 12:28:04,826]\u001b[0m Trial 64 finished with value: 673794.8945713335 and parameters: {'learning_rate_init': 0.039994138577223656, 'hidden_layer_sizes': 173, 'activation': 'relu'}. Best is trial 57 with value: 550148.1785798365.\u001b[0m\n",
      "\u001b[32m[I 2024-04-08 12:28:05,718]\u001b[0m Trial 65 finished with value: 666601.8135256025 and parameters: {'learning_rate_init': 0.03240994582492007, 'hidden_layer_sizes': 228, 'activation': 'relu'}. Best is trial 57 with value: 550148.1785798365.\u001b[0m\n",
      "\u001b[32m[I 2024-04-08 12:28:15,851]\u001b[0m Trial 66 finished with value: 4305647.094752603 and parameters: {'learning_rate_init': 0.08787449968042799, 'hidden_layer_sizes': 835, 'activation': 'logistic'}. Best is trial 57 with value: 550148.1785798365.\u001b[0m\n"
     ]
    },
    {
     "name": "stderr",
     "output_type": "stream",
     "text": [
      "\u001b[32m[I 2024-04-08 12:28:16,520]\u001b[0m Trial 67 finished with value: 703685.3581773364 and parameters: {'learning_rate_init': 0.018772172608677442, 'hidden_layer_sizes': 112, 'activation': 'relu'}. Best is trial 57 with value: 550148.1785798365.\u001b[0m\n",
      "\u001b[32m[I 2024-04-08 12:28:17,243]\u001b[0m Trial 68 finished with value: 878462.6328876615 and parameters: {'learning_rate_init': 0.06479360023493003, 'hidden_layer_sizes': 352, 'activation': 'relu'}. Best is trial 57 with value: 550148.1785798365.\u001b[0m\n",
      "\u001b[32m[I 2024-04-08 12:28:17,555]\u001b[0m Trial 69 finished with value: 5636910.389287645 and parameters: {'learning_rate_init': 0.05083043821237754, 'hidden_layer_sizes': 14, 'activation': 'tanh'}. Best is trial 57 with value: 550148.1785798365.\u001b[0m\n",
      "\u001b[32m[I 2024-04-08 12:28:18,952]\u001b[0m Trial 70 finished with value: 984859.8981428414 and parameters: {'learning_rate_init': 0.0015743775509377443, 'hidden_layer_sizes': 518, 'activation': 'identity'}. Best is trial 57 with value: 550148.1785798365.\u001b[0m\n",
      "\u001b[32m[I 2024-04-08 12:28:19,947]\u001b[0m Trial 71 finished with value: 717356.8149488011 and parameters: {'learning_rate_init': 0.01898572995318676, 'hidden_layer_sizes': 168, 'activation': 'relu'}. Best is trial 57 with value: 550148.1785798365.\u001b[0m\n",
      "\u001b[32m[I 2024-04-08 12:28:20,955]\u001b[0m Trial 72 finished with value: 645143.3316584162 and parameters: {'learning_rate_init': 0.0011432701586740397, 'hidden_layer_sizes': 128, 'activation': 'relu'}. Best is trial 57 with value: 550148.1785798365.\u001b[0m\n",
      "\u001b[32m[I 2024-04-08 12:28:22,317]\u001b[0m Trial 73 finished with value: 820949.2935732391 and parameters: {'learning_rate_init': 0.03930589899339823, 'hidden_layer_sizes': 303, 'activation': 'relu'}. Best is trial 57 with value: 550148.1785798365.\u001b[0m\n",
      "\u001b[32m[I 2024-04-08 12:28:23,556]\u001b[0m Trial 74 finished with value: 667974.6849906944 and parameters: {'learning_rate_init': 0.02161508805662632, 'hidden_layer_sizes': 259, 'activation': 'relu'}. Best is trial 57 with value: 550148.1785798365.\u001b[0m\n",
      "\u001b[32m[I 2024-04-08 12:28:24,147]\u001b[0m Trial 75 finished with value: 854123.7514324563 and parameters: {'learning_rate_init': 0.0673375749501261, 'hidden_layer_sizes': 173, 'activation': 'relu'}. Best is trial 57 with value: 550148.1785798365.\u001b[0m\n",
      "\u001b[32m[I 2024-04-08 12:28:24,795]\u001b[0m Trial 76 finished with value: 684090.2108340218 and parameters: {'learning_rate_init': 0.002066764289591054, 'hidden_layer_sizes': 61, 'activation': 'relu'}. Best is trial 57 with value: 550148.1785798365.\u001b[0m\n",
      "\u001b[32m[I 2024-04-08 12:28:25,318]\u001b[0m Trial 77 finished with value: 933158.0304575609 and parameters: {'learning_rate_init': 0.0454086360106042, 'hidden_layer_sizes': 90, 'activation': 'relu'}. Best is trial 57 with value: 550148.1785798365.\u001b[0m\n",
      "\u001b[32m[I 2024-04-08 12:28:25,610]\u001b[0m Trial 78 finished with value: 2981581.23059724 and parameters: {'learning_rate_init': 0.2481348588637027, 'hidden_layer_sizes': 218, 'activation': 'relu'}. Best is trial 57 with value: 550148.1785798365.\u001b[0m\n",
      "\u001b[32m[I 2024-04-08 12:28:25,860]\u001b[0m Trial 79 finished with value: 4962280.448026563 and parameters: {'learning_rate_init': 0.5101541382226797, 'hidden_layer_sizes': 142, 'activation': 'relu'}. Best is trial 57 with value: 550148.1785798365.\u001b[0m\n",
      "\u001b[32m[I 2024-04-08 12:28:26,641]\u001b[0m Trial 80 finished with value: 4600130.839388734 and parameters: {'learning_rate_init': 0.09748404200164494, 'hidden_layer_sizes': 38, 'activation': 'logistic'}. Best is trial 57 with value: 550148.1785798365.\u001b[0m\n",
      "\u001b[32m[I 2024-04-08 12:28:27,842]\u001b[0m Trial 81 finished with value: 645316.3435490739 and parameters: {'learning_rate_init': 0.015260203807355564, 'hidden_layer_sizes': 195, 'activation': 'relu'}. Best is trial 57 with value: 550148.1785798365.\u001b[0m\n",
      "\u001b[32m[I 2024-04-08 12:28:28,923]\u001b[0m Trial 82 finished with value: 678046.9436001393 and parameters: {'learning_rate_init': 0.02805324848348061, 'hidden_layer_sizes': 246, 'activation': 'relu'}. Best is trial 57 with value: 550148.1785798365.\u001b[0m\n",
      "\u001b[32m[I 2024-04-08 12:28:29,798]\u001b[0m Trial 83 finished with value: 649626.297464825 and parameters: {'learning_rate_init': 0.01464675598400308, 'hidden_layer_sizes': 155, 'activation': 'relu'}. Best is trial 57 with value: 550148.1785798365.\u001b[0m\n",
      "\u001b[32m[I 2024-04-08 12:28:30,535]\u001b[0m Trial 84 finished with value: 808595.4449430691 and parameters: {'learning_rate_init': 0.07066880593341483, 'hidden_layer_sizes': 211, 'activation': 'relu'}. Best is trial 57 with value: 550148.1785798365.\u001b[0m\n",
      "\u001b[32m[I 2024-04-08 12:28:31,464]\u001b[0m Trial 85 finished with value: 872297.0676218165 and parameters: {'learning_rate_init': 0.04833239079322794, 'hidden_layer_sizes': 287, 'activation': 'relu'}. Best is trial 57 with value: 550148.1785798365.\u001b[0m\n",
      "\u001b[32m[I 2024-04-08 12:28:32,549]\u001b[0m Trial 86 finished with value: 4211958.9528083205 and parameters: {'learning_rate_init': 0.03531823005156903, 'hidden_layer_sizes': 118, 'activation': 'tanh'}. Best is trial 57 with value: 550148.1785798365.\u001b[0m\n",
      "\u001b[32m[I 2024-04-08 12:28:33,545]\u001b[0m Trial 87 finished with value: 601989.5406746902 and parameters: {'learning_rate_init': 0.015678387126729004, 'hidden_layer_sizes': 180, 'activation': 'relu'}. Best is trial 57 with value: 550148.1785798365.\u001b[0m\n",
      "\u001b[32m[I 2024-04-08 12:28:33,855]\u001b[0m Trial 88 finished with value: 1011299.4835114025 and parameters: {'learning_rate_init': 0.011690468389954177, 'hidden_layer_sizes': 185, 'activation': 'identity'}. Best is trial 57 with value: 550148.1785798365.\u001b[0m\n",
      "\u001b[32m[I 2024-04-08 12:28:34,479]\u001b[0m Trial 89 finished with value: 782913.8090567845 and parameters: {'learning_rate_init': 0.05568771679055246, 'hidden_layer_sizes': 152, 'activation': 'relu'}. Best is trial 57 with value: 550148.1785798365.\u001b[0m\n",
      "\u001b[32m[I 2024-04-08 12:28:35,078]\u001b[0m Trial 90 finished with value: 884606.2689353336 and parameters: {'learning_rate_init': 0.030901590160027397, 'hidden_layer_sizes': 86, 'activation': 'relu'}. Best is trial 57 with value: 550148.1785798365.\u001b[0m\n",
      "\u001b[32m[I 2024-04-08 12:28:36,603]\u001b[0m Trial 91 finished with value: 595861.6976292925 and parameters: {'learning_rate_init': 0.0029581801848453373, 'hidden_layer_sizes': 217, 'activation': 'relu'}. Best is trial 57 with value: 550148.1785798365.\u001b[0m\n",
      "\u001b[32m[I 2024-04-08 12:28:38,526]\u001b[0m Trial 92 finished with value: 661538.0202246652 and parameters: {'learning_rate_init': 0.0011316905289769398, 'hidden_layer_sizes': 263, 'activation': 'relu'}. Best is trial 57 with value: 550148.1785798365.\u001b[0m\n",
      "\u001b[32m[I 2024-04-08 12:28:39,598]\u001b[0m Trial 93 finished with value: 745477.5494601444 and parameters: {'learning_rate_init': 0.022115258951041532, 'hidden_layer_sizes': 215, 'activation': 'relu'}. Best is trial 57 with value: 550148.1785798365.\u001b[0m\n",
      "\u001b[32m[I 2024-04-08 12:28:40,547]\u001b[0m Trial 94 finished with value: 743360.080237325 and parameters: {'learning_rate_init': 0.03811116569864528, 'hidden_layer_sizes': 177, 'activation': 'relu'}. Best is trial 57 with value: 550148.1785798365.\u001b[0m\n",
      "\u001b[32m[I 2024-04-08 12:28:42,128]\u001b[0m Trial 95 finished with value: 652757.9372433505 and parameters: {'learning_rate_init': 0.015961550533151098, 'hidden_layer_sizes': 321, 'activation': 'relu'}. Best is trial 57 with value: 550148.1785798365.\u001b[0m\n",
      "\u001b[32m[I 2024-04-08 12:28:42,420]\u001b[0m Trial 96 finished with value: 5242661.723657167 and parameters: {'learning_rate_init': 0.368792292407561, 'hidden_layer_sizes': 238, 'activation': 'relu'}. Best is trial 57 with value: 550148.1785798365.\u001b[0m\n",
      "\u001b[32m[I 2024-04-08 12:28:43,078]\u001b[0m Trial 97 finished with value: 945122.9628437929 and parameters: {'learning_rate_init': 0.05727848818024762, 'hidden_layer_sizes': 134, 'activation': 'relu'}. Best is trial 57 with value: 550148.1785798365.\u001b[0m\n",
      "\u001b[32m[I 2024-04-08 12:28:43,686]\u001b[0m Trial 98 finished with value: 753288.5027985522 and parameters: {'learning_rate_init': 0.02994481624996983, 'hidden_layer_sizes': 110, 'activation': 'relu'}. Best is trial 57 with value: 550148.1785798365.\u001b[0m\n",
      "\u001b[32m[I 2024-04-08 12:28:46,104]\u001b[0m Trial 99 finished with value: 4965148.0953154685 and parameters: {'learning_rate_init': 0.011617070371394162, 'hidden_layer_sizes': 208, 'activation': 'logistic'}. Best is trial 57 with value: 550148.1785798365.\u001b[0m\n"
     ]
    }
   ],
   "source": [
    "study4 = optuna.create_study(direction='minimize',sampler=TPESampler())\n",
    "y4_train1=np.array(y4_train).ravel()\n",
    "study4.optimize(lambda trial: objective(trial,X4_train,y4_train),n_trials= 100)"
   ]
  },
  {
   "cell_type": "code",
   "execution_count": 17,
   "id": "053b8318",
   "metadata": {},
   "outputs": [
    {
     "data": {
      "image/png": "[encoded data removed]",
      "text/plain": [
       "<Figure size 432x288 with 1 Axes>"
      ]
     },
     "metadata": {
      "needs_background": "light"
     },
     "output_type": "display_data"
    }
   ],
   "source": [
    "model4 = MLPRegressor(**study4.best_trial.params)\n",
    "model4.fit(X4_train,y4_train)\n",
    "\n",
    "Z1 = model4.predict(X4_train)\n",
    "Z2 = model4.predict(X4_test)\n",
    "\n",
    "#xx = np.linspace(-1, 4, 10)\n",
    "#yy = xx\n",
    "\n",
    "plt.figure()\n",
    "#plt.plot(xx, yy, c='k', linewidth=2)\n",
    "plt.scatter(y4_train, Z1, marker='s')\n",
    "plt.scatter(y4_test, Z2, marker='o')\n",
    "\n",
    "plt.grid()\n",
    "plt.legend(['Training set', 'Testing set'], loc = 'upper left')\n",
    "plt.tick_params (axis = 'both', which = 'major')\n",
    "plt.axis('tight')\n",
    "plt.xlabel('Actual')\n",
    "plt.ylabel('Pred')\n",
    "\n",
    "plt.tight_layout()\n",
    "plt.show()"
   ]
  },
  {
   "cell_type": "markdown",
   "id": "5493e470",
   "metadata": {},
   "source": [
    "## M5 PEKDA-ANN"
   ]
  },
  {
   "cell_type": "code",
   "execution_count": 18,
   "id": "e9790dc5",
   "metadata": {},
   "outputs": [],
   "source": [
    "def objective(trial: Trial,X,y) -> float:   \n",
    "    #joblib.dump(study, 'study.pkl')      #保存模型\n",
    "    param = {\"learning_rate_init\" : trial.suggest_float('learning_rate_init',0.001,0.6),\n",
    "             'hidden_layer_sizes':trial.suggest_int('hidden_layer_sizes',10,1000),\n",
    "             'activation':trial.suggest_categorical('activation',['identity', 'logistic', 'tanh', 'relu']),\n",
    "             \"solver\": 'adam', \n",
    "             #'nthread' : -1\n",
    "            }\n",
    "    model = MLPRegressor(**param)\n",
    "    model.fit(X,y)\n",
    "    return np.mean(-cross_val_score(model,X,y,cv=10,scoring='neg_mean_squared_error',n_jobs=-1)) "
   ]
  },
  {
   "cell_type": "code",
   "execution_count": 19,
   "id": "c2c1e6fa",
   "metadata": {
    "scrolled": true
   },
   "outputs": [
    {
     "name": "stderr",
     "output_type": "stream",
     "text": [
      "\u001b[32m[I 2024-04-08 12:28:46,921]\u001b[0m A new study created in memory with name: no-name-f3b8b82a-56d6-44e4-a04a-9142354063bd\u001b[0m\n",
      "\u001b[32m[I 2024-04-08 12:28:48,067]\u001b[0m Trial 0 finished with value: 24023056.17901578 and parameters: {'learning_rate_init': 0.3067296881220821, 'hidden_layer_sizes': 936, 'activation': 'relu'}. Best is trial 0 with value: 24023056.17901578.\u001b[0m\n",
      "\u001b[32m[I 2024-04-08 12:28:48,327]\u001b[0m Trial 1 finished with value: 36749420.54995288 and parameters: {'learning_rate_init': 0.5238790802331942, 'hidden_layer_sizes': 19, 'activation': 'tanh'}. Best is trial 0 with value: 24023056.17901578.\u001b[0m\n",
      "\u001b[32m[I 2024-04-08 12:28:48,793]\u001b[0m Trial 2 finished with value: 126318.79696806156 and parameters: {'learning_rate_init': 0.09823147544638053, 'hidden_layer_sizes': 122, 'activation': 'relu'}. Best is trial 2 with value: 126318.79696806156.\u001b[0m\n",
      "\u001b[32m[I 2024-04-08 12:28:49,169]\u001b[0m Trial 3 finished with value: 38172310.0995893 and parameters: {'learning_rate_init': 0.5882429445167023, 'hidden_layer_sizes': 20, 'activation': 'logistic'}. Best is trial 2 with value: 126318.79696806156.\u001b[0m\n",
      "\u001b[32m[I 2024-04-08 12:28:49,326]\u001b[0m Trial 4 finished with value: 4117814.884392 and parameters: {'learning_rate_init': 0.07917470256183601, 'hidden_layer_sizes': 207, 'activation': 'identity'}. Best is trial 2 with value: 126318.79696806156.\u001b[0m\n",
      "\u001b[32m[I 2024-04-08 12:28:49,391]\u001b[0m Trial 5 finished with value: 2904432345.3307123 and parameters: {'learning_rate_init': 0.39431475361668306, 'hidden_layer_sizes': 150, 'activation': 'identity'}. Best is trial 2 with value: 126318.79696806156.\u001b[0m\n",
      "\u001b[32m[I 2024-04-08 12:28:49,516]\u001b[0m Trial 6 finished with value: 57364333.524894096 and parameters: {'learning_rate_init': 0.5138754924952661, 'hidden_layer_sizes': 318, 'activation': 'relu'}. Best is trial 2 with value: 126318.79696806156.\u001b[0m\n",
      "\u001b[32m[I 2024-04-08 12:28:49,594]\u001b[0m Trial 7 finished with value: 23748578960.324554 and parameters: {'learning_rate_init': 0.48491190827718517, 'hidden_layer_sizes': 261, 'activation': 'identity'}. Best is trial 2 with value: 126318.79696806156.\u001b[0m\n",
      "\u001b[32m[I 2024-04-08 12:28:49,780]\u001b[0m Trial 8 finished with value: 57366814.043113634 and parameters: {'learning_rate_init': 0.5066888127910858, 'hidden_layer_sizes': 630, 'activation': 'relu'}. Best is trial 2 with value: 126318.79696806156.\u001b[0m\n",
      "\u001b[32m[I 2024-04-08 12:28:50,088]\u001b[0m Trial 9 finished with value: 29410072.829349726 and parameters: {'learning_rate_init': 0.0773284985813115, 'hidden_layer_sizes': 803, 'activation': 'identity'}. Best is trial 2 with value: 126318.79696806156.\u001b[0m\n",
      "\u001b[32m[I 2024-04-08 12:28:53,967]\u001b[0m Trial 10 finished with value: 12254623.444154954 and parameters: {'learning_rate_init': 0.18301680500811512, 'hidden_layer_sizes': 500, 'activation': 'logistic'}. Best is trial 2 with value: 126318.79696806156.\u001b[0m\n",
      "\u001b[32m[I 2024-04-08 12:28:55,794]\u001b[0m Trial 11 finished with value: 53076102.393866666 and parameters: {'learning_rate_init': 0.004133266805253846, 'hidden_layer_sizes': 391, 'activation': 'tanh'}. Best is trial 2 with value: 126318.79696806156.\u001b[0m\n",
      "\u001b[32m[I 2024-04-08 12:28:55,872]\u001b[0m Trial 12 finished with value: 14767170.635400865 and parameters: {'learning_rate_init': 0.16331744196050757, 'hidden_layer_sizes': 160, 'activation': 'identity'}. Best is trial 2 with value: 126318.79696806156.\u001b[0m\n",
      "\u001b[32m[I 2024-04-08 12:28:56,076]\u001b[0m Trial 13 finished with value: 1873090.7123208914 and parameters: {'learning_rate_init': 0.1746154135100362, 'hidden_layer_sizes': 158, 'activation': 'relu'}. Best is trial 2 with value: 126318.79696806156.\u001b[0m\n",
      "\u001b[32m[I 2024-04-08 12:28:56,259]\u001b[0m Trial 14 finished with value: 51836117.58319877 and parameters: {'learning_rate_init': 0.20448585516771137, 'hidden_layer_sizes': 458, 'activation': 'relu'}. Best is trial 2 with value: 126318.79696806156.\u001b[0m\n",
      "\u001b[32m[I 2024-04-08 12:28:56,513]\u001b[0m Trial 15 finished with value: 2782409.9786241897 and parameters: {'learning_rate_init': 0.2750451969850158, 'hidden_layer_sizes': 108, 'activation': 'relu'}. Best is trial 2 with value: 126318.79696806156.\u001b[0m\n",
      "\u001b[32m[I 2024-04-08 12:28:57,499]\u001b[0m Trial 16 finished with value: 5125861.330373148 and parameters: {'learning_rate_init': 0.10621344390156162, 'hidden_layer_sizes': 624, 'activation': 'relu'}. Best is trial 2 with value: 126318.79696806156.\u001b[0m\n",
      "\u001b[32m[I 2024-04-08 12:28:57,735]\u001b[0m Trial 17 finished with value: 41253903.56730561 and parameters: {'learning_rate_init': 0.2721238248346471, 'hidden_layer_sizes': 338, 'activation': 'relu'}. Best is trial 2 with value: 126318.79696806156.\u001b[0m\n",
      "\u001b[32m[I 2024-04-08 12:28:59,322]\u001b[0m Trial 18 finished with value: 87104.21902545917 and parameters: {'learning_rate_init': 0.01228078403330135, 'hidden_layer_sizes': 622, 'activation': 'relu'}. Best is trial 18 with value: 87104.21902545917.\u001b[0m\n",
      "\u001b[32m[I 2024-04-08 12:29:03,607]\u001b[0m Trial 19 finished with value: 27838817.60934444 and parameters: {'learning_rate_init': 0.041136475267593064, 'hidden_layer_sizes': 631, 'activation': 'logistic'}. Best is trial 18 with value: 87104.21902545917.\u001b[0m\n",
      "\u001b[32m[I 2024-04-08 12:29:07,580]\u001b[0m Trial 20 finished with value: 48806616.33050497 and parameters: {'learning_rate_init': 0.004490164298610233, 'hidden_layer_sizes': 751, 'activation': 'tanh'}. Best is trial 18 with value: 87104.21902545917.\u001b[0m\n",
      "\u001b[32m[I 2024-04-08 12:29:07,915]\u001b[0m Trial 21 finished with value: 6736178.69092124 and parameters: {'learning_rate_init': 0.12716747483156635, 'hidden_layer_sizes': 417, 'activation': 'relu'}. Best is trial 18 with value: 87104.21902545917.\u001b[0m\n",
      "\u001b[32m[I 2024-04-08 12:29:08,261]\u001b[0m Trial 22 finished with value: 6992581.298478956 and parameters: {'learning_rate_init': 0.21507288571611494, 'hidden_layer_sizes': 256, 'activation': 'relu'}. Best is trial 18 with value: 87104.21902545917.\u001b[0m\n",
      "\u001b[32m[I 2024-04-08 12:29:08,849]\u001b[0m Trial 23 finished with value: 3806216.3187356056 and parameters: {'learning_rate_init': 0.1428988033999293, 'hidden_layer_sizes': 540, 'activation': 'relu'}. Best is trial 18 with value: 87104.21902545917.\u001b[0m\n",
      "\u001b[32m[I 2024-04-08 12:29:09,230]\u001b[0m Trial 24 finished with value: 42759.64799349812 and parameters: {'learning_rate_init': 0.06237778622927857, 'hidden_layer_sizes': 80, 'activation': 'relu'}. Best is trial 24 with value: 42759.64799349812.\u001b[0m\n",
      "\u001b[32m[I 2024-04-08 12:29:10,453]\u001b[0m Trial 25 finished with value: 451192.38587386225 and parameters: {'learning_rate_init': 0.061638214039698526, 'hidden_layer_sizes': 760, 'activation': 'relu'}. Best is trial 24 with value: 42759.64799349812.\u001b[0m\n",
      "\u001b[32m[I 2024-04-08 12:29:10,629]\u001b[0m Trial 26 finished with value: 775648.6546924972 and parameters: {'learning_rate_init': 0.03563218844568833, 'hidden_layer_sizes': 73, 'activation': 'relu'}. Best is trial 24 with value: 42759.64799349812.\u001b[0m\n",
      "\u001b[32m[I 2024-04-08 12:29:12,543]\u001b[0m Trial 27 finished with value: 1273347.1892410864 and parameters: {'learning_rate_init': 0.10666457049771655, 'hidden_layer_sizes': 958, 'activation': 'relu'}. Best is trial 24 with value: 42759.64799349812.\u001b[0m\n",
      "\u001b[32m[I 2024-04-08 12:29:14,946]\u001b[0m Trial 28 finished with value: 11597472.810854468 and parameters: {'learning_rate_init': 0.377148610212733, 'hidden_layer_sizes': 546, 'activation': 'logistic'}. Best is trial 24 with value: 42759.64799349812.\u001b[0m\n",
      "\u001b[32m[I 2024-04-08 12:29:15,887]\u001b[0m Trial 29 finished with value: 5515005.38982576 and parameters: {'learning_rate_init': 0.22570936984120815, 'hidden_layer_sizes': 816, 'activation': 'relu'}. Best is trial 24 with value: 42759.64799349812.\u001b[0m\n",
      "\u001b[32m[I 2024-04-08 12:29:21,374]\u001b[0m Trial 30 finished with value: 15845872.840219408 and parameters: {'learning_rate_init': 0.03653744760035943, 'hidden_layer_sizes': 856, 'activation': 'tanh'}. Best is trial 24 with value: 42759.64799349812.\u001b[0m\n",
      "\u001b[32m[I 2024-04-08 12:29:22,117]\u001b[0m Trial 31 finished with value: 1816213.8563184913 and parameters: {'learning_rate_init': 0.06746999726099703, 'hidden_layer_sizes': 693, 'activation': 'relu'}. Best is trial 24 with value: 42759.64799349812.\u001b[0m\n",
      "\u001b[32m[I 2024-04-08 12:29:23,646]\u001b[0m Trial 32 finished with value: 3355265.6696988316 and parameters: {'learning_rate_init': 0.06502276546801797, 'hidden_layer_sizes': 904, 'activation': 'relu'}. Best is trial 24 with value: 42759.64799349812.\u001b[0m\n"
     ]
    },
    {
     "name": "stderr",
     "output_type": "stream",
     "text": [
      "\u001b[32m[I 2024-04-08 12:29:24,683]\u001b[0m Trial 33 finished with value: 11567670.367490955 and parameters: {'learning_rate_init': 0.11004186095341803, 'hidden_layer_sizes': 721, 'activation': 'relu'}. Best is trial 24 with value: 42759.64799349812.\u001b[0m\n",
      "\u001b[32m[I 2024-04-08 12:29:24,851]\u001b[0m Trial 34 finished with value: 390372.19307413825 and parameters: {'learning_rate_init': 0.0027150158684454695, 'hidden_layer_sizes': 30, 'activation': 'relu'}. Best is trial 24 with value: 42759.64799349812.\u001b[0m\n",
      "\u001b[32m[I 2024-04-08 12:29:24,981]\u001b[0m Trial 35 finished with value: 981750.406884329 and parameters: {'learning_rate_init': 0.010606232807828943, 'hidden_layer_sizes': 24, 'activation': 'relu'}. Best is trial 24 with value: 42759.64799349812.\u001b[0m\n",
      "\u001b[32m[I 2024-04-08 12:29:25,453]\u001b[0m Trial 36 finished with value: 31246572.94931405 and parameters: {'learning_rate_init': 0.14139153630879625, 'hidden_layer_sizes': 91, 'activation': 'tanh'}. Best is trial 24 with value: 42759.64799349812.\u001b[0m\n",
      "\u001b[32m[I 2024-04-08 12:29:25,803]\u001b[0m Trial 37 finished with value: 46517329.92488214 and parameters: {'learning_rate_init': 0.34591657946298016, 'hidden_layer_sizes': 19, 'activation': 'logistic'}. Best is trial 24 with value: 42759.64799349812.\u001b[0m\n",
      "\u001b[32m[I 2024-04-08 12:29:25,895]\u001b[0m Trial 38 finished with value: 57386123.215749934 and parameters: {'learning_rate_init': 0.5864169253036982, 'hidden_layer_sizes': 225, 'activation': 'relu'}. Best is trial 24 with value: 42759.64799349812.\u001b[0m\n",
      "\u001b[32m[I 2024-04-08 12:29:26,083]\u001b[0m Trial 39 finished with value: 2076929.1776561257 and parameters: {'learning_rate_init': 0.08936803066507323, 'hidden_layer_sizes': 178, 'activation': 'identity'}. Best is trial 24 with value: 42759.64799349812.\u001b[0m\n",
      "\u001b[32m[I 2024-04-08 12:29:26,276]\u001b[0m Trial 40 finished with value: 706815.2862491349 and parameters: {'learning_rate_init': 0.03522920672285068, 'hidden_layer_sizes': 59, 'activation': 'relu'}. Best is trial 24 with value: 42759.64799349812.\u001b[0m\n",
      "\u001b[32m[I 2024-04-08 12:29:26,720]\u001b[0m Trial 41 finished with value: 414208.59549428767 and parameters: {'learning_rate_init': 0.057673417359116, 'hidden_layer_sizes': 107, 'activation': 'relu'}. Best is trial 24 with value: 42759.64799349812.\u001b[0m\n",
      "\u001b[32m[I 2024-04-08 12:29:26,899]\u001b[0m Trial 42 finished with value: 51155674.25904202 and parameters: {'learning_rate_init': 0.4499751487845207, 'hidden_layer_sizes': 131, 'activation': 'relu'}. Best is trial 24 with value: 42759.64799349812.\u001b[0m\n",
      "\u001b[32m[I 2024-04-08 12:29:27,364]\u001b[0m Trial 43 finished with value: 875707.5318503997 and parameters: {'learning_rate_init': 0.02317274970577007, 'hidden_layer_sizes': 286, 'activation': 'relu'}. Best is trial 24 with value: 42759.64799349812.\u001b[0m\n",
      "\u001b[32m[I 2024-04-08 12:29:28,066]\u001b[0m Trial 44 finished with value: 166188.11897315187 and parameters: {'learning_rate_init': 0.0593611478942234, 'hidden_layer_sizes': 219, 'activation': 'relu'}. Best is trial 24 with value: 42759.64799349812.\u001b[0m\n",
      "\u001b[32m[I 2024-04-08 12:29:28,205]\u001b[0m Trial 45 finished with value: 1352255.5181165054 and parameters: {'learning_rate_init': 0.0014460273810593463, 'hidden_layer_sizes': 206, 'activation': 'identity'}. Best is trial 24 with value: 42759.64799349812.\u001b[0m\n",
      "\u001b[32m[I 2024-04-08 12:29:28,453]\u001b[0m Trial 46 finished with value: 24651.322111576676 and parameters: {'learning_rate_init': 0.09452477032012277, 'hidden_layer_sizes': 42, 'activation': 'relu'}. Best is trial 46 with value: 24651.322111576676.\u001b[0m\n",
      "\u001b[32m[I 2024-04-08 12:29:28,886]\u001b[0m Trial 47 finished with value: 4521.451655477444 and parameters: {'learning_rate_init': 0.0916004716212869, 'hidden_layer_sizes': 206, 'activation': 'relu'}. Best is trial 47 with value: 4521.451655477444.\u001b[0m\n",
      "\u001b[32m[I 2024-04-08 12:29:30,468]\u001b[0m Trial 48 finished with value: 16491376.354707811 and parameters: {'learning_rate_init': 0.09280088857922802, 'hidden_layer_sizes': 322, 'activation': 'tanh'}. Best is trial 47 with value: 4521.451655477444.\u001b[0m\n",
      "\u001b[32m[I 2024-04-08 12:29:31,620]\u001b[0m Trial 49 finished with value: 32317987.82441131 and parameters: {'learning_rate_init': 0.1606041476282554, 'hidden_layer_sizes': 125, 'activation': 'logistic'}. Best is trial 47 with value: 4521.451655477444.\u001b[0m\n",
      "\u001b[32m[I 2024-04-08 12:29:32,062]\u001b[0m Trial 50 finished with value: 5037854.427344636 and parameters: {'learning_rate_init': 0.18657207049714064, 'hidden_layer_sizes': 370, 'activation': 'relu'}. Best is trial 47 with value: 4521.451655477444.\u001b[0m\n",
      "\u001b[32m[I 2024-04-08 12:29:32,296]\u001b[0m Trial 51 finished with value: 1852765.246782954 and parameters: {'learning_rate_init': 0.12350672089942152, 'hidden_layer_sizes': 179, 'activation': 'relu'}. Best is trial 47 with value: 4521.451655477444.\u001b[0m\n",
      "\u001b[32m[I 2024-04-08 12:29:32,801]\u001b[0m Trial 52 finished with value: 661852.3453446946 and parameters: {'learning_rate_init': 0.0885699166339329, 'hidden_layer_sizes': 241, 'activation': 'relu'}. Best is trial 47 with value: 4521.451655477444.\u001b[0m\n",
      "\u001b[32m[I 2024-04-08 12:29:33,190]\u001b[0m Trial 53 finished with value: 53051.69139732358 and parameters: {'learning_rate_init': 0.05174522551804324, 'hidden_layer_sizes': 203, 'activation': 'relu'}. Best is trial 47 with value: 4521.451655477444.\u001b[0m\n",
      "\u001b[32m[I 2024-04-08 12:29:33,532]\u001b[0m Trial 54 finished with value: 2977.9770431104043 and parameters: {'learning_rate_init': 0.1469030377863358, 'hidden_layer_sizes': 59, 'activation': 'relu'}. Best is trial 54 with value: 2977.9770431104043.\u001b[0m\n",
      "\u001b[32m[I 2024-04-08 12:29:33,749]\u001b[0m Trial 55 finished with value: 2849029.2894735644 and parameters: {'learning_rate_init': 0.2340142387290764, 'hidden_layer_sizes': 57, 'activation': 'relu'}. Best is trial 54 with value: 2977.9770431104043.\u001b[0m\n",
      "\u001b[32m[I 2024-04-08 12:29:34,021]\u001b[0m Trial 56 finished with value: 5317896.629815084 and parameters: {'learning_rate_init': 0.1420038249058152, 'hidden_layer_sizes': 280, 'activation': 'relu'}. Best is trial 54 with value: 2977.9770431104043.\u001b[0m\n",
      "\u001b[32m[I 2024-04-08 12:29:34,333]\u001b[0m Trial 57 finished with value: 287862.5665398197 and parameters: {'learning_rate_init': 0.04300470287642566, 'hidden_layer_sizes': 150, 'activation': 'identity'}. Best is trial 54 with value: 2977.9770431104043.\u001b[0m\n",
      "\u001b[32m[I 2024-04-08 12:29:34,589]\u001b[0m Trial 58 finished with value: 263035.1833787059 and parameters: {'learning_rate_init': 0.08037237805261471, 'hidden_layer_sizes': 80, 'activation': 'relu'}. Best is trial 54 with value: 2977.9770431104043.\u001b[0m\n",
      "\u001b[32m[I 2024-04-08 12:29:35,513]\u001b[0m Trial 59 finished with value: 58025.32598611889 and parameters: {'learning_rate_init': 0.12237210468195478, 'hidden_layer_sizes': 608, 'activation': 'relu'}. Best is trial 54 with value: 2977.9770431104043.\u001b[0m\n",
      "\u001b[32m[I 2024-04-08 12:29:35,757]\u001b[0m Trial 60 finished with value: 48678677.02619703 and parameters: {'learning_rate_init': 0.1944367126231591, 'hidden_layer_sizes': 582, 'activation': 'relu'}. Best is trial 54 with value: 2977.9770431104043.\u001b[0m\n",
      "\u001b[32m[I 2024-04-08 12:29:36,465]\u001b[0m Trial 61 finished with value: 166409.87689129423 and parameters: {'learning_rate_init': 0.12196078288556184, 'hidden_layer_sizes': 663, 'activation': 'relu'}. Best is trial 54 with value: 2977.9770431104043.\u001b[0m\n",
      "\u001b[32m[I 2024-04-08 12:29:36,863]\u001b[0m Trial 62 finished with value: 1684953.6334900483 and parameters: {'learning_rate_init': 0.16261893665578883, 'hidden_layer_sizes': 503, 'activation': 'relu'}. Best is trial 54 with value: 2977.9770431104043.\u001b[0m\n",
      "\u001b[32m[I 2024-04-08 12:29:37,346]\u001b[0m Trial 63 finished with value: 2664221.496593523 and parameters: {'learning_rate_init': 0.10382067617083238, 'hidden_layer_sizes': 596, 'activation': 'relu'}. Best is trial 54 with value: 2977.9770431104043.\u001b[0m\n",
      "\u001b[32m[I 2024-04-08 12:29:38,745]\u001b[0m Trial 64 finished with value: 88885.9310785342 and parameters: {'learning_rate_init': 0.053558051969972084, 'hidden_layer_sizes': 675, 'activation': 'relu'}. Best is trial 54 with value: 2977.9770431104043.\u001b[0m\n",
      "\u001b[32m[I 2024-04-08 12:29:40,005]\u001b[0m Trial 65 finished with value: 113848.1684438289 and parameters: {'learning_rate_init': 0.023470981097197575, 'hidden_layer_sizes': 450, 'activation': 'relu'}. Best is trial 54 with value: 2977.9770431104043.\u001b[0m\n",
      "\u001b[32m[I 2024-04-08 12:29:44,075]\u001b[0m Trial 66 finished with value: 19464675.29955568 and parameters: {'learning_rate_init': 0.07891606566508896, 'hidden_layer_sizes': 537, 'activation': 'logistic'}. Best is trial 54 with value: 2977.9770431104043.\u001b[0m\n"
     ]
    },
    {
     "name": "stderr",
     "output_type": "stream",
     "text": [
      "\u001b[32m[I 2024-04-08 12:29:44,329]\u001b[0m Trial 67 finished with value: 817610.2895027307 and parameters: {'learning_rate_init': 0.1258206435575586, 'hidden_layer_sizes': 192, 'activation': 'relu'}. Best is trial 54 with value: 2977.9770431104043.\u001b[0m\n",
      "\u001b[32m[I 2024-04-08 12:29:44,611]\u001b[0m Trial 68 finished with value: 54752907.384819195 and parameters: {'learning_rate_init': 0.021337856582835754, 'hidden_layer_sizes': 45, 'activation': 'tanh'}. Best is trial 54 with value: 2977.9770431104043.\u001b[0m\n",
      "\u001b[32m[I 2024-04-08 12:29:44,829]\u001b[0m Trial 69 finished with value: 524857.619591725 and parameters: {'learning_rate_init': 0.14724852557471457, 'hidden_layer_sizes': 105, 'activation': 'relu'}. Best is trial 54 with value: 2977.9770431104043.\u001b[0m\n",
      "\u001b[32m[I 2024-04-08 12:29:45,216]\u001b[0m Trial 70 finished with value: 39852881.349282905 and parameters: {'learning_rate_init': 0.267248523547567, 'hidden_layer_sizes': 466, 'activation': 'relu'}. Best is trial 54 with value: 2977.9770431104043.\u001b[0m\n",
      "\u001b[32m[I 2024-04-08 12:29:47,001]\u001b[0m Trial 71 finished with value: 1667.5647470850104 and parameters: {'learning_rate_init': 0.04410435009596082, 'hidden_layer_sizes': 656, 'activation': 'relu'}. Best is trial 71 with value: 1667.5647470850104.\u001b[0m\n",
      "\u001b[32m[I 2024-04-08 12:29:47,677]\u001b[0m Trial 72 finished with value: 6593552.947100414 and parameters: {'learning_rate_init': 0.07388724215317212, 'hidden_layer_sizes': 629, 'activation': 'relu'}. Best is trial 71 with value: 1667.5647470850104.\u001b[0m\n",
      "\u001b[32m[I 2024-04-08 12:29:49,769]\u001b[0m Trial 73 finished with value: 271.59155401033945 and parameters: {'learning_rate_init': 0.043920090574144956, 'hidden_layer_sizes': 587, 'activation': 'relu'}. Best is trial 73 with value: 271.59155401033945.\u001b[0m\n",
      "\u001b[32m[I 2024-04-08 12:29:50,608]\u001b[0m Trial 74 finished with value: 1491895.8409184802 and parameters: {'learning_rate_init': 0.09889482512832089, 'hidden_layer_sizes': 660, 'activation': 'relu'}. Best is trial 73 with value: 271.59155401033945.\u001b[0m\n",
      "\u001b[32m[I 2024-04-08 12:29:50,892]\u001b[0m Trial 75 finished with value: 3340600.534060923 and parameters: {'learning_rate_init': 0.11111363649107768, 'hidden_layer_sizes': 579, 'activation': 'relu'}. Best is trial 73 with value: 271.59155401033945.\u001b[0m\n",
      "\u001b[32m[I 2024-04-08 12:29:53,466]\u001b[0m Trial 76 finished with value: 721.6522523451225 and parameters: {'learning_rate_init': 0.04753259355311654, 'hidden_layer_sizes': 720, 'activation': 'relu'}. Best is trial 73 with value: 271.59155401033945.\u001b[0m\n",
      "\u001b[32m[I 2024-04-08 12:29:53,886]\u001b[0m Trial 77 finished with value: 1997974.6266529546 and parameters: {'learning_rate_init': 0.046202594842335944, 'hidden_layer_sizes': 757, 'activation': 'identity'}. Best is trial 73 with value: 271.59155401033945.\u001b[0m\n",
      "\u001b[32m[I 2024-04-08 12:29:54,474]\u001b[0m Trial 78 finished with value: 1943271.9681509952 and parameters: {'learning_rate_init': 0.06794029534172, 'hidden_layer_sizes': 709, 'activation': 'relu'}. Best is trial 73 with value: 271.59155401033945.\u001b[0m\n",
      "\u001b[32m[I 2024-04-08 12:29:57,579]\u001b[0m Trial 79 finished with value: 1236.822571582297 and parameters: {'learning_rate_init': 0.03541950840971296, 'hidden_layer_sizes': 803, 'activation': 'relu'}. Best is trial 73 with value: 271.59155401033945.\u001b[0m\n",
      "\u001b[32m[I 2024-04-08 12:29:59,091]\u001b[0m Trial 80 finished with value: 708305.4574662016 and parameters: {'learning_rate_init': 0.02748101931113437, 'hidden_layer_sizes': 817, 'activation': 'relu'}. Best is trial 73 with value: 271.59155401033945.\u001b[0m\n",
      "\u001b[32m[I 2024-04-08 12:30:01,183]\u001b[0m Trial 81 finished with value: 390618.35289035836 and parameters: {'learning_rate_init': 0.05025590856277867, 'hidden_layer_sizes': 781, 'activation': 'relu'}. Best is trial 73 with value: 271.59155401033945.\u001b[0m\n",
      "\u001b[32m[I 2024-04-08 12:30:05,005]\u001b[0m Trial 82 finished with value: 934.1296157547285 and parameters: {'learning_rate_init': 0.04060743196357795, 'hidden_layer_sizes': 900, 'activation': 'relu'}. Best is trial 73 with value: 271.59155401033945.\u001b[0m\n",
      "\u001b[32m[I 2024-04-08 12:30:07,340]\u001b[0m Trial 83 finished with value: 623396.4989778261 and parameters: {'learning_rate_init': 0.01663888006288744, 'hidden_layer_sizes': 887, 'activation': 'relu'}. Best is trial 73 with value: 271.59155401033945.\u001b[0m\n",
      "\u001b[32m[I 2024-04-08 12:30:08,075]\u001b[0m Trial 84 finished with value: 2128267.7875722176 and parameters: {'learning_rate_init': 0.0786761006319707, 'hidden_layer_sizes': 853, 'activation': 'relu'}. Best is trial 73 with value: 271.59155401033945.\u001b[0m\n",
      "\u001b[32m[I 2024-04-08 12:30:14,168]\u001b[0m Trial 85 finished with value: 15776550.363150686 and parameters: {'learning_rate_init': 0.032141813255201185, 'hidden_layer_sizes': 975, 'activation': 'tanh'}. Best is trial 73 with value: 271.59155401033945.\u001b[0m\n",
      "\u001b[32m[I 2024-04-08 12:30:19,448]\u001b[0m Trial 86 finished with value: 18277569.946694247 and parameters: {'learning_rate_init': 0.06367919873314866, 'hidden_layer_sizes': 730, 'activation': 'logistic'}. Best is trial 73 with value: 271.59155401033945.\u001b[0m\n",
      "\u001b[32m[I 2024-04-08 12:30:22,502]\u001b[0m Trial 87 finished with value: 83688.73316636698 and parameters: {'learning_rate_init': 0.09260911925970543, 'hidden_layer_sizes': 902, 'activation': 'relu'}. Best is trial 73 with value: 271.59155401033945.\u001b[0m\n",
      "\u001b[32m[I 2024-04-08 12:30:24,524]\u001b[0m Trial 88 finished with value: 3019.1254769257926 and parameters: {'learning_rate_init': 0.03732473078658187, 'hidden_layer_sizes': 791, 'activation': 'relu'}. Best is trial 73 with value: 271.59155401033945.\u001b[0m\n",
      "\u001b[32m[I 2024-04-08 12:30:27,079]\u001b[0m Trial 89 finished with value: 196.66304710528593 and parameters: {'learning_rate_init': 0.038791609492513715, 'hidden_layer_sizes': 795, 'activation': 'relu'}. Best is trial 89 with value: 196.66304710528593.\u001b[0m\n",
      "\u001b[32m[I 2024-04-08 12:30:29,202]\u001b[0m Trial 90 finished with value: 36651.4291065056 and parameters: {'learning_rate_init': 0.035635810778704445, 'hidden_layer_sizes': 795, 'activation': 'relu'}. Best is trial 89 with value: 196.66304710528593.\u001b[0m\n",
      "\u001b[32m[I 2024-04-08 12:30:32,332]\u001b[0m Trial 91 finished with value: 295713.54545227846 and parameters: {'learning_rate_init': 0.011822159918435736, 'hidden_layer_sizes': 843, 'activation': 'relu'}. Best is trial 89 with value: 196.66304710528593.\u001b[0m\n",
      "\u001b[32m[I 2024-04-08 12:30:34,498]\u001b[0m Trial 92 finished with value: 2773.7932097339344 and parameters: {'learning_rate_init': 0.04524722333529685, 'hidden_layer_sizes': 739, 'activation': 'relu'}. Best is trial 89 with value: 196.66304710528593.\u001b[0m\n",
      "\u001b[32m[I 2024-04-08 12:30:36,763]\u001b[0m Trial 93 finished with value: 254.51679220959846 and parameters: {'learning_rate_init': 0.043299235070096045, 'hidden_layer_sizes': 735, 'activation': 'relu'}. Best is trial 89 with value: 196.66304710528593.\u001b[0m\n",
      "\u001b[32m[I 2024-04-08 12:30:38,847]\u001b[0m Trial 94 finished with value: 652.2919748007577 and parameters: {'learning_rate_init': 0.043245423434762925, 'hidden_layer_sizes': 736, 'activation': 'relu'}. Best is trial 89 with value: 196.66304710528593.\u001b[0m\n",
      "\u001b[32m[I 2024-04-08 12:30:40,836]\u001b[0m Trial 95 finished with value: 18764.024057907824 and parameters: {'learning_rate_init': 0.04977368357832494, 'hidden_layer_sizes': 743, 'activation': 'relu'}. Best is trial 89 with value: 196.66304710528593.\u001b[0m\n",
      "\u001b[32m[I 2024-04-08 12:30:42,794]\u001b[0m Trial 96 finished with value: 369713.3008549666 and parameters: {'learning_rate_init': 0.017235463850626825, 'hidden_layer_sizes': 776, 'activation': 'relu'}. Best is trial 89 with value: 196.66304710528593.\u001b[0m\n",
      "\u001b[32m[I 2024-04-08 12:30:43,327]\u001b[0m Trial 97 finished with value: 1368115.9726199438 and parameters: {'learning_rate_init': 0.008803085942544836, 'hidden_layer_sizes': 684, 'activation': 'identity'}. Best is trial 89 with value: 196.66304710528593.\u001b[0m\n",
      "\u001b[32m[I 2024-04-08 12:30:44,161]\u001b[0m Trial 98 finished with value: 16080000.544553872 and parameters: {'learning_rate_init': 0.31241593376798665, 'hidden_layer_sizes': 701, 'activation': 'relu'}. Best is trial 89 with value: 196.66304710528593.\u001b[0m\n",
      "\u001b[32m[I 2024-04-08 12:30:44,974]\u001b[0m Trial 99 finished with value: 4638994.662645352 and parameters: {'learning_rate_init': 0.06798304272246125, 'hidden_layer_sizes': 936, 'activation': 'relu'}. Best is trial 89 with value: 196.66304710528593.\u001b[0m\n"
     ]
    },
    {
     "name": "stderr",
     "output_type": "stream",
     "text": [
      "\u001b[32m[I 2024-04-08 12:30:45,508]\u001b[0m Trial 100 finished with value: 1644953.677143444 and parameters: {'learning_rate_init': 0.0017411359210361688, 'hidden_layer_sizes': 823, 'activation': 'relu'}. Best is trial 89 with value: 196.66304710528593.\u001b[0m\n",
      "\u001b[32m[I 2024-04-08 12:30:47,745]\u001b[0m Trial 101 finished with value: 1817.516474879191 and parameters: {'learning_rate_init': 0.0399754448195575, 'hidden_layer_sizes': 774, 'activation': 'relu'}. Best is trial 89 with value: 196.66304710528593.\u001b[0m\n",
      "\u001b[32m[I 2024-04-08 12:30:49,487]\u001b[0m Trial 102 finished with value: 4858.2242616514695 and parameters: {'learning_rate_init': 0.04031544803307724, 'hidden_layer_sizes': 727, 'activation': 'relu'}. Best is trial 89 with value: 196.66304710528593.\u001b[0m\n",
      "\u001b[32m[I 2024-04-08 12:30:52,401]\u001b[0m Trial 103 finished with value: 524292.6614333997 and parameters: {'learning_rate_init': 0.02716981887923667, 'hidden_layer_sizes': 875, 'activation': 'relu'}. Best is trial 89 with value: 196.66304710528593.\u001b[0m\n",
      "\u001b[32m[I 2024-04-08 12:30:54,015]\u001b[0m Trial 104 finished with value: 104537.46008157948 and parameters: {'learning_rate_init': 0.05308550488902057, 'hidden_layer_sizes': 649, 'activation': 'relu'}. Best is trial 89 with value: 196.66304710528593.\u001b[0m\n",
      "\u001b[32m[I 2024-04-08 12:30:54,233]\u001b[0m Trial 105 finished with value: 2878845.384019425 and parameters: {'learning_rate_init': 0.08265313896950957, 'hidden_layer_sizes': 737, 'activation': 'relu'}. Best is trial 89 with value: 196.66304710528593.\u001b[0m\n",
      "\u001b[32m[I 2024-04-08 12:30:56,138]\u001b[0m Trial 106 finished with value: 596296.5795017051 and parameters: {'learning_rate_init': 0.05979822094333555, 'hidden_layer_sizes': 769, 'activation': 'relu'}. Best is trial 89 with value: 196.66304710528593.\u001b[0m\n",
      "\u001b[32m[I 2024-04-08 12:31:02,584]\u001b[0m Trial 107 finished with value: 22577068.47359848 and parameters: {'learning_rate_init': 0.043195759325735064, 'hidden_layer_sizes': 835, 'activation': 'logistic'}. Best is trial 89 with value: 196.66304710528593.\u001b[0m\n",
      "\u001b[32m[I 2024-04-08 12:31:05,661]\u001b[0m Trial 108 finished with value: 26760388.34759914 and parameters: {'learning_rate_init': 0.025357502939006397, 'hidden_layer_sizes': 645, 'activation': 'tanh'}. Best is trial 89 with value: 196.66304710528593.\u001b[0m\n",
      "\u001b[32m[I 2024-04-08 12:31:06,608]\u001b[0m Trial 109 finished with value: 41128485.087378725 and parameters: {'learning_rate_init': 0.4135065834493416, 'hidden_layer_sizes': 702, 'activation': 'relu'}. Best is trial 89 with value: 196.66304710528593.\u001b[0m\n",
      "\u001b[32m[I 2024-04-08 12:31:07,843]\u001b[0m Trial 110 finished with value: 6860325.596307777 and parameters: {'learning_rate_init': 0.07094927766705378, 'hidden_layer_sizes': 810, 'activation': 'relu'}. Best is trial 89 with value: 196.66304710528593.\u001b[0m\n",
      "\u001b[32m[I 2024-04-08 12:31:09,777]\u001b[0m Trial 111 finished with value: 36920.363878084645 and parameters: {'learning_rate_init': 0.03350764643591478, 'hidden_layer_sizes': 792, 'activation': 'relu'}. Best is trial 89 with value: 196.66304710528593.\u001b[0m\n",
      "\u001b[32m[I 2024-04-08 12:31:12,109]\u001b[0m Trial 112 finished with value: 2336.549577535853 and parameters: {'learning_rate_init': 0.046561520413917354, 'hidden_layer_sizes': 758, 'activation': 'relu'}. Best is trial 89 with value: 196.66304710528593.\u001b[0m\n",
      "\u001b[32m[I 2024-04-08 12:31:14,481]\u001b[0m Trial 113 finished with value: 238929.50468006489 and parameters: {'learning_rate_init': 0.01351615915762757, 'hidden_layer_sizes': 753, 'activation': 'relu'}. Best is trial 89 with value: 196.66304710528593.\u001b[0m\n",
      "\u001b[32m[I 2024-04-08 12:31:15,658]\u001b[0m Trial 114 finished with value: 361863.3513364607 and parameters: {'learning_rate_init': 0.05652512223270334, 'hidden_layer_sizes': 714, 'activation': 'relu'}. Best is trial 89 with value: 196.66304710528593.\u001b[0m\n",
      "\u001b[32m[I 2024-04-08 12:31:16,202]\u001b[0m Trial 115 finished with value: 28931583.089320313 and parameters: {'learning_rate_init': 0.5566825148258998, 'hidden_layer_sizes': 680, 'activation': 'relu'}. Best is trial 89 with value: 196.66304710528593.\u001b[0m\n",
      "\u001b[32m[I 2024-04-08 12:31:18,228]\u001b[0m Trial 116 finished with value: 964.6848549329554 and parameters: {'learning_rate_init': 0.04409492431830704, 'hidden_layer_sizes': 560, 'activation': 'relu'}. Best is trial 89 with value: 196.66304710528593.\u001b[0m\n",
      "\u001b[32m[I 2024-04-08 12:31:19,904]\u001b[0m Trial 117 finished with value: 1230.4591124910246 and parameters: {'learning_rate_init': 0.044422951690639305, 'hidden_layer_sizes': 562, 'activation': 'relu'}. Best is trial 89 with value: 196.66304710528593.\u001b[0m\n",
      "\u001b[32m[I 2024-04-08 12:31:20,513]\u001b[0m Trial 118 finished with value: 2831784.38640087 and parameters: {'learning_rate_init': 0.0743120427854754, 'hidden_layer_sizes': 551, 'activation': 'relu'}. Best is trial 89 with value: 196.66304710528593.\u001b[0m\n",
      "\u001b[32m[I 2024-04-08 12:31:22,435]\u001b[0m Trial 119 finished with value: 747.3921650262987 and parameters: {'learning_rate_init': 0.023035947028172063, 'hidden_layer_sizes': 531, 'activation': 'relu'}. Best is trial 89 with value: 196.66304710528593.\u001b[0m\n",
      "\u001b[32m[I 2024-04-08 12:31:22,808]\u001b[0m Trial 120 finished with value: 708177.7247791064 and parameters: {'learning_rate_init': 0.021272329465786916, 'hidden_layer_sizes': 526, 'activation': 'identity'}. Best is trial 89 with value: 196.66304710528593.\u001b[0m\n",
      "\u001b[32m[I 2024-04-08 12:31:24,030]\u001b[0m Trial 121 finished with value: 105037.88055315304 and parameters: {'learning_rate_init': 0.030511877061506383, 'hidden_layer_sizes': 479, 'activation': 'relu'}. Best is trial 89 with value: 196.66304710528593.\u001b[0m\n",
      "\u001b[32m[I 2024-04-08 12:31:25,868]\u001b[0m Trial 122 finished with value: 246.91860881804843 and parameters: {'learning_rate_init': 0.04548810890702438, 'hidden_layer_sizes': 517, 'activation': 'relu'}. Best is trial 89 with value: 196.66304710528593.\u001b[0m\n",
      "\u001b[32m[I 2024-04-08 12:31:26,649]\u001b[0m Trial 123 finished with value: 1061345.1961372648 and parameters: {'learning_rate_init': 0.062002744281624195, 'hidden_layer_sizes': 555, 'activation': 'relu'}. Best is trial 89 with value: 196.66304710528593.\u001b[0m\n",
      "\u001b[32m[I 2024-04-08 12:31:28,181]\u001b[0m Trial 124 finished with value: 501751.1484763166 and parameters: {'learning_rate_init': 0.01478049467310055, 'hidden_layer_sizes': 579, 'activation': 'relu'}. Best is trial 89 with value: 196.66304710528593.\u001b[0m\n",
      "\u001b[32m[I 2024-04-08 12:31:28,395]\u001b[0m Trial 125 finished with value: 296474.3074568735 and parameters: {'learning_rate_init': 0.004540408282342784, 'hidden_layer_sizes': 514, 'activation': 'relu'}. Best is trial 89 with value: 196.66304710528593.\u001b[0m\n",
      "\u001b[32m[I 2024-04-08 12:31:28,813]\u001b[0m Trial 126 finished with value: 2713532.620881916 and parameters: {'learning_rate_init': 0.08323529601747243, 'hidden_layer_sizes': 592, 'activation': 'relu'}. Best is trial 89 with value: 196.66304710528593.\u001b[0m\n",
      "\u001b[32m[I 2024-04-08 12:31:29,521]\u001b[0m Trial 127 finished with value: 786050.6218864967 and parameters: {'learning_rate_init': 0.03709185542813416, 'hidden_layer_sizes': 490, 'activation': 'relu'}. Best is trial 89 with value: 196.66304710528593.\u001b[0m\n",
      "\u001b[32m[I 2024-04-08 12:31:30,221]\u001b[0m Trial 128 finished with value: 183048.8011406089 and parameters: {'learning_rate_init': 0.05567686255056947, 'hidden_layer_sizes': 621, 'activation': 'relu'}. Best is trial 89 with value: 196.66304710528593.\u001b[0m\n",
      "\u001b[32m[I 2024-04-08 12:31:30,804]\u001b[0m Trial 129 finished with value: 2925065.1722502457 and parameters: {'learning_rate_init': 0.11162315910628466, 'hidden_layer_sizes': 556, 'activation': 'relu'}. Best is trial 89 with value: 196.66304710528593.\u001b[0m\n",
      "\u001b[32m[I 2024-04-08 12:31:35,053]\u001b[0m Trial 130 finished with value: 21398994.735837076 and parameters: {'learning_rate_init': 0.06636396899350727, 'hidden_layer_sizes': 569, 'activation': 'logistic'}. Best is trial 89 with value: 196.66304710528593.\u001b[0m\n",
      "\u001b[32m[I 2024-04-08 12:31:36,873]\u001b[0m Trial 131 finished with value: 974.3112038760331 and parameters: {'learning_rate_init': 0.048878920578257254, 'hidden_layer_sizes': 524, 'activation': 'relu'}. Best is trial 89 with value: 196.66304710528593.\u001b[0m\n",
      "\u001b[32m[I 2024-04-08 12:31:38,763]\u001b[0m Trial 132 finished with value: 28816.165407730303 and parameters: {'learning_rate_init': 0.02393593918094038, 'hidden_layer_sizes': 522, 'activation': 'relu'}. Best is trial 89 with value: 196.66304710528593.\u001b[0m\n"
     ]
    },
    {
     "name": "stderr",
     "output_type": "stream",
     "text": [
      "\u001b[32m[I 2024-04-08 12:31:40,376]\u001b[0m Trial 133 finished with value: 78365.77707569336 and parameters: {'learning_rate_init': 0.04374276841227441, 'hidden_layer_sizes': 433, 'activation': 'relu'}. Best is trial 89 with value: 196.66304710528593.\u001b[0m\n",
      "\u001b[32m[I 2024-04-08 12:31:42,481]\u001b[0m Trial 134 finished with value: 403022.9209768467 and parameters: {'learning_rate_init': 0.028645571741863392, 'hidden_layer_sizes': 605, 'activation': 'relu'}. Best is trial 89 with value: 196.66304710528593.\u001b[0m\n",
      "\u001b[32m[I 2024-04-08 12:31:44,502]\u001b[0m Trial 135 finished with value: 903.1653377211342 and parameters: {'learning_rate_init': 0.052260653959084705, 'hidden_layer_sizes': 504, 'activation': 'relu'}. Best is trial 89 with value: 196.66304710528593.\u001b[0m\n",
      "\u001b[32m[I 2024-04-08 12:31:47,315]\u001b[0m Trial 136 finished with value: 13947141.255530108 and parameters: {'learning_rate_init': 0.07551254162867949, 'hidden_layer_sizes': 502, 'activation': 'tanh'}. Best is trial 89 with value: 196.66304710528593.\u001b[0m\n",
      "\u001b[32m[I 2024-04-08 12:31:48,398]\u001b[0m Trial 137 finished with value: 74051.64736943053 and parameters: {'learning_rate_init': 0.053819405028455045, 'hidden_layer_sizes': 532, 'activation': 'relu'}. Best is trial 89 with value: 196.66304710528593.\u001b[0m\n",
      "\u001b[32m[I 2024-04-08 12:31:49,218]\u001b[0m Trial 138 finished with value: 5117247.723492147 and parameters: {'learning_rate_init': 0.09799736035895344, 'hidden_layer_sizes': 473, 'activation': 'relu'}. Best is trial 89 with value: 196.66304710528593.\u001b[0m\n",
      "\u001b[32m[I 2024-04-08 12:31:49,940]\u001b[0m Trial 139 finished with value: 941243.1027154562 and parameters: {'learning_rate_init': 0.06633667129058683, 'hidden_layer_sizes': 568, 'activation': 'relu'}. Best is trial 89 with value: 196.66304710528593.\u001b[0m\n",
      "\u001b[32m[I 2024-04-08 12:31:50,223]\u001b[0m Trial 140 finished with value: 1615689.314282335 and parameters: {'learning_rate_init': 0.0029610260477930563, 'hidden_layer_sizes': 400, 'activation': 'relu'}. Best is trial 89 with value: 196.66304710528593.\u001b[0m\n",
      "\u001b[32m[I 2024-04-08 12:31:55,326]\u001b[0m Trial 141 finished with value: 851.0362615776401 and parameters: {'learning_rate_init': 0.041131938294994744, 'hidden_layer_sizes': 945, 'activation': 'relu'}. Best is trial 89 with value: 196.66304710528593.\u001b[0m\n",
      "\u001b[32m[I 2024-04-08 12:32:00,528]\u001b[0m Trial 142 finished with value: 821.2944268117897 and parameters: {'learning_rate_init': 0.017568596477635968, 'hidden_layer_sizes': 939, 'activation': 'relu'}. Best is trial 89 with value: 196.66304710528593.\u001b[0m\n",
      "\u001b[32m[I 2024-04-08 12:32:04,222]\u001b[0m Trial 143 finished with value: 15810.566234187852 and parameters: {'learning_rate_init': 0.022411116114161574, 'hidden_layer_sizes': 926, 'activation': 'relu'}. Best is trial 89 with value: 196.66304710528593.\u001b[0m\n",
      "\u001b[32m[I 2024-04-08 12:32:08,029]\u001b[0m Trial 144 finished with value: 66819.9419548775 and parameters: {'learning_rate_init': 0.014001360764911621, 'hidden_layer_sizes': 1000, 'activation': 'relu'}. Best is trial 89 with value: 196.66304710528593.\u001b[0m\n",
      "\u001b[32m[I 2024-04-08 12:32:12,166]\u001b[0m Trial 145 finished with value: 1938.9882195942191 and parameters: {'learning_rate_init': 0.03416546889363367, 'hidden_layer_sizes': 967, 'activation': 'relu'}. Best is trial 89 with value: 196.66304710528593.\u001b[0m\n",
      "\u001b[32m[I 2024-04-08 12:32:14,257]\u001b[0m Trial 146 finished with value: 1108371.0903564857 and parameters: {'learning_rate_init': 0.04916077548981035, 'hidden_layer_sizes': 878, 'activation': 'relu'}. Best is trial 89 with value: 196.66304710528593.\u001b[0m\n",
      "\u001b[32m[I 2024-04-08 12:32:15,698]\u001b[0m Trial 147 finished with value: 1296948.9525031375 and parameters: {'learning_rate_init': 0.0575249305318989, 'hidden_layer_sizes': 917, 'activation': 'relu'}. Best is trial 89 with value: 196.66304710528593.\u001b[0m\n",
      "\u001b[32m[I 2024-04-08 12:32:16,644]\u001b[0m Trial 148 finished with value: 1509573.0828613942 and parameters: {'learning_rate_init': 0.030163886383106037, 'hidden_layer_sizes': 1000, 'activation': 'identity'}. Best is trial 89 with value: 196.66304710528593.\u001b[0m\n",
      "\u001b[32m[I 2024-04-08 12:32:20,581]\u001b[0m Trial 149 finished with value: 128293.19888418473 and parameters: {'learning_rate_init': 0.013887859155395157, 'hidden_layer_sizes': 952, 'activation': 'relu'}. Best is trial 89 with value: 196.66304710528593.\u001b[0m\n",
      "\u001b[32m[I 2024-04-08 12:32:21,398]\u001b[0m Trial 150 finished with value: 2503432.541359467 and parameters: {'learning_rate_init': 0.08719036483706125, 'hidden_layer_sizes': 450, 'activation': 'relu'}. Best is trial 89 with value: 196.66304710528593.\u001b[0m\n",
      "\u001b[32m[I 2024-04-08 12:32:25,004]\u001b[0m Trial 151 finished with value: 49994.58853104226 and parameters: {'learning_rate_init': 0.044439839801794466, 'hidden_layer_sizes': 950, 'activation': 'relu'}. Best is trial 89 with value: 196.66304710528593.\u001b[0m\n",
      "\u001b[32m[I 2024-04-08 12:32:26,024]\u001b[0m Trial 152 finished with value: 854109.1586127153 and parameters: {'learning_rate_init': 0.037689817752176044, 'hidden_layer_sizes': 497, 'activation': 'relu'}. Best is trial 89 with value: 196.66304710528593.\u001b[0m\n",
      "\u001b[32m[I 2024-04-08 12:32:28,141]\u001b[0m Trial 153 finished with value: 5976.76075614877 and parameters: {'learning_rate_init': 0.054172100567972906, 'hidden_layer_sizes': 536, 'activation': 'relu'}. Best is trial 89 with value: 196.66304710528593.\u001b[0m\n",
      "\u001b[32m[I 2024-04-08 12:32:29,333]\u001b[0m Trial 154 finished with value: 3830103.8918923326 and parameters: {'learning_rate_init': 0.07326612589219468, 'hidden_layer_sizes': 637, 'activation': 'relu'}. Best is trial 89 with value: 196.66304710528593.\u001b[0m\n",
      "\u001b[32m[I 2024-04-08 12:32:31,977]\u001b[0m Trial 155 finished with value: 829.758341944845 and parameters: {'learning_rate_init': 0.04362676679091039, 'hidden_layer_sizes': 607, 'activation': 'relu'}. Best is trial 89 with value: 196.66304710528593.\u001b[0m\n",
      "\u001b[32m[I 2024-04-08 12:32:36,383]\u001b[0m Trial 156 finished with value: 6726.979602507934 and parameters: {'learning_rate_init': 0.02194291005948093, 'hidden_layer_sizes': 861, 'activation': 'relu'}. Best is trial 89 with value: 196.66304710528593.\u001b[0m\n",
      "\u001b[32m[I 2024-04-08 12:32:37,387]\u001b[0m Trial 157 finished with value: 525794.0302842263 and parameters: {'learning_rate_init': 0.06356733178657126, 'hidden_layer_sizes': 508, 'activation': 'relu'}. Best is trial 89 with value: 196.66304710528593.\u001b[0m\n",
      "\u001b[32m[I 2024-04-08 12:32:37,937]\u001b[0m Trial 158 finished with value: 1055378.490764891 and parameters: {'learning_rate_init': 0.0025571164358634078, 'hidden_layer_sizes': 906, 'activation': 'relu'}. Best is trial 89 with value: 196.66304710528593.\u001b[0m\n",
      "\u001b[32m[I 2024-04-08 12:32:40,351]\u001b[0m Trial 159 finished with value: 714.6181450745496 and parameters: {'learning_rate_init': 0.027643375147290664, 'hidden_layer_sizes': 602, 'activation': 'relu'}. Best is trial 89 with value: 196.66304710528593.\u001b[0m\n",
      "\u001b[32m[I 2024-04-08 12:32:41,896]\u001b[0m Trial 160 finished with value: 347087.9473232108 and parameters: {'learning_rate_init': 0.020237295869058806, 'hidden_layer_sizes': 605, 'activation': 'relu'}. Best is trial 89 with value: 196.66304710528593.\u001b[0m\n",
      "\u001b[32m[I 2024-04-08 12:32:43,321]\u001b[0m Trial 161 finished with value: 448800.4394124203 and parameters: {'learning_rate_init': 0.03710918598957187, 'hidden_layer_sizes': 554, 'activation': 'relu'}. Best is trial 89 with value: 196.66304710528593.\u001b[0m\n",
      "\u001b[32m[I 2024-04-08 12:32:45,073]\u001b[0m Trial 162 finished with value: 4102.257294724214 and parameters: {'learning_rate_init': 0.048115414666853505, 'hidden_layer_sizes': 617, 'activation': 'relu'}. Best is trial 89 with value: 196.66304710528593.\u001b[0m\n",
      "\u001b[32m[I 2024-04-08 12:32:47,396]\u001b[0m Trial 163 finished with value: 706.3073624465933 and parameters: {'learning_rate_init': 0.02681402374450276, 'hidden_layer_sizes': 583, 'activation': 'relu'}. Best is trial 89 with value: 196.66304710528593.\u001b[0m\n",
      "\u001b[32m[I 2024-04-08 12:32:49,223]\u001b[0m Trial 164 finished with value: 280505.98080099863 and parameters: {'learning_rate_init': 0.028569575862300765, 'hidden_layer_sizes': 566, 'activation': 'relu'}. Best is trial 89 with value: 196.66304710528593.\u001b[0m\n",
      "\u001b[32m[I 2024-04-08 12:32:51,132]\u001b[0m Trial 165 finished with value: 105595.96768425338 and parameters: {'learning_rate_init': 0.013535256682300116, 'hidden_layer_sizes': 587, 'activation': 'relu'}. Best is trial 89 with value: 196.66304710528593.\u001b[0m\n"
     ]
    },
    {
     "name": "stderr",
     "output_type": "stream",
     "text": [
      "\u001b[32m[I 2024-04-08 12:32:53,729]\u001b[0m Trial 166 finished with value: 16448552.474573076 and parameters: {'learning_rate_init': 0.057367926946714616, 'hidden_layer_sizes': 522, 'activation': 'tanh'}. Best is trial 89 with value: 196.66304710528593.\u001b[0m\n",
      "\u001b[32m[I 2024-04-08 12:32:57,844]\u001b[0m Trial 167 finished with value: 28964575.072282486 and parameters: {'learning_rate_init': 0.044361345691006256, 'hidden_layer_sizes': 544, 'activation': 'logistic'}. Best is trial 89 with value: 196.66304710528593.\u001b[0m\n",
      "\u001b[32m[I 2024-04-08 12:32:59,865]\u001b[0m Trial 168 finished with value: 115104.82992019106 and parameters: {'learning_rate_init': 0.028386878084026422, 'hidden_layer_sizes': 589, 'activation': 'relu'}. Best is trial 89 with value: 196.66304710528593.\u001b[0m\n",
      "\u001b[32m[I 2024-04-08 12:33:00,096]\u001b[0m Trial 169 finished with value: 57366516.45138903 and parameters: {'learning_rate_init': 0.48098465647218214, 'hidden_layer_sizes': 668, 'activation': 'relu'}. Best is trial 89 with value: 196.66304710528593.\u001b[0m\n",
      "\u001b[32m[I 2024-04-08 12:33:00,874]\u001b[0m Trial 170 finished with value: 4800846.317437079 and parameters: {'learning_rate_init': 0.0772684832679015, 'hidden_layer_sizes': 628, 'activation': 'relu'}. Best is trial 89 with value: 196.66304710528593.\u001b[0m\n",
      "\u001b[32m[I 2024-04-08 12:33:02,762]\u001b[0m Trial 171 finished with value: 422961.17853064963 and parameters: {'learning_rate_init': 0.03386183366554485, 'hidden_layer_sizes': 572, 'activation': 'relu'}. Best is trial 89 with value: 196.66304710528593.\u001b[0m\n",
      "\u001b[32m[I 2024-04-08 12:33:04,813]\u001b[0m Trial 172 finished with value: 558.6797635903753 and parameters: {'learning_rate_init': 0.049908345094125825, 'hidden_layer_sizes': 484, 'activation': 'relu'}. Best is trial 89 with value: 196.66304710528593.\u001b[0m\n",
      "\u001b[32m[I 2024-04-08 12:33:06,062]\u001b[0m Trial 173 finished with value: 379604.7154977737 and parameters: {'learning_rate_init': 0.06391590162365428, 'hidden_layer_sizes': 473, 'activation': 'relu'}. Best is trial 89 with value: 196.66304710528593.\u001b[0m\n",
      "\u001b[32m[I 2024-04-08 12:33:07,749]\u001b[0m Trial 174 finished with value: 80751.15109001874 and parameters: {'learning_rate_init': 0.05063030116594678, 'hidden_layer_sizes': 511, 'activation': 'relu'}. Best is trial 89 with value: 196.66304710528593.\u001b[0m\n",
      "\u001b[32m[I 2024-04-08 12:33:09,604]\u001b[0m Trial 175 finished with value: 150290.33330230266 and parameters: {'learning_rate_init': 0.01626765201395739, 'hidden_layer_sizes': 489, 'activation': 'relu'}. Best is trial 89 with value: 196.66304710528593.\u001b[0m\n",
      "\u001b[32m[I 2024-04-08 12:33:11,290]\u001b[0m Trial 176 finished with value: 5852.529182179012 and parameters: {'learning_rate_init': 0.04320587150477954, 'hidden_layer_sizes': 448, 'activation': 'relu'}. Best is trial 89 with value: 196.66304710528593.\u001b[0m\n",
      "\u001b[32m[I 2024-04-08 12:33:13,243]\u001b[0m Trial 177 finished with value: 71707.74804887906 and parameters: {'learning_rate_init': 0.026334007772499703, 'hidden_layer_sizes': 541, 'activation': 'relu'}. Best is trial 89 with value: 196.66304710528593.\u001b[0m\n",
      "\u001b[32m[I 2024-04-08 12:33:13,841]\u001b[0m Trial 178 finished with value: 860181.9486750079 and parameters: {'learning_rate_init': 0.06156403061207871, 'hidden_layer_sizes': 603, 'activation': 'relu'}. Best is trial 89 with value: 196.66304710528593.\u001b[0m\n",
      "\u001b[32m[I 2024-04-08 12:33:15,896]\u001b[0m Trial 179 finished with value: 1403.642267109326 and parameters: {'learning_rate_init': 0.04128267276640541, 'hidden_layer_sizes': 557, 'activation': 'relu'}. Best is trial 89 with value: 196.66304710528593.\u001b[0m\n",
      "\u001b[32m[I 2024-04-08 12:33:16,283]\u001b[0m Trial 180 finished with value: 1188478.7312581544 and parameters: {'learning_rate_init': 0.0015391592179389985, 'hidden_layer_sizes': 521, 'activation': 'relu'}. Best is trial 89 with value: 196.66304710528593.\u001b[0m\n",
      "\u001b[32m[I 2024-04-08 12:33:20,101]\u001b[0m Trial 181 finished with value: 6146.745130782265 and parameters: {'learning_rate_init': 0.030200237359923117, 'hidden_layer_sizes': 942, 'activation': 'relu'}. Best is trial 89 with value: 196.66304710528593.\u001b[0m\n",
      "\u001b[32m[I 2024-04-08 12:33:21,756]\u001b[0m Trial 182 finished with value: 812747.672510772 and parameters: {'learning_rate_init': 0.05209947241779018, 'hidden_layer_sizes': 977, 'activation': 'relu'}. Best is trial 89 with value: 196.66304710528593.\u001b[0m\n",
      "\u001b[32m[I 2024-04-08 12:33:23,060]\u001b[0m Trial 183 finished with value: 7715884.199743581 and parameters: {'learning_rate_init': 0.24654290997490275, 'hidden_layer_sizes': 895, 'activation': 'relu'}. Best is trial 89 with value: 196.66304710528593.\u001b[0m\n",
      "\u001b[32m[I 2024-04-08 12:33:24,327]\u001b[0m Trial 184 finished with value: 13580593.203727927 and parameters: {'learning_rate_init': 0.343151609437637, 'hidden_layer_sizes': 823, 'activation': 'relu'}. Best is trial 89 with value: 196.66304710528593.\u001b[0m\n",
      "\u001b[32m[I 2024-04-08 12:33:25,035]\u001b[0m Trial 185 finished with value: 946970.3893425327 and parameters: {'learning_rate_init': 0.0381700485613231, 'hidden_layer_sizes': 489, 'activation': 'relu'}. Best is trial 89 with value: 196.66304710528593.\u001b[0m\n",
      "\u001b[32m[I 2024-04-08 12:33:25,815]\u001b[0m Trial 186 finished with value: 71061.00688333956 and parameters: {'learning_rate_init': 0.020208832346689787, 'hidden_layer_sizes': 717, 'activation': 'identity'}. Best is trial 89 with value: 196.66304710528593.\u001b[0m\n",
      "\u001b[32m[I 2024-04-08 12:33:26,725]\u001b[0m Trial 187 finished with value: 5364677.424136634 and parameters: {'learning_rate_init': 0.07298111613666743, 'hidden_layer_sizes': 922, 'activation': 'relu'}. Best is trial 89 with value: 196.66304710528593.\u001b[0m\n",
      "\u001b[32m[I 2024-04-08 12:33:28,469]\u001b[0m Trial 188 finished with value: 215.19045069748648 and parameters: {'learning_rate_init': 0.052985911266628445, 'hidden_layer_sizes': 429, 'activation': 'relu'}. Best is trial 89 with value: 196.66304710528593.\u001b[0m\n",
      "\u001b[32m[I 2024-04-08 12:33:30,282]\u001b[0m Trial 189 finished with value: 1945.1147817298292 and parameters: {'learning_rate_init': 0.05546871757361423, 'hidden_layer_sizes': 464, 'activation': 'relu'}. Best is trial 89 with value: 196.66304710528593.\u001b[0m\n",
      "\u001b[32m[I 2024-04-08 12:33:30,996]\u001b[0m Trial 190 finished with value: 1993991.1908305287 and parameters: {'learning_rate_init': 0.08375951563889338, 'hidden_layer_sizes': 367, 'activation': 'relu'}. Best is trial 89 with value: 196.66304710528593.\u001b[0m\n",
      "\u001b[32m[I 2024-04-08 12:33:32,453]\u001b[0m Trial 191 finished with value: 469500.3270255515 and parameters: {'learning_rate_init': 0.03661295209428107, 'hidden_layer_sizes': 530, 'activation': 'relu'}. Best is trial 89 with value: 196.66304710528593.\u001b[0m\n",
      "\u001b[32m[I 2024-04-08 12:33:34,414]\u001b[0m Trial 192 finished with value: 70730.35402600668 and parameters: {'learning_rate_init': 0.050884894068446894, 'hidden_layer_sizes': 581, 'activation': 'relu'}. Best is trial 89 with value: 196.66304710528593.\u001b[0m\n",
      "\u001b[32m[I 2024-04-08 12:33:35,250]\u001b[0m Trial 193 finished with value: 10642.444459663206 and parameters: {'learning_rate_init': 0.06601058506490512, 'hidden_layer_sizes': 423, 'activation': 'relu'}. Best is trial 89 with value: 196.66304710528593.\u001b[0m\n",
      "\u001b[32m[I 2024-04-08 12:33:37,124]\u001b[0m Trial 194 finished with value: 818135.9112848263 and parameters: {'learning_rate_init': 0.014244482873094788, 'hidden_layer_sizes': 803, 'activation': 'relu'}. Best is trial 89 with value: 196.66304710528593.\u001b[0m\n",
      "\u001b[32m[I 2024-04-08 12:33:38,659]\u001b[0m Trial 195 finished with value: 429489.6762091008 and parameters: {'learning_rate_init': 0.031910903952385904, 'hidden_layer_sizes': 694, 'activation': 'relu'}. Best is trial 89 with value: 196.66304710528593.\u001b[0m\n",
      "\u001b[32m[I 2024-04-08 12:33:40,255]\u001b[0m Trial 196 finished with value: 1871.7076562588159 and parameters: {'learning_rate_init': 0.046383618257623056, 'hidden_layer_sizes': 545, 'activation': 'relu'}. Best is trial 89 with value: 196.66304710528593.\u001b[0m\n",
      "\u001b[32m[I 2024-04-08 12:33:42,310]\u001b[0m Trial 197 finished with value: 27708.280900379974 and parameters: {'learning_rate_init': 0.02397739517480237, 'hidden_layer_sizes': 566, 'activation': 'relu'}. Best is trial 89 with value: 196.66304710528593.\u001b[0m\n",
      "\u001b[32m[I 2024-04-08 12:33:46,970]\u001b[0m Trial 198 finished with value: 32987126.262852233 and parameters: {'learning_rate_init': 0.03842682922706478, 'hidden_layer_sizes': 507, 'activation': 'logistic'}. Best is trial 89 with value: 196.66304710528593.\u001b[0m\n"
     ]
    },
    {
     "name": "stderr",
     "output_type": "stream",
     "text": [
      "\u001b[32m[I 2024-04-08 12:33:48,079]\u001b[0m Trial 199 finished with value: 94611.73704833667 and parameters: {'learning_rate_init': 0.06467227149075053, 'hidden_layer_sizes': 396, 'activation': 'relu'}. Best is trial 89 with value: 196.66304710528593.\u001b[0m\n"
     ]
    }
   ],
   "source": [
    "study5 = optuna.create_study(direction='minimize',sampler=TPESampler())\n",
    "\n",
    "study5.optimize(lambda trial: objective(trial,Xe_train,ye_train),n_trials= 200)"
   ]
  },
  {
   "cell_type": "code",
   "execution_count": 20,
   "id": "d920bb19",
   "metadata": {
    "scrolled": false
   },
   "outputs": [
    {
     "data": {
      "image/png": "[encoded data removed]",
      "text/plain": [
       "<Figure size 432x288 with 1 Axes>"
      ]
     },
     "metadata": {
      "needs_background": "light"
     },
     "output_type": "display_data"
    }
   ],
   "source": [
    "model5 = MLPRegressor(**study5.best_trial.params)\n",
    "model5.fit(np.array(Xe_train),ye_train)\n",
    "\n",
    "Z1 = model5.predict(np.array(Xe_train))\n",
    "Z2 = model5.predict(np.array(Xe_test))\n",
    "\n",
    "#xx = np.linspace(-1, 4, 10)\n",
    "#yy = xx\n",
    "\n",
    "plt.figure()\n",
    "#plt.plot(xx, yy, c='k', linewidth=2)\n",
    "plt.scatter(ye_train, Z1, marker='s')\n",
    "plt.scatter(ye_test, Z2, marker='o')\n",
    "\n",
    "plt.grid()\n",
    "plt.legend(['Training set', 'Testing set'], loc = 'upper left')\n",
    "plt.tick_params (axis = 'both', which = 'major')\n",
    "plt.axis('tight')\n",
    "plt.xlabel('Actual')\n",
    "plt.ylabel('Pred')\n",
    "\n",
    "plt.tight_layout()\n",
    "plt.show()"
   ]
  },
  {
   "cell_type": "code",
   "execution_count": 21,
   "id": "44186925",
   "metadata": {},
   "outputs": [],
   "source": [
    "# model 6\n",
    "\n",
    "def objective(trial) -> float:\n",
    "    n = trial.suggest_int(\"n\",1,50)\n",
    "    model6 = model5\n",
    "    for num in range(1,n):\n",
    "        model6.partial_fit(np.array(Xn_train), ys_train)\n",
    "    return r2_score(ys_train, model6.predict(np.array(Xn_train)))+r2_score(ye_train, model6.predict(np.array(Xe_train)))"
   ]
  },
  {
   "cell_type": "code",
   "execution_count": 22,
   "id": "f2118a83",
   "metadata": {
    "scrolled": true
   },
   "outputs": [
    {
     "name": "stderr",
     "output_type": "stream",
     "text": [
      "\u001b[32m[I 2024-04-08 12:33:48,451]\u001b[0m A new study created in memory with name: no-name-b31a0611-23a4-4285-9f3d-e38946913db1\u001b[0m\n",
      "\u001b[32m[I 2024-04-08 12:33:48,574]\u001b[0m Trial 0 finished with value: 1.8795457708489451 and parameters: {'n': 30}. Best is trial 0 with value: 1.8795457708489451.\u001b[0m\n",
      "\u001b[32m[I 2024-04-08 12:33:48,729]\u001b[0m Trial 1 finished with value: 1.8608344184858172 and parameters: {'n': 39}. Best is trial 0 with value: 1.8795457708489451.\u001b[0m\n",
      "\u001b[32m[I 2024-04-08 12:33:48,890]\u001b[0m Trial 2 finished with value: 1.830652213479925 and parameters: {'n': 42}. Best is trial 0 with value: 1.8795457708489451.\u001b[0m\n",
      "\u001b[32m[I 2024-04-08 12:33:48,984]\u001b[0m Trial 3 finished with value: 1.8114803610221157 and parameters: {'n': 24}. Best is trial 0 with value: 1.8795457708489451.\u001b[0m\n",
      "\u001b[32m[I 2024-04-08 12:33:49,017]\u001b[0m Trial 4 finished with value: 1.8056533631296316 and parameters: {'n': 8}. Best is trial 0 with value: 1.8795457708489451.\u001b[0m\n",
      "\u001b[32m[I 2024-04-08 12:33:49,127]\u001b[0m Trial 5 finished with value: 1.7848460797851142 and parameters: {'n': 27}. Best is trial 0 with value: 1.8795457708489451.\u001b[0m\n",
      "\u001b[32m[I 2024-04-08 12:33:49,229]\u001b[0m Trial 6 finished with value: 1.7674626803644562 and parameters: {'n': 25}. Best is trial 0 with value: 1.8795457708489451.\u001b[0m\n",
      "\u001b[32m[I 2024-04-08 12:33:49,252]\u001b[0m Trial 7 finished with value: 1.7647644929941937 and parameters: {'n': 5}. Best is trial 0 with value: 1.8795457708489451.\u001b[0m\n",
      "\u001b[32m[I 2024-04-08 12:33:49,332]\u001b[0m Trial 8 finished with value: 1.7527200439885968 and parameters: {'n': 20}. Best is trial 0 with value: 1.8795457708489451.\u001b[0m\n",
      "\u001b[32m[I 2024-04-08 12:33:49,471]\u001b[0m Trial 9 finished with value: 1.7365319442088705 and parameters: {'n': 30}. Best is trial 0 with value: 1.8795457708489451.\u001b[0m\n",
      "\u001b[32m[I 2024-04-08 12:33:49,533]\u001b[0m Trial 10 finished with value: 1.7299566628651526 and parameters: {'n': 14}. Best is trial 0 with value: 1.8795457708489451.\u001b[0m\n",
      "\u001b[32m[I 2024-04-08 12:33:49,719]\u001b[0m Trial 11 finished with value: 1.7092414422053144 and parameters: {'n': 46}. Best is trial 0 with value: 1.8795457708489451.\u001b[0m\n",
      "\u001b[32m[I 2024-04-08 12:33:49,871]\u001b[0m Trial 12 finished with value: 1.6937941214398076 and parameters: {'n': 37}. Best is trial 0 with value: 1.8795457708489451.\u001b[0m\n",
      "\u001b[32m[I 2024-04-08 12:33:50,020]\u001b[0m Trial 13 finished with value: 1.6785877628713395 and parameters: {'n': 37}. Best is trial 0 with value: 1.8795457708489451.\u001b[0m\n",
      "\u001b[32m[I 2024-04-08 12:33:50,158]\u001b[0m Trial 14 finished with value: 1.6646007138074403 and parameters: {'n': 34}. Best is trial 0 with value: 1.8795457708489451.\u001b[0m\n",
      "\u001b[32m[I 2024-04-08 12:33:50,344]\u001b[0m Trial 15 finished with value: 1.6449574154231463 and parameters: {'n': 47}. Best is trial 0 with value: 1.8795457708489451.\u001b[0m\n",
      "\u001b[32m[I 2024-04-08 12:33:50,540]\u001b[0m Trial 16 finished with value: 1.6240126805052855 and parameters: {'n': 50}. Best is trial 0 with value: 1.8795457708489451.\u001b[0m\n",
      "\u001b[32m[I 2024-04-08 12:33:50,615]\u001b[0m Trial 17 finished with value: 1.6167684867206633 and parameters: {'n': 18}. Best is trial 0 with value: 1.8795457708489451.\u001b[0m\n",
      "\u001b[32m[I 2024-04-08 12:33:50,742]\u001b[0m Trial 18 finished with value: 1.6037393249393008 and parameters: {'n': 32}. Best is trial 0 with value: 1.8795457708489451.\u001b[0m\n",
      "\u001b[32m[I 2024-04-08 12:33:50,916]\u001b[0m Trial 19 finished with value: 1.5872651357801764 and parameters: {'n': 41}. Best is trial 0 with value: 1.8795457708489451.\u001b[0m\n",
      "\u001b[32m[I 2024-04-08 12:33:51,072]\u001b[0m Trial 20 finished with value: 1.571914309425893 and parameters: {'n': 40}. Best is trial 0 with value: 1.8795457708489451.\u001b[0m\n",
      "\u001b[32m[I 2024-04-08 12:33:51,240]\u001b[0m Trial 21 finished with value: 1.5565143347302526 and parameters: {'n': 43}. Best is trial 0 with value: 1.8795457708489451.\u001b[0m\n",
      "\u001b[32m[I 2024-04-08 12:33:51,383]\u001b[0m Trial 22 finished with value: 1.5447472921328373 and parameters: {'n': 36}. Best is trial 0 with value: 1.8795457708489451.\u001b[0m\n",
      "\u001b[32m[I 2024-04-08 12:33:51,508]\u001b[0m Trial 23 finished with value: 1.5356554371644116 and parameters: {'n': 30}. Best is trial 0 with value: 1.8795457708489451.\u001b[0m\n",
      "\u001b[32m[I 2024-04-08 12:33:51,675]\u001b[0m Trial 24 finished with value: 1.5234874842573316 and parameters: {'n': 43}. Best is trial 0 with value: 1.8795457708489451.\u001b[0m\n",
      "\u001b[32m[I 2024-04-08 12:33:51,871]\u001b[0m Trial 25 finished with value: 1.5110375632021578 and parameters: {'n': 50}. Best is trial 0 with value: 1.8795457708489451.\u001b[0m\n",
      "\u001b[32m[I 2024-04-08 12:33:52,028]\u001b[0m Trial 26 finished with value: 1.5020635864924738 and parameters: {'n': 40}. Best is trial 0 with value: 1.8795457708489451.\u001b[0m\n",
      "\u001b[32m[I 2024-04-08 12:33:52,160]\u001b[0m Trial 27 finished with value: 1.4949900656768262 and parameters: {'n': 34}. Best is trial 0 with value: 1.8795457708489451.\u001b[0m\n",
      "\u001b[32m[I 2024-04-08 12:33:52,276]\u001b[0m Trial 28 finished with value: 1.4894230892074831 and parameters: {'n': 29}. Best is trial 0 with value: 1.8795457708489451.\u001b[0m\n",
      "\u001b[32m[I 2024-04-08 12:33:52,351]\u001b[0m Trial 29 finished with value: 1.4860618271601571 and parameters: {'n': 19}. Best is trial 0 with value: 1.8795457708489451.\u001b[0m\n",
      "\u001b[32m[I 2024-04-08 12:33:52,444]\u001b[0m Trial 30 finished with value: 1.4821135227490216 and parameters: {'n': 23}. Best is trial 0 with value: 1.8795457708489451.\u001b[0m\n",
      "\u001b[32m[I 2024-04-08 12:33:52,493]\u001b[0m Trial 31 finished with value: 1.4803881510090946 and parameters: {'n': 11}. Best is trial 0 with value: 1.8795457708489451.\u001b[0m\n",
      "\u001b[32m[I 2024-04-08 12:33:52,596]\u001b[0m Trial 32 finished with value: 1.476300603518569 and parameters: {'n': 26}. Best is trial 0 with value: 1.8795457708489451.\u001b[0m\n",
      "\u001b[32m[I 2024-04-08 12:33:52,684]\u001b[0m Trial 33 finished with value: 1.473010216386013 and parameters: {'n': 22}. Best is trial 0 with value: 1.8795457708489451.\u001b[0m\n",
      "\u001b[32m[I 2024-04-08 12:33:52,693]\u001b[0m Trial 34 finished with value: 1.473010216386013 and parameters: {'n': 1}. Best is trial 0 with value: 1.8795457708489451.\u001b[0m\n",
      "\u001b[32m[I 2024-04-08 12:33:52,803]\u001b[0m Trial 35 finished with value: 1.4691771548953692 and parameters: {'n': 27}. Best is trial 0 with value: 1.8795457708489451.\u001b[0m\n",
      "\u001b[32m[I 2024-04-08 12:33:52,861]\u001b[0m Trial 36 finished with value: 1.467330522963569 and parameters: {'n': 14}. Best is trial 0 with value: 1.8795457708489451.\u001b[0m\n",
      "\u001b[32m[I 2024-04-08 12:33:52,957]\u001b[0m Trial 37 finished with value: 1.464141402703168 and parameters: {'n': 24}. Best is trial 0 with value: 1.8795457708489451.\u001b[0m\n",
      "\u001b[32m[I 2024-04-08 12:33:53,083]\u001b[0m Trial 38 finished with value: 1.459882070070993 and parameters: {'n': 32}. Best is trial 0 with value: 1.8795457708489451.\u001b[0m\n",
      "\u001b[32m[I 2024-04-08 12:33:53,262]\u001b[0m Trial 39 finished with value: 1.4540899911828893 and parameters: {'n': 46}. Best is trial 0 with value: 1.8795457708489451.\u001b[0m\n",
      "\u001b[32m[I 2024-04-08 12:33:53,412]\u001b[0m Trial 40 finished with value: 1.4497315447289456 and parameters: {'n': 38}. Best is trial 0 with value: 1.8795457708489451.\u001b[0m\n",
      "\u001b[32m[I 2024-04-08 12:33:53,439]\u001b[0m Trial 41 finished with value: 1.4491610413119766 and parameters: {'n': 6}. Best is trial 0 with value: 1.8795457708489451.\u001b[0m\n",
      "\u001b[32m[I 2024-04-08 12:33:53,478]\u001b[0m Trial 42 finished with value: 1.4482678782095653 and parameters: {'n': 9}. Best is trial 0 with value: 1.8795457708489451.\u001b[0m\n",
      "\u001b[32m[I 2024-04-08 12:33:53,544]\u001b[0m Trial 43 finished with value: 1.4466068825120548 and parameters: {'n': 16}. Best is trial 0 with value: 1.8795457708489451.\u001b[0m\n",
      "\u001b[32m[I 2024-04-08 12:33:53,553]\u001b[0m Trial 44 finished with value: 1.4466068825120548 and parameters: {'n': 1}. Best is trial 0 with value: 1.8795457708489451.\u001b[0m\n",
      "\u001b[32m[I 2024-04-08 12:33:53,692]\u001b[0m Trial 45 finished with value: 1.4429638486115457 and parameters: {'n': 35}. Best is trial 0 with value: 1.8795457708489451.\u001b[0m\n",
      "\u001b[32m[I 2024-04-08 12:33:53,859]\u001b[0m Trial 46 finished with value: 1.4386354907381707 and parameters: {'n': 42}. Best is trial 0 with value: 1.8795457708489451.\u001b[0m\n",
      "\u001b[32m[I 2024-04-08 12:33:53,944]\u001b[0m Trial 47 finished with value: 1.4364708513600037 and parameters: {'n': 21}. Best is trial 0 with value: 1.8795457708489451.\u001b[0m\n",
      "\u001b[32m[I 2024-04-08 12:33:54,126]\u001b[0m Trial 48 finished with value: 1.4320214176677517 and parameters: {'n': 47}. Best is trial 0 with value: 1.8795457708489451.\u001b[0m\n",
      "\u001b[32m[I 2024-04-08 12:33:54,276]\u001b[0m Trial 49 finished with value: 1.429017014628601 and parameters: {'n': 38}. Best is trial 0 with value: 1.8795457708489451.\u001b[0m\n"
     ]
    },
    {
     "data": {
      "text/plain": [
       "{'n': 30}"
      ]
     },
     "execution_count": 22,
     "metadata": {},
     "output_type": "execute_result"
    }
   ],
   "source": [
    "study6 = optuna.create_study(direction='maximize',sampler=TPESampler())\n",
    "study6.optimize(objective, n_trials=50)  # number of iterations\n",
    "study6.best_params"
   ]
  },
  {
   "cell_type": "code",
   "execution_count": 23,
   "id": "ab5423a0",
   "metadata": {},
   "outputs": [],
   "source": [
    "n = study6.best_params.get(\"n\")\n",
    "model6=model5\n",
    "for num in range(1,n):\n",
    "    model6.partial_fit(np.array(Xn_train), ys_train)"
   ]
  },
  {
   "cell_type": "code",
   "execution_count": 24,
   "id": "8925bb3a",
   "metadata": {
    "scrolled": false
   },
   "outputs": [
    {
     "data": {
      "image/png": "[encoded data removed]",
      "text/plain": [
       "<Figure size 432x288 with 1 Axes>"
      ]
     },
     "metadata": {
      "needs_background": "light"
     },
     "output_type": "display_data"
    }
   ],
   "source": [
    "Z1=model6.predict(Xn_train)\n",
    "Z2=model6.predict(Xn_test)\n",
    "plt.figure()\n",
    "#plt.plot(xx, yy, c='k', linewidth=2)\n",
    "plt.scatter(ys_train, Z1, marker='s')\n",
    "plt.scatter(ys_test, Z2, marker='o')\n",
    "\n",
    "plt.grid()\n",
    "plt.legend(['Training set', 'Testing set'], loc = 'upper left')\n",
    "plt.tick_params (axis = 'both', which = 'major')\n",
    "plt.axis('tight')\n",
    "plt.xlabel('Actual')\n",
    "plt.ylabel('Pred')\n",
    "\n",
    "plt.tight_layout()\n",
    "plt.show()"
   ]
  },
  {
   "cell_type": "markdown",
   "id": "a1c8cfc7",
   "metadata": {},
   "source": [
    "## Test Int."
   ]
  },
  {
   "cell_type": "code",
   "execution_count": 25,
   "id": "ec3f3c54",
   "metadata": {
    "scrolled": true
   },
   "outputs": [
    {
     "name": "stdout",
     "output_type": "stream",
     "text": [
      "M1 Int. R2: 0.8893532741994659 RMSE: 42.33449112503786 MAE: 22.256090983036586\n",
      "M2 Int. R2: -5.85782668667996 RMSE: 333.2869529879802 MAE: 222.66789945535672\n",
      "M3 Int. R2: 0.8789719580890083 RMSE: 44.275967882663835 MAE: 28.451099412414507\n",
      "M4 Int. R2: 0.5284557253312583 RMSE: 87.39494197052466 MAE: 57.04724100408344\n",
      "M5 Int. R2: 0.9751710259988289 RMSE: 20.054158685101708 MAE: 11.406380237419702\n"
     ]
    }
   ],
   "source": [
    "P1 = model1.predict(Xo_test)\n",
    "P2 = model2.predict(np.array(Xo_test))\n",
    "P3 = model3.predict(Xo_test)\n",
    "P4 = model4.predict(Xo_test)\n",
    "P5 = model6.predict(Xn_test)\n",
    "\n",
    "print(\"M1 Int. R2:\", r2_score(ys_test, P1), \"RMSE:\", np.sqrt(mean_squared_error(ys_test, P1)), \"MAE:\", mean_absolute_error(ys_test, P1))\n",
    "print(\"M2 Int. R2:\", r2_score(ys_test, P2), \"RMSE:\", np.sqrt(mean_squared_error(ys_test, P2)), \"MAE:\", mean_absolute_error(ys_test, P2))\n",
    "print(\"M3 Int. R2:\", r2_score(ys_test, P3), \"RMSE:\", np.sqrt(mean_squared_error(ys_test, P3)), \"MAE:\", mean_absolute_error(ys_test, P3))\n",
    "print(\"M4 Int. R2:\", r2_score(ys_test, P4), \"RMSE:\", np.sqrt(mean_squared_error(ys_test, P4)), \"MAE:\", mean_absolute_error(ys_test, P4))\n",
    "print(\"M5 Int. R2:\", r2_score(ys_test, P5), \"RMSE:\", np.sqrt(mean_squared_error(ys_test, P5)), \"MAE:\", mean_absolute_error(ys_test, P5))"
   ]
  },
  {
   "cell_type": "code",
   "execution_count": 26,
   "id": "776b56ec",
   "metadata": {},
   "outputs": [
    {
     "name": "stdout",
     "output_type": "stream",
     "text": [
      "M1 MAPE: 0.30619424413974444 M2 MAPE: 3.4424052334946245 M3 MAPE: 0.6001755258876453 M4 MAPE: 1.2128772815850728 M5 MAPE: 0.163762857406317\n"
     ]
    }
   ],
   "source": [
    "from sklearn.metrics import mean_absolute_percentage_error\n",
    "\n",
    "MAPE1 = mean_absolute_percentage_error(ys_test,P1)\n",
    "MAPE2 = mean_absolute_percentage_error(ys_test,P2)\n",
    "MAPE3 = mean_absolute_percentage_error(ys_test,P3)\n",
    "MAPE4 = mean_absolute_percentage_error(ys_test,P4)\n",
    "MAPE5 = mean_absolute_percentage_error(ys_test,P5)\n",
    "\n",
    "print(\"M1 MAPE:\",MAPE1,\"M2 MAPE:\",MAPE2,\"M3 MAPE:\",MAPE3,\"M4 MAPE:\",MAPE4,\"M5 MAPE:\",MAPE5)"
   ]
  },
  {
   "cell_type": "markdown",
   "id": "718f96a6",
   "metadata": {},
   "source": [
    "## Test Extra."
   ]
  },
  {
   "cell_type": "code",
   "execution_count": 28,
   "id": "a600a515",
   "metadata": {},
   "outputs": [
    {
     "name": "stdout",
     "output_type": "stream",
     "text": [
      "M1 Extra. R2: -1.5676289222936348 RMSE: 1799.9701844671042 MAE: 1434.3272338867184\n",
      "M2 Extra. R2: -62.59088223629231 RMSE: 8957.70192693617 MAE: 6562.907264258712\n",
      "M3 Extra. R2: -0.03357685383331477 RMSE: 1142.011742120734 MAE: 1002.2698648796421\n",
      "M4 Extra. R2: -18.409506903277 RMSE: 4948.874413529595 MAE: 4229.528654145996\n",
      "M5 Extra. R2: 0.9055169384421949 RMSE: 345.2837664970306 MAE: 254.3214343498423\n"
     ]
    }
   ],
   "source": [
    "dext = pd.read_csv('EX.csv')\n",
    "\n",
    "Xnext = dext.iloc[:,1:10]\n",
    "Xoext = dext.iloc[:,10:]\n",
    "yext = dext.iloc[:,[0]]\n",
    "\n",
    "Pe1 = model1.predict(Xoext)\n",
    "Pe2 = model2.predict(np.array(Xoext))\n",
    "Pe3 = model3.predict(Xoext)\n",
    "Pe4 = model4.predict(Xoext)\n",
    "Pe5 = model6.predict(Xnext)\n",
    "\n",
    "print(\"M1 Extra. R2:\", r2_score(yext, Pe1), \"RMSE:\", np.sqrt(mean_squared_error(yext, Pe1)), \"MAE:\", mean_absolute_error(yext, Pe1))\n",
    "print(\"M2 Extra. R2:\", r2_score(yext, Pe2), \"RMSE:\", np.sqrt(mean_squared_error(yext, Pe2)), \"MAE:\", mean_absolute_error(yext, Pe2))\n",
    "print(\"M3 Extra. R2:\", r2_score(yext, Pe3), \"RMSE:\", np.sqrt(mean_squared_error(yext, Pe3)), \"MAE:\", mean_absolute_error(yext, Pe3))\n",
    "print(\"M4 Extra. R2:\", r2_score(yext, Pe4), \"RMSE:\", np.sqrt(mean_squared_error(yext, Pe4)), \"MAE:\", mean_absolute_error(yext, Pe4))\n",
    "print(\"M5 Extra. R2:\", r2_score(yext, Pe5), \"RMSE:\", np.sqrt(mean_squared_error(yext, Pe5)), \"MAE:\", mean_absolute_error(yext, Pe5))"
   ]
  },
  {
   "cell_type": "code",
   "execution_count": 29,
   "id": "5d926353",
   "metadata": {},
   "outputs": [
    {
     "name": "stdout",
     "output_type": "stream",
     "text": [
      "M1 MAPE: 0.7685659496179725 M2 MAPE: 3.5888436627807834 M3 MAPE: 0.6374846727615687 M4 MAPE: 2.5809982879031654 M5 MAPE: 0.1568479558831627\n"
     ]
    }
   ],
   "source": [
    "from sklearn.metrics import mean_absolute_percentage_error\n",
    "\n",
    "MAPE1 = mean_absolute_percentage_error(yext,Pe1)\n",
    "MAPE2 = mean_absolute_percentage_error(yext,Pe2)\n",
    "MAPE3 = mean_absolute_percentage_error(yext,Pe3)\n",
    "MAPE4 = mean_absolute_percentage_error(yext,Pe4)\n",
    "MAPE5 = mean_absolute_percentage_error(yext,Pe5)\n",
    "\n",
    "print(\"M1 MAPE:\",MAPE1,\"M2 MAPE:\",MAPE2,\"M3 MAPE:\",MAPE3,\"M4 MAPE:\",MAPE4,\"M5 MAPE:\",MAPE5)"
   ]
  }
 ],
 "metadata": {
  "kernelspec": {
   "display_name": "Python 3 (ipykernel)",
   "language": "python",
   "name": "python3"
  },
  "language_info": {
   "codemirror_mode": {
    "name": "ipython",
    "version": 3
   },
   "file_extension": ".py",
   "mimetype": "text/x-python",
   "name": "python",
   "nbconvert_exporter": "python",
   "pygments_lexer": "ipython3",
   "version": "3.9.7"
  }
 },
 "nbformat": 4,
 "nbformat_minor": 5
}
